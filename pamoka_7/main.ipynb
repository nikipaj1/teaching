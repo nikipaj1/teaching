{
 "cells": [
  {
   "cell_type": "markdown",
   "metadata": {},
   "source": [
    "# 7 Pamoka"
   ]
  },
  {
   "cell_type": "code",
   "execution_count": 4,
   "metadata": {},
   "outputs": [],
   "source": [
    "# !pip3 install pandas\n",
    "# !pip3 install numpy"
   ]
  },
  {
   "cell_type": "code",
   "execution_count": 6,
   "metadata": {},
   "outputs": [],
   "source": [
    "import pandas as pd\n",
    "import numpy as np"
   ]
  },
  {
   "cell_type": "code",
   "execution_count": 35,
   "metadata": {},
   "outputs": [],
   "source": [
    "top = pd.read_csv(\"https://raw.githubusercontent.com/nikipaj1/teaching/main/pamoka_7/top50.csv\", encoding=\"ISO-8859-1\")"
   ]
  },
  {
   "cell_type": "code",
   "execution_count": 36,
   "metadata": {},
   "outputs": [
    {
     "data": {
      "text/html": [
       "<div>\n",
       "<style scoped>\n",
       "    .dataframe tbody tr th:only-of-type {\n",
       "        vertical-align: middle;\n",
       "    }\n",
       "\n",
       "    .dataframe tbody tr th {\n",
       "        vertical-align: top;\n",
       "    }\n",
       "\n",
       "    .dataframe thead th {\n",
       "        text-align: right;\n",
       "    }\n",
       "</style>\n",
       "<table border=\"1\" class=\"dataframe\">\n",
       "  <thead>\n",
       "    <tr style=\"text-align: right;\">\n",
       "      <th></th>\n",
       "      <th>Unnamed: 0</th>\n",
       "      <th>Track.Name</th>\n",
       "      <th>Artist.Name</th>\n",
       "      <th>Genre</th>\n",
       "      <th>Beats.Per.Minute</th>\n",
       "      <th>Energy</th>\n",
       "      <th>Danceability</th>\n",
       "      <th>Loudness..dB..</th>\n",
       "      <th>Liveness</th>\n",
       "      <th>Valence.</th>\n",
       "      <th>Length.</th>\n",
       "      <th>Acousticness..</th>\n",
       "      <th>Speechiness.</th>\n",
       "      <th>Popularity</th>\n",
       "    </tr>\n",
       "  </thead>\n",
       "  <tbody>\n",
       "    <tr>\n",
       "      <th>0</th>\n",
       "      <td>1</td>\n",
       "      <td>Señorita</td>\n",
       "      <td>Shawn Mendes</td>\n",
       "      <td>canadian pop</td>\n",
       "      <td>117</td>\n",
       "      <td>55</td>\n",
       "      <td>76</td>\n",
       "      <td>-6</td>\n",
       "      <td>8</td>\n",
       "      <td>75</td>\n",
       "      <td>191</td>\n",
       "      <td>4</td>\n",
       "      <td>3</td>\n",
       "      <td>79</td>\n",
       "    </tr>\n",
       "    <tr>\n",
       "      <th>1</th>\n",
       "      <td>2</td>\n",
       "      <td>China</td>\n",
       "      <td>Anuel AA</td>\n",
       "      <td>reggaeton flow</td>\n",
       "      <td>105</td>\n",
       "      <td>81</td>\n",
       "      <td>79</td>\n",
       "      <td>-4</td>\n",
       "      <td>8</td>\n",
       "      <td>61</td>\n",
       "      <td>302</td>\n",
       "      <td>8</td>\n",
       "      <td>9</td>\n",
       "      <td>92</td>\n",
       "    </tr>\n",
       "    <tr>\n",
       "      <th>2</th>\n",
       "      <td>3</td>\n",
       "      <td>boyfriend (with Social House)</td>\n",
       "      <td>Ariana Grande</td>\n",
       "      <td>dance pop</td>\n",
       "      <td>190</td>\n",
       "      <td>80</td>\n",
       "      <td>40</td>\n",
       "      <td>-4</td>\n",
       "      <td>16</td>\n",
       "      <td>70</td>\n",
       "      <td>186</td>\n",
       "      <td>12</td>\n",
       "      <td>46</td>\n",
       "      <td>85</td>\n",
       "    </tr>\n",
       "    <tr>\n",
       "      <th>3</th>\n",
       "      <td>4</td>\n",
       "      <td>Beautiful People (feat. Khalid)</td>\n",
       "      <td>Ed Sheeran</td>\n",
       "      <td>pop</td>\n",
       "      <td>93</td>\n",
       "      <td>65</td>\n",
       "      <td>64</td>\n",
       "      <td>-8</td>\n",
       "      <td>8</td>\n",
       "      <td>55</td>\n",
       "      <td>198</td>\n",
       "      <td>12</td>\n",
       "      <td>19</td>\n",
       "      <td>86</td>\n",
       "    </tr>\n",
       "    <tr>\n",
       "      <th>4</th>\n",
       "      <td>5</td>\n",
       "      <td>Goodbyes (Feat. Young Thug)</td>\n",
       "      <td>Post Malone</td>\n",
       "      <td>dfw rap</td>\n",
       "      <td>150</td>\n",
       "      <td>65</td>\n",
       "      <td>58</td>\n",
       "      <td>-4</td>\n",
       "      <td>11</td>\n",
       "      <td>18</td>\n",
       "      <td>175</td>\n",
       "      <td>45</td>\n",
       "      <td>7</td>\n",
       "      <td>94</td>\n",
       "    </tr>\n",
       "  </tbody>\n",
       "</table>\n",
       "</div>"
      ],
      "text/plain": [
       "   Unnamed: 0                       Track.Name    Artist.Name           Genre  \\\n",
       "0           1                         Señorita   Shawn Mendes    canadian pop   \n",
       "1           2                            China       Anuel AA  reggaeton flow   \n",
       "2           3    boyfriend (with Social House)  Ariana Grande       dance pop   \n",
       "3           4  Beautiful People (feat. Khalid)     Ed Sheeran             pop   \n",
       "4           5      Goodbyes (Feat. Young Thug)    Post Malone         dfw rap   \n",
       "\n",
       "   Beats.Per.Minute  Energy  Danceability  Loudness..dB..  Liveness  Valence.  \\\n",
       "0               117      55            76              -6         8        75   \n",
       "1               105      81            79              -4         8        61   \n",
       "2               190      80            40              -4        16        70   \n",
       "3                93      65            64              -8         8        55   \n",
       "4               150      65            58              -4        11        18   \n",
       "\n",
       "   Length.  Acousticness..  Speechiness.  Popularity  \n",
       "0      191               4             3          79  \n",
       "1      302               8             9          92  \n",
       "2      186              12            46          85  \n",
       "3      198              12            19          86  \n",
       "4      175              45             7          94  "
      ]
     },
     "execution_count": 36,
     "metadata": {},
     "output_type": "execute_result"
    }
   ],
   "source": [
    "top.head()"
   ]
  },
  {
   "cell_type": "markdown",
   "metadata": {},
   "source": [
    "`Exploratory Data Analysis`"
   ]
  },
  {
   "cell_type": "code",
   "execution_count": 37,
   "metadata": {},
   "outputs": [
    {
     "data": {
      "text/plain": [
       "array(['canadian pop', 'reggaeton flow', 'dance pop', 'pop', 'dfw rap',\n",
       "       'trap music', 'country rap', 'electropop', 'reggaeton',\n",
       "       'panamanian pop', 'canadian hip hop', 'latin', 'escape room',\n",
       "       'pop house', 'australian pop', 'edm', 'atl hip hop', 'big room',\n",
       "       'boy band', 'r&b en espanol', 'brostep'], dtype=object)"
      ]
     },
     "execution_count": 37,
     "metadata": {},
     "output_type": "execute_result"
    }
   ],
   "source": [
    "top['Genre'].unique()"
   ]
  },
  {
   "cell_type": "code",
   "execution_count": 38,
   "metadata": {},
   "outputs": [
    {
     "data": {
      "text/plain": [
       "21"
      ]
     },
     "execution_count": 38,
     "metadata": {},
     "output_type": "execute_result"
    }
   ],
   "source": [
    "len(top['Genre'].unique())"
   ]
  },
  {
   "cell_type": "code",
   "execution_count": 39,
   "metadata": {},
   "outputs": [
    {
     "data": {
      "text/plain": [
       "21"
      ]
     },
     "execution_count": 39,
     "metadata": {},
     "output_type": "execute_result"
    }
   ],
   "source": [
    "top['Genre'].nunique()"
   ]
  },
  {
   "cell_type": "code",
   "execution_count": 18,
   "metadata": {},
   "outputs": [
    {
     "data": {
      "text/plain": [
       "dance pop           8\n",
       "pop                 7\n",
       "latin               5\n",
       "canadian hip hop    3\n",
       "edm                 3\n",
       "reggaeton           2\n",
       "reggaeton flow      2\n",
       "panamanian pop      2\n",
       "canadian pop        2\n",
       "electropop          2\n",
       "country rap         2\n",
       "dfw rap             2\n",
       "brostep             2\n",
       "trap music          1\n",
       "escape room         1\n",
       "pop house           1\n",
       "australian pop      1\n",
       "atl hip hop         1\n",
       "big room            1\n",
       "boy band            1\n",
       "r&b en espanol      1\n",
       "Name: Genre, dtype: int64"
      ]
     },
     "execution_count": 18,
     "metadata": {},
     "output_type": "execute_result"
    }
   ],
   "source": [
    "top['Genre'].value_counts()"
   ]
  },
  {
   "cell_type": "markdown",
   "metadata": {},
   "source": [
    "## .apply() metodas"
   ]
  },
  {
   "cell_type": "code",
   "execution_count": 40,
   "metadata": {},
   "outputs": [],
   "source": [
    "# user defined function (UDF)\n",
    "\n",
    "def minutes_seconds(s):\n",
    "    minutes = s // 60\n",
    "    seconds = s % 60\n",
    "    if len(str(seconds)) < 2:\n",
    "        return f'{minutes}:0{seconds}'\n",
    "    return f'{minutes}:{seconds}'"
   ]
  },
  {
   "cell_type": "code",
   "execution_count": 41,
   "metadata": {},
   "outputs": [
    {
     "data": {
      "text/plain": [
       "'5:50'"
      ]
     },
     "execution_count": 41,
     "metadata": {},
     "output_type": "execute_result"
    }
   ],
   "source": [
    "minutes_seconds(350)"
   ]
  },
  {
   "cell_type": "code",
   "execution_count": 42,
   "metadata": {},
   "outputs": [
    {
     "data": {
      "text/plain": [
       "0    3:11\n",
       "1    5:02\n",
       "2    3:06\n",
       "3    3:18\n",
       "4    2:55\n",
       "Name: Length., dtype: object"
      ]
     },
     "execution_count": 42,
     "metadata": {},
     "output_type": "execute_result"
    }
   ],
   "source": [
    "'''\n",
    "    UDF -> .apply(UDF)\n",
    "            ->  row -> value -> minute_seconds(value) -> return value -> \n",
    "'''\n",
    "top['Length.'].apply(minutes_seconds).head()\n"
   ]
  },
  {
   "cell_type": "code",
   "execution_count": 43,
   "metadata": {},
   "outputs": [],
   "source": [
    "top['Length.Pretty'] = top['Length.'].apply(minutes_seconds)"
   ]
  },
  {
   "cell_type": "code",
   "execution_count": 44,
   "metadata": {},
   "outputs": [
    {
     "data": {
      "text/html": [
       "<div>\n",
       "<style scoped>\n",
       "    .dataframe tbody tr th:only-of-type {\n",
       "        vertical-align: middle;\n",
       "    }\n",
       "\n",
       "    .dataframe tbody tr th {\n",
       "        vertical-align: top;\n",
       "    }\n",
       "\n",
       "    .dataframe thead th {\n",
       "        text-align: right;\n",
       "    }\n",
       "</style>\n",
       "<table border=\"1\" class=\"dataframe\">\n",
       "  <thead>\n",
       "    <tr style=\"text-align: right;\">\n",
       "      <th></th>\n",
       "      <th>Track.Name</th>\n",
       "      <th>Length.Pretty</th>\n",
       "    </tr>\n",
       "  </thead>\n",
       "  <tbody>\n",
       "    <tr>\n",
       "      <th>0</th>\n",
       "      <td>Señorita</td>\n",
       "      <td>3:11</td>\n",
       "    </tr>\n",
       "    <tr>\n",
       "      <th>1</th>\n",
       "      <td>China</td>\n",
       "      <td>5:02</td>\n",
       "    </tr>\n",
       "    <tr>\n",
       "      <th>2</th>\n",
       "      <td>boyfriend (with Social House)</td>\n",
       "      <td>3:06</td>\n",
       "    </tr>\n",
       "    <tr>\n",
       "      <th>3</th>\n",
       "      <td>Beautiful People (feat. Khalid)</td>\n",
       "      <td>3:18</td>\n",
       "    </tr>\n",
       "    <tr>\n",
       "      <th>4</th>\n",
       "      <td>Goodbyes (Feat. Young Thug)</td>\n",
       "      <td>2:55</td>\n",
       "    </tr>\n",
       "  </tbody>\n",
       "</table>\n",
       "</div>"
      ],
      "text/plain": [
       "                        Track.Name Length.Pretty\n",
       "0                         Señorita          3:11\n",
       "1                            China          5:02\n",
       "2    boyfriend (with Social House)          3:06\n",
       "3  Beautiful People (feat. Khalid)          3:18\n",
       "4      Goodbyes (Feat. Young Thug)          2:55"
      ]
     },
     "execution_count": 44,
     "metadata": {},
     "output_type": "execute_result"
    }
   ],
   "source": [
    "top[['Track.Name', 'Length.Pretty']].head()"
   ]
  },
  {
   "cell_type": "code",
   "execution_count": 45,
   "metadata": {},
   "outputs": [],
   "source": [
    "top['kintamasis'] = top['Energy'] + top['Danceability']"
   ]
  },
  {
   "cell_type": "markdown",
   "metadata": {},
   "source": [
    "`lambda funkcijos`"
   ]
  },
  {
   "cell_type": "code",
   "execution_count": 49,
   "metadata": {},
   "outputs": [
    {
     "data": {
      "text/plain": [
       "0    6\n",
       "1    8\n",
       "2    8\n",
       "3    6\n",
       "4    6\n",
       "Name: Energy, dtype: int64"
      ]
     },
     "execution_count": 49,
     "metadata": {},
     "output_type": "execute_result"
    }
   ],
   "source": [
    "top['Energy'].apply(lambda x: round(x/10)).head()"
   ]
  },
  {
   "cell_type": "code",
   "execution_count": 50,
   "metadata": {},
   "outputs": [
    {
     "data": {
      "text/plain": [
       "0    55\n",
       "1    81\n",
       "2    80\n",
       "3    65\n",
       "4    65\n",
       "Name: Energy, dtype: int64"
      ]
     },
     "execution_count": 50,
     "metadata": {},
     "output_type": "execute_result"
    }
   ],
   "source": [
    "top['Energy'].head()"
   ]
  },
  {
   "cell_type": "markdown",
   "metadata": {},
   "source": [
    "### Naudingos Funkcijos"
   ]
  },
  {
   "cell_type": "code",
   "execution_count": 51,
   "metadata": {},
   "outputs": [
    {
     "data": {
      "text/plain": [
       "Index(['Unnamed: 0', 'Track.Name', 'Artist.Name', 'Genre', 'Beats.Per.Minute',\n",
       "       'Energy', 'Danceability', 'Loudness..dB..', 'Liveness', 'Valence.',\n",
       "       'Length.', 'Acousticness..', 'Speechiness.', 'Popularity',\n",
       "       'Length.Pretty', 'kintamasis'],\n",
       "      dtype='object')"
      ]
     },
     "execution_count": 51,
     "metadata": {},
     "output_type": "execute_result"
    }
   ],
   "source": [
    "top.columns"
   ]
  },
  {
   "cell_type": "code",
   "execution_count": 52,
   "metadata": {},
   "outputs": [
    {
     "data": {
      "text/plain": [
       "(50, 16)"
      ]
     },
     "execution_count": 52,
     "metadata": {},
     "output_type": "execute_result"
    }
   ],
   "source": [
    "top.shape"
   ]
  },
  {
   "cell_type": "code",
   "execution_count": 53,
   "metadata": {},
   "outputs": [
    {
     "data": {
      "text/html": [
       "<div>\n",
       "<style scoped>\n",
       "    .dataframe tbody tr th:only-of-type {\n",
       "        vertical-align: middle;\n",
       "    }\n",
       "\n",
       "    .dataframe tbody tr th {\n",
       "        vertical-align: top;\n",
       "    }\n",
       "\n",
       "    .dataframe thead th {\n",
       "        text-align: right;\n",
       "    }\n",
       "</style>\n",
       "<table border=\"1\" class=\"dataframe\">\n",
       "  <thead>\n",
       "    <tr style=\"text-align: right;\">\n",
       "      <th></th>\n",
       "      <th>Unnamed: 0</th>\n",
       "      <th>Track.Name</th>\n",
       "      <th>Artist.Name</th>\n",
       "      <th>Genre</th>\n",
       "      <th>Beats.Per.Minute</th>\n",
       "      <th>Energy</th>\n",
       "      <th>Danceability</th>\n",
       "      <th>Loudness..dB..</th>\n",
       "      <th>Liveness</th>\n",
       "      <th>Valence.</th>\n",
       "      <th>Length.</th>\n",
       "      <th>Acousticness..</th>\n",
       "      <th>Speechiness.</th>\n",
       "      <th>Popularity</th>\n",
       "      <th>Length.Pretty</th>\n",
       "      <th>kintamasis</th>\n",
       "    </tr>\n",
       "  </thead>\n",
       "  <tbody>\n",
       "    <tr>\n",
       "      <th>32</th>\n",
       "      <td>33</td>\n",
       "      <td>0.958333333333333</td>\n",
       "      <td>Maluma</td>\n",
       "      <td>reggaeton</td>\n",
       "      <td>96</td>\n",
       "      <td>71</td>\n",
       "      <td>78</td>\n",
       "      <td>-5</td>\n",
       "      <td>9</td>\n",
       "      <td>68</td>\n",
       "      <td>176</td>\n",
       "      <td>22</td>\n",
       "      <td>28</td>\n",
       "      <td>89</td>\n",
       "      <td>2:56</td>\n",
       "      <td>149</td>\n",
       "    </tr>\n",
       "    <tr>\n",
       "      <th>31</th>\n",
       "      <td>32</td>\n",
       "      <td>7 rings</td>\n",
       "      <td>Ariana Grande</td>\n",
       "      <td>dance pop</td>\n",
       "      <td>140</td>\n",
       "      <td>32</td>\n",
       "      <td>78</td>\n",
       "      <td>-11</td>\n",
       "      <td>9</td>\n",
       "      <td>33</td>\n",
       "      <td>179</td>\n",
       "      <td>59</td>\n",
       "      <td>33</td>\n",
       "      <td>89</td>\n",
       "      <td>2:59</td>\n",
       "      <td>110</td>\n",
       "    </tr>\n",
       "    <tr>\n",
       "      <th>37</th>\n",
       "      <td>38</td>\n",
       "      <td>Antisocial (with Travis Scott)</td>\n",
       "      <td>Ed Sheeran</td>\n",
       "      <td>pop</td>\n",
       "      <td>152</td>\n",
       "      <td>82</td>\n",
       "      <td>72</td>\n",
       "      <td>-5</td>\n",
       "      <td>36</td>\n",
       "      <td>91</td>\n",
       "      <td>162</td>\n",
       "      <td>13</td>\n",
       "      <td>5</td>\n",
       "      <td>87</td>\n",
       "      <td>2:42</td>\n",
       "      <td>154</td>\n",
       "    </tr>\n",
       "    <tr>\n",
       "      <th>3</th>\n",
       "      <td>4</td>\n",
       "      <td>Beautiful People (feat. Khalid)</td>\n",
       "      <td>Ed Sheeran</td>\n",
       "      <td>pop</td>\n",
       "      <td>93</td>\n",
       "      <td>65</td>\n",
       "      <td>64</td>\n",
       "      <td>-8</td>\n",
       "      <td>8</td>\n",
       "      <td>55</td>\n",
       "      <td>198</td>\n",
       "      <td>12</td>\n",
       "      <td>19</td>\n",
       "      <td>86</td>\n",
       "      <td>3:18</td>\n",
       "      <td>129</td>\n",
       "    </tr>\n",
       "    <tr>\n",
       "      <th>48</th>\n",
       "      <td>49</td>\n",
       "      <td>Call You Mine</td>\n",
       "      <td>The Chainsmokers</td>\n",
       "      <td>edm</td>\n",
       "      <td>104</td>\n",
       "      <td>70</td>\n",
       "      <td>59</td>\n",
       "      <td>-6</td>\n",
       "      <td>41</td>\n",
       "      <td>50</td>\n",
       "      <td>218</td>\n",
       "      <td>23</td>\n",
       "      <td>3</td>\n",
       "      <td>88</td>\n",
       "      <td>3:38</td>\n",
       "      <td>129</td>\n",
       "    </tr>\n",
       "  </tbody>\n",
       "</table>\n",
       "</div>"
      ],
      "text/plain": [
       "    Unnamed: 0                       Track.Name       Artist.Name      Genre  \\\n",
       "32          33                0.958333333333333            Maluma  reggaeton   \n",
       "31          32                          7 rings     Ariana Grande  dance pop   \n",
       "37          38   Antisocial (with Travis Scott)        Ed Sheeran        pop   \n",
       "3            4  Beautiful People (feat. Khalid)        Ed Sheeran        pop   \n",
       "48          49                    Call You Mine  The Chainsmokers        edm   \n",
       "\n",
       "    Beats.Per.Minute  Energy  Danceability  Loudness..dB..  Liveness  \\\n",
       "32                96      71            78              -5         9   \n",
       "31               140      32            78             -11         9   \n",
       "37               152      82            72              -5        36   \n",
       "3                 93      65            64              -8         8   \n",
       "48               104      70            59              -6        41   \n",
       "\n",
       "    Valence.  Length.  Acousticness..  Speechiness.  Popularity Length.Pretty  \\\n",
       "32        68      176              22            28          89          2:56   \n",
       "31        33      179              59            33          89          2:59   \n",
       "37        91      162              13             5          87          2:42   \n",
       "3         55      198              12            19          86          3:18   \n",
       "48        50      218              23             3          88          3:38   \n",
       "\n",
       "    kintamasis  \n",
       "32         149  \n",
       "31         110  \n",
       "37         154  \n",
       "3          129  \n",
       "48         129  "
      ]
     },
     "execution_count": 53,
     "metadata": {},
     "output_type": "execute_result"
    }
   ],
   "source": [
    "top.sort_values('Track.Name').head()"
   ]
  },
  {
   "cell_type": "code",
   "execution_count": 58,
   "metadata": {},
   "outputs": [
    {
     "data": {
      "text/html": [
       "<div>\n",
       "<style scoped>\n",
       "    .dataframe tbody tr th:only-of-type {\n",
       "        vertical-align: middle;\n",
       "    }\n",
       "\n",
       "    .dataframe tbody tr th {\n",
       "        vertical-align: top;\n",
       "    }\n",
       "\n",
       "    .dataframe thead th {\n",
       "        text-align: right;\n",
       "    }\n",
       "</style>\n",
       "<table border=\"1\" class=\"dataframe\">\n",
       "  <thead>\n",
       "    <tr style=\"text-align: right;\">\n",
       "      <th></th>\n",
       "      <th>Unnamed: 0</th>\n",
       "      <th>Track.Name</th>\n",
       "      <th>Artist.Name</th>\n",
       "      <th>Genre</th>\n",
       "      <th>Beats.Per.Minute</th>\n",
       "      <th>Energy</th>\n",
       "      <th>Danceability</th>\n",
       "      <th>Loudness..dB..</th>\n",
       "      <th>Liveness</th>\n",
       "      <th>Valence.</th>\n",
       "      <th>Length.</th>\n",
       "      <th>Acousticness..</th>\n",
       "      <th>Speechiness.</th>\n",
       "      <th>Popularity</th>\n",
       "      <th>Length.Pretty</th>\n",
       "      <th>kintamasis</th>\n",
       "    </tr>\n",
       "  </thead>\n",
       "  <tbody>\n",
       "    <tr>\n",
       "      <th>0</th>\n",
       "      <td>False</td>\n",
       "      <td>False</td>\n",
       "      <td>False</td>\n",
       "      <td>False</td>\n",
       "      <td>False</td>\n",
       "      <td>False</td>\n",
       "      <td>False</td>\n",
       "      <td>False</td>\n",
       "      <td>False</td>\n",
       "      <td>False</td>\n",
       "      <td>False</td>\n",
       "      <td>False</td>\n",
       "      <td>False</td>\n",
       "      <td>False</td>\n",
       "      <td>False</td>\n",
       "      <td>False</td>\n",
       "    </tr>\n",
       "    <tr>\n",
       "      <th>1</th>\n",
       "      <td>False</td>\n",
       "      <td>False</td>\n",
       "      <td>False</td>\n",
       "      <td>False</td>\n",
       "      <td>False</td>\n",
       "      <td>False</td>\n",
       "      <td>False</td>\n",
       "      <td>False</td>\n",
       "      <td>False</td>\n",
       "      <td>False</td>\n",
       "      <td>False</td>\n",
       "      <td>False</td>\n",
       "      <td>False</td>\n",
       "      <td>False</td>\n",
       "      <td>False</td>\n",
       "      <td>False</td>\n",
       "    </tr>\n",
       "    <tr>\n",
       "      <th>2</th>\n",
       "      <td>False</td>\n",
       "      <td>False</td>\n",
       "      <td>False</td>\n",
       "      <td>False</td>\n",
       "      <td>False</td>\n",
       "      <td>False</td>\n",
       "      <td>False</td>\n",
       "      <td>False</td>\n",
       "      <td>False</td>\n",
       "      <td>False</td>\n",
       "      <td>False</td>\n",
       "      <td>False</td>\n",
       "      <td>False</td>\n",
       "      <td>False</td>\n",
       "      <td>False</td>\n",
       "      <td>False</td>\n",
       "    </tr>\n",
       "    <tr>\n",
       "      <th>3</th>\n",
       "      <td>False</td>\n",
       "      <td>False</td>\n",
       "      <td>False</td>\n",
       "      <td>False</td>\n",
       "      <td>False</td>\n",
       "      <td>False</td>\n",
       "      <td>False</td>\n",
       "      <td>False</td>\n",
       "      <td>False</td>\n",
       "      <td>False</td>\n",
       "      <td>False</td>\n",
       "      <td>False</td>\n",
       "      <td>False</td>\n",
       "      <td>False</td>\n",
       "      <td>False</td>\n",
       "      <td>False</td>\n",
       "    </tr>\n",
       "    <tr>\n",
       "      <th>4</th>\n",
       "      <td>False</td>\n",
       "      <td>False</td>\n",
       "      <td>False</td>\n",
       "      <td>False</td>\n",
       "      <td>False</td>\n",
       "      <td>False</td>\n",
       "      <td>False</td>\n",
       "      <td>False</td>\n",
       "      <td>False</td>\n",
       "      <td>False</td>\n",
       "      <td>False</td>\n",
       "      <td>False</td>\n",
       "      <td>False</td>\n",
       "      <td>False</td>\n",
       "      <td>False</td>\n",
       "      <td>False</td>\n",
       "    </tr>\n",
       "  </tbody>\n",
       "</table>\n",
       "</div>"
      ],
      "text/plain": [
       "   Unnamed: 0  Track.Name  Artist.Name  Genre  Beats.Per.Minute  Energy  \\\n",
       "0       False       False        False  False             False   False   \n",
       "1       False       False        False  False             False   False   \n",
       "2       False       False        False  False             False   False   \n",
       "3       False       False        False  False             False   False   \n",
       "4       False       False        False  False             False   False   \n",
       "\n",
       "   Danceability  Loudness..dB..  Liveness  Valence.  Length.  Acousticness..  \\\n",
       "0         False           False     False     False    False           False   \n",
       "1         False           False     False     False    False           False   \n",
       "2         False           False     False     False    False           False   \n",
       "3         False           False     False     False    False           False   \n",
       "4         False           False     False     False    False           False   \n",
       "\n",
       "   Speechiness.  Popularity  Length.Pretty  kintamasis  \n",
       "0         False       False          False       False  \n",
       "1         False       False          False       False  \n",
       "2         False       False          False       False  \n",
       "3         False       False          False       False  \n",
       "4         False       False          False       False  "
      ]
     },
     "execution_count": 58,
     "metadata": {},
     "output_type": "execute_result"
    }
   ],
   "source": [
    "top.isnull().head()"
   ]
  },
  {
   "cell_type": "code",
   "execution_count": 60,
   "metadata": {},
   "outputs": [
    {
     "data": {
      "text/plain": [
       "0    False\n",
       "1    False\n",
       "2    False\n",
       "3    False\n",
       "4    False\n",
       "Name: Acousticness.., dtype: bool"
      ]
     },
     "execution_count": 60,
     "metadata": {},
     "output_type": "execute_result"
    }
   ],
   "source": [
    "top['Acousticness..'].isnull().head()"
   ]
  },
  {
   "cell_type": "markdown",
   "metadata": {},
   "source": [
    "### Duomenu nuskaitymas / irasymas"
   ]
  },
  {
   "cell_type": "markdown",
   "metadata": {},
   "source": [
    "CSV"
   ]
  },
  {
   "cell_type": "code",
   "execution_count": 64,
   "metadata": {},
   "outputs": [],
   "source": [
    "data = pd.read_csv(\"../pamoka_5/data.csv\")"
   ]
  },
  {
   "cell_type": "code",
   "execution_count": 65,
   "metadata": {},
   "outputs": [
    {
     "data": {
      "text/html": [
       "<div>\n",
       "<style scoped>\n",
       "    .dataframe tbody tr th:only-of-type {\n",
       "        vertical-align: middle;\n",
       "    }\n",
       "\n",
       "    .dataframe tbody tr th {\n",
       "        vertical-align: top;\n",
       "    }\n",
       "\n",
       "    .dataframe thead th {\n",
       "        text-align: right;\n",
       "    }\n",
       "</style>\n",
       "<table border=\"1\" class=\"dataframe\">\n",
       "  <thead>\n",
       "    <tr style=\"text-align: right;\">\n",
       "      <th></th>\n",
       "      <th>Unnamed: 0</th>\n",
       "      <th>Miestas</th>\n",
       "      <th>2019</th>\n",
       "      <th>2011</th>\n",
       "      <th>2001</th>\n",
       "      <th>1989</th>\n",
       "      <th>1979</th>\n",
       "      <th>1970</th>\n",
       "      <th>1959</th>\n",
       "      <th>1923</th>\n",
       "      <th>1897</th>\n",
       "    </tr>\n",
       "  </thead>\n",
       "  <tbody>\n",
       "    <tr>\n",
       "      <th>0</th>\n",
       "      <td>0</td>\n",
       "      <td>Vilnius</td>\n",
       "      <td>540919</td>\n",
       "      <td>535631</td>\n",
       "      <td>542287</td>\n",
       "      <td>576747</td>\n",
       "      <td>475825</td>\n",
       "      <td>370153</td>\n",
       "      <td>236100</td>\n",
       "      <td>167400</td>\n",
       "      <td>154532</td>\n",
       "    </tr>\n",
       "    <tr>\n",
       "      <th>1</th>\n",
       "      <td>1</td>\n",
       "      <td>Kaunas</td>\n",
       "      <td>286763</td>\n",
       "      <td>315993</td>\n",
       "      <td>378650</td>\n",
       "      <td>419745</td>\n",
       "      <td>370000</td>\n",
       "      <td>305600</td>\n",
       "      <td>216850</td>\n",
       "      <td>92446</td>\n",
       "      <td>70920</td>\n",
       "    </tr>\n",
       "    <tr>\n",
       "      <th>2</th>\n",
       "      <td>2</td>\n",
       "      <td>Klaipėda</td>\n",
       "      <td>147898</td>\n",
       "      <td>162360</td>\n",
       "      <td>192954</td>\n",
       "      <td>202929</td>\n",
       "      <td>176648</td>\n",
       "      <td>140342</td>\n",
       "      <td>89500</td>\n",
       "      <td>35845</td>\n",
       "      <td>20100</td>\n",
       "    </tr>\n",
       "    <tr>\n",
       "      <th>3</th>\n",
       "      <td>3</td>\n",
       "      <td>Šiauliai</td>\n",
       "      <td>100119</td>\n",
       "      <td>109328</td>\n",
       "      <td>133883</td>\n",
       "      <td>145629</td>\n",
       "      <td>118724</td>\n",
       "      <td>92375</td>\n",
       "      <td>59700</td>\n",
       "      <td>21387</td>\n",
       "      <td>16128</td>\n",
       "    </tr>\n",
       "    <tr>\n",
       "      <th>4</th>\n",
       "      <td>4</td>\n",
       "      <td>Panevėžys</td>\n",
       "      <td>87148</td>\n",
       "      <td>99690</td>\n",
       "      <td>119749</td>\n",
       "      <td>126483</td>\n",
       "      <td>102303</td>\n",
       "      <td>74497</td>\n",
       "      <td>41100</td>\n",
       "      <td>19197</td>\n",
       "      <td>12968</td>\n",
       "    </tr>\n",
       "  </tbody>\n",
       "</table>\n",
       "</div>"
      ],
      "text/plain": [
       "   Unnamed: 0    Miestas    2019    2011    2001    1989    1979    1970  \\\n",
       "0           0    Vilnius  540919  535631  542287  576747  475825  370153   \n",
       "1           1     Kaunas  286763  315993  378650  419745  370000  305600   \n",
       "2           2   Klaipėda  147898  162360  192954  202929  176648  140342   \n",
       "3           3   Šiauliai  100119  109328  133883  145629  118724   92375   \n",
       "4           4  Panevėžys   87148   99690  119749  126483  102303   74497   \n",
       "\n",
       "     1959    1923    1897  \n",
       "0  236100  167400  154532  \n",
       "1  216850   92446   70920  \n",
       "2   89500   35845   20100  \n",
       "3   59700   21387   16128  \n",
       "4   41100   19197   12968  "
      ]
     },
     "execution_count": 65,
     "metadata": {},
     "output_type": "execute_result"
    }
   ],
   "source": [
    "data.head()"
   ]
  },
  {
   "cell_type": "code",
   "execution_count": 67,
   "metadata": {},
   "outputs": [],
   "source": [
    "data.to_csv(\"res.csv\", index=False)"
   ]
  },
  {
   "cell_type": "markdown",
   "metadata": {},
   "source": [
    "XLS"
   ]
  },
  {
   "cell_type": "code",
   "execution_count": null,
   "metadata": {},
   "outputs": [],
   "source": [
    "data.to_excel(\"duomenys.xls\", sheet_name='example_1')"
   ]
  },
  {
   "cell_type": "code",
   "execution_count": 74,
   "metadata": {},
   "outputs": [
    {
     "data": {
      "text/html": [
       "<div>\n",
       "<style scoped>\n",
       "    .dataframe tbody tr th:only-of-type {\n",
       "        vertical-align: middle;\n",
       "    }\n",
       "\n",
       "    .dataframe tbody tr th {\n",
       "        vertical-align: top;\n",
       "    }\n",
       "\n",
       "    .dataframe thead th {\n",
       "        text-align: right;\n",
       "    }\n",
       "</style>\n",
       "<table border=\"1\" class=\"dataframe\">\n",
       "  <thead>\n",
       "    <tr style=\"text-align: right;\">\n",
       "      <th></th>\n",
       "      <th>Unnamed: 0.1</th>\n",
       "      <th>Unnamed: 0</th>\n",
       "      <th>Miestas</th>\n",
       "      <th>2019</th>\n",
       "      <th>2011</th>\n",
       "      <th>2001</th>\n",
       "      <th>1989</th>\n",
       "      <th>1979</th>\n",
       "      <th>1970</th>\n",
       "      <th>1959</th>\n",
       "      <th>1923</th>\n",
       "      <th>1897</th>\n",
       "    </tr>\n",
       "  </thead>\n",
       "  <tbody>\n",
       "    <tr>\n",
       "      <th>0</th>\n",
       "      <td>0</td>\n",
       "      <td>0</td>\n",
       "      <td>Vilnius</td>\n",
       "      <td>540919</td>\n",
       "      <td>535631</td>\n",
       "      <td>542287</td>\n",
       "      <td>576747</td>\n",
       "      <td>475825</td>\n",
       "      <td>370153</td>\n",
       "      <td>236100</td>\n",
       "      <td>167400</td>\n",
       "      <td>154532</td>\n",
       "    </tr>\n",
       "    <tr>\n",
       "      <th>1</th>\n",
       "      <td>1</td>\n",
       "      <td>1</td>\n",
       "      <td>Kaunas</td>\n",
       "      <td>286763</td>\n",
       "      <td>315993</td>\n",
       "      <td>378650</td>\n",
       "      <td>419745</td>\n",
       "      <td>370000</td>\n",
       "      <td>305600</td>\n",
       "      <td>216850</td>\n",
       "      <td>92446</td>\n",
       "      <td>70920</td>\n",
       "    </tr>\n",
       "    <tr>\n",
       "      <th>2</th>\n",
       "      <td>2</td>\n",
       "      <td>2</td>\n",
       "      <td>Klaipėda</td>\n",
       "      <td>147898</td>\n",
       "      <td>162360</td>\n",
       "      <td>192954</td>\n",
       "      <td>202929</td>\n",
       "      <td>176648</td>\n",
       "      <td>140342</td>\n",
       "      <td>89500</td>\n",
       "      <td>35845</td>\n",
       "      <td>20100</td>\n",
       "    </tr>\n",
       "    <tr>\n",
       "      <th>3</th>\n",
       "      <td>3</td>\n",
       "      <td>3</td>\n",
       "      <td>Šiauliai</td>\n",
       "      <td>100119</td>\n",
       "      <td>109328</td>\n",
       "      <td>133883</td>\n",
       "      <td>145629</td>\n",
       "      <td>118724</td>\n",
       "      <td>92375</td>\n",
       "      <td>59700</td>\n",
       "      <td>21387</td>\n",
       "      <td>16128</td>\n",
       "    </tr>\n",
       "    <tr>\n",
       "      <th>4</th>\n",
       "      <td>4</td>\n",
       "      <td>4</td>\n",
       "      <td>Panevėžys</td>\n",
       "      <td>87148</td>\n",
       "      <td>99690</td>\n",
       "      <td>119749</td>\n",
       "      <td>126483</td>\n",
       "      <td>102303</td>\n",
       "      <td>74497</td>\n",
       "      <td>41100</td>\n",
       "      <td>19197</td>\n",
       "      <td>12968</td>\n",
       "    </tr>\n",
       "    <tr>\n",
       "      <th>...</th>\n",
       "      <td>...</td>\n",
       "      <td>...</td>\n",
       "      <td>...</td>\n",
       "      <td>...</td>\n",
       "      <td>...</td>\n",
       "      <td>...</td>\n",
       "      <td>...</td>\n",
       "      <td>...</td>\n",
       "      <td>...</td>\n",
       "      <td>...</td>\n",
       "      <td>...</td>\n",
       "      <td>...</td>\n",
       "    </tr>\n",
       "    <tr>\n",
       "      <th>98</th>\n",
       "      <td>98</td>\n",
       "      <td>98</td>\n",
       "      <td>Dusetos</td>\n",
       "      <td>560</td>\n",
       "      <td>717</td>\n",
       "      <td>914</td>\n",
       "      <td>1184</td>\n",
       "      <td>1357</td>\n",
       "      <td>1600</td>\n",
       "      <td>1806</td>\n",
       "      <td>1164</td>\n",
       "      <td>1278</td>\n",
       "    </tr>\n",
       "    <tr>\n",
       "      <th>99</th>\n",
       "      <td>99</td>\n",
       "      <td>99</td>\n",
       "      <td>Kavarskas</td>\n",
       "      <td>528</td>\n",
       "      <td>666</td>\n",
       "      <td>809</td>\n",
       "      <td>972</td>\n",
       "      <td>1113</td>\n",
       "      <td>1191</td>\n",
       "      <td>1287</td>\n",
       "      <td>1041</td>\n",
       "      <td>1546</td>\n",
       "    </tr>\n",
       "    <tr>\n",
       "      <th>100</th>\n",
       "      <td>100</td>\n",
       "      <td>100</td>\n",
       "      <td>Smalininkai</td>\n",
       "      <td>446</td>\n",
       "      <td>515</td>\n",
       "      <td>653</td>\n",
       "      <td>758</td>\n",
       "      <td>805</td>\n",
       "      <td>952</td>\n",
       "      <td>1100</td>\n",
       "      <td>1741</td>\n",
       "      <td>0</td>\n",
       "    </tr>\n",
       "    <tr>\n",
       "      <th>101</th>\n",
       "      <td>101</td>\n",
       "      <td>101</td>\n",
       "      <td>Troškūnai</td>\n",
       "      <td>372</td>\n",
       "      <td>451</td>\n",
       "      <td>525</td>\n",
       "      <td>672</td>\n",
       "      <td>1174</td>\n",
       "      <td>1417</td>\n",
       "      <td>1495</td>\n",
       "      <td>1252</td>\n",
       "      <td>1000</td>\n",
       "    </tr>\n",
       "    <tr>\n",
       "      <th>102</th>\n",
       "      <td>102</td>\n",
       "      <td>102</td>\n",
       "      <td>Panemunė</td>\n",
       "      <td>210</td>\n",
       "      <td>274</td>\n",
       "      <td>329</td>\n",
       "      <td>398</td>\n",
       "      <td>506</td>\n",
       "      <td>545</td>\n",
       "      <td>539</td>\n",
       "      <td>637</td>\n",
       "      <td>0</td>\n",
       "    </tr>\n",
       "  </tbody>\n",
       "</table>\n",
       "<p>103 rows × 12 columns</p>\n",
       "</div>"
      ],
      "text/plain": [
       "     Unnamed: 0.1  Unnamed: 0      Miestas    2019    2011    2001    1989  \\\n",
       "0               0           0      Vilnius  540919  535631  542287  576747   \n",
       "1               1           1       Kaunas  286763  315993  378650  419745   \n",
       "2               2           2     Klaipėda  147898  162360  192954  202929   \n",
       "3               3           3     Šiauliai  100119  109328  133883  145629   \n",
       "4               4           4    Panevėžys   87148   99690  119749  126483   \n",
       "..            ...         ...          ...     ...     ...     ...     ...   \n",
       "98             98          98      Dusetos     560     717     914    1184   \n",
       "99             99          99    Kavarskas     528     666     809     972   \n",
       "100           100         100  Smalininkai     446     515     653     758   \n",
       "101           101         101    Troškūnai     372     451     525     672   \n",
       "102           102         102     Panemunė     210     274     329     398   \n",
       "\n",
       "       1979    1970    1959    1923    1897  \n",
       "0    475825  370153  236100  167400  154532  \n",
       "1    370000  305600  216850   92446   70920  \n",
       "2    176648  140342   89500   35845   20100  \n",
       "3    118724   92375   59700   21387   16128  \n",
       "4    102303   74497   41100   19197   12968  \n",
       "..      ...     ...     ...     ...     ...  \n",
       "98     1357    1600    1806    1164    1278  \n",
       "99     1113    1191    1287    1041    1546  \n",
       "100     805     952    1100    1741       0  \n",
       "101    1174    1417    1495    1252    1000  \n",
       "102     506     545     539     637       0  \n",
       "\n",
       "[103 rows x 12 columns]"
      ]
     },
     "execution_count": 74,
     "metadata": {},
     "output_type": "execute_result"
    }
   ],
   "source": [
    "pd.read_excel(\"duomenys.xls\", \"example_1\")"
   ]
  },
  {
   "cell_type": "code",
   "execution_count": null,
   "metadata": {},
   "outputs": [],
   "source": []
  },
  {
   "cell_type": "code",
   "execution_count": null,
   "metadata": {},
   "outputs": [],
   "source": []
  }
 ],
 "metadata": {
  "kernelspec": {
   "display_name": "Python 3.8.10 64-bit",
   "language": "python",
   "name": "python3"
  },
  "language_info": {
   "codemirror_mode": {
    "name": "ipython",
    "version": 3
   },
   "file_extension": ".py",
   "mimetype": "text/x-python",
   "name": "python",
   "nbconvert_exporter": "python",
   "pygments_lexer": "ipython3",
   "version": "3.8.9"
  },
  "orig_nbformat": 4,
  "vscode": {
   "interpreter": {
    "hash": "31f2aee4e71d21fbe5cf8b01ff0e069b9275f58929596ceb00d14d90e3e16cd6"
   }
  }
 },
 "nbformat": 4,
 "nbformat_minor": 2
}
