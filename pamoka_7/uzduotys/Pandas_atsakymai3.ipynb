{
 "cells": [
  {
   "cell_type": "markdown",
   "metadata": {},
   "source": [
    "# Pandas 3 Atsakymai"
   ]
  },
  {
   "cell_type": "code",
   "execution_count": 1,
   "metadata": {},
   "outputs": [],
   "source": [
    "import numpy as np\n",
    "import pandas as pd"
   ]
  },
  {
   "cell_type": "markdown",
   "metadata": {},
   "source": [
    "# 1 Ištraukite lentelę iš [šios](https://work.studentnews.eu/s/3695/75547-European-countries-the-table-language-population-capital-currency-phone-code-internet-code.htm) svetainės. Išsaugokite kintamąjame."
   ]
  },
  {
   "cell_type": "code",
   "execution_count": 3,
   "metadata": {},
   "outputs": [],
   "source": [
    "html = pd.read_html('https://work.studentnews.eu/s/3695/75547-European-countries-the-table-language-population-capital-currency-phone-code-internet-code.htm')"
   ]
  },
  {
   "cell_type": "code",
   "execution_count": 10,
   "metadata": {
    "scrolled": false
   },
   "outputs": [
    {
     "data": {
      "text/html": [
       "<div>\n",
       "<style scoped>\n",
       "    .dataframe tbody tr th:only-of-type {\n",
       "        vertical-align: middle;\n",
       "    }\n",
       "\n",
       "    .dataframe tbody tr th {\n",
       "        vertical-align: top;\n",
       "    }\n",
       "\n",
       "    .dataframe thead th {\n",
       "        text-align: right;\n",
       "    }\n",
       "</style>\n",
       "<table border=\"1\" class=\"dataframe\">\n",
       "  <thead>\n",
       "    <tr style=\"text-align: right;\">\n",
       "      <th></th>\n",
       "      <th>Staat</th>\n",
       "      <th>Official languages</th>\n",
       "      <th>Population</th>\n",
       "      <th>Capital</th>\n",
       "      <th>Currency</th>\n",
       "      <th>Phone</th>\n",
       "      <th>Int.</th>\n",
       "    </tr>\n",
       "  </thead>\n",
       "  <tbody>\n",
       "    <tr>\n",
       "      <th>0</th>\n",
       "      <td>Austria</td>\n",
       "      <td>German</td>\n",
       "      <td>8.4 million</td>\n",
       "      <td>Vienna</td>\n",
       "      <td>euro (EUR)</td>\n",
       "      <td>43</td>\n",
       "      <td>.at</td>\n",
       "    </tr>\n",
       "    <tr>\n",
       "      <th>1</th>\n",
       "      <td>Belgium</td>\n",
       "      <td>Dutch (north), French (south), German</td>\n",
       "      <td>11 million</td>\n",
       "      <td>Brussels</td>\n",
       "      <td>euro (EUR)</td>\n",
       "      <td>32</td>\n",
       "      <td>.be</td>\n",
       "    </tr>\n",
       "    <tr>\n",
       "      <th>2</th>\n",
       "      <td>Bulgaria</td>\n",
       "      <td>Bulgarian</td>\n",
       "      <td>7 million</td>\n",
       "      <td>Sofia</td>\n",
       "      <td>Bulgarian lev (BGN)</td>\n",
       "      <td>359</td>\n",
       "      <td>.bg</td>\n",
       "    </tr>\n",
       "    <tr>\n",
       "      <th>3</th>\n",
       "      <td>Croatia</td>\n",
       "      <td>Croatian</td>\n",
       "      <td>4.3 million</td>\n",
       "      <td>Zagreb</td>\n",
       "      <td>Croatian kuna (HRK)</td>\n",
       "      <td>385</td>\n",
       "      <td>.hr</td>\n",
       "    </tr>\n",
       "    <tr>\n",
       "      <th>4</th>\n",
       "      <td>Cyprus</td>\n",
       "      <td>Greek, Turkish</td>\n",
       "      <td>800 000</td>\n",
       "      <td>Nicosia</td>\n",
       "      <td>euro (EUR)</td>\n",
       "      <td>357</td>\n",
       "      <td>.cy</td>\n",
       "    </tr>\n",
       "  </tbody>\n",
       "</table>\n",
       "</div>"
      ],
      "text/plain": [
       "      Staat                     Official languages   Population   Capital  \\\n",
       "0   Austria                                 German  8.4 million    Vienna   \n",
       "1   Belgium  Dutch (north), French (south), German   11 million  Brussels   \n",
       "2  Bulgaria                              Bulgarian    7 million     Sofia   \n",
       "3   Croatia                               Croatian  4.3 million    Zagreb   \n",
       "4    Cyprus                         Greek, Turkish      800 000   Nicosia   \n",
       "\n",
       "              Currency  Phone Int.  \n",
       "0           euro (EUR)     43  .at  \n",
       "1           euro (EUR)     32  .be  \n",
       "2  Bulgarian lev (BGN)    359  .bg  \n",
       "3  Croatian kuna (HRK)    385  .hr  \n",
       "4           euro (EUR)    357  .cy  "
      ]
     },
     "execution_count": 10,
     "metadata": {},
     "output_type": "execute_result"
    }
   ],
   "source": [
    "html[1].head()"
   ]
  },
  {
   "cell_type": "code",
   "execution_count": 11,
   "metadata": {},
   "outputs": [],
   "source": [
    "countries = html[1]"
   ]
  },
  {
   "cell_type": "markdown",
   "metadata": {},
   "source": [
    "# 2 šių duomenų pagrindu sukurkite CSV, Excelio failus, ir SQLite3 duomenų bazę. Patikrinkite, ar suveikė."
   ]
  },
  {
   "cell_type": "code",
   "execution_count": 14,
   "metadata": {},
   "outputs": [],
   "source": [
    "countries.to_csv('countries.csv', index=False)\n",
    "countries.to_excel('countries.xls', 'Sheet1', index=False)\n",
    "\n",
    "from sqlalchemy import create_engine\n",
    "engine = create_engine('sqlite:///countries.db')\n",
    "countries.to_sql('countries', con=engine, index=False)"
   ]
  },
  {
   "cell_type": "markdown",
   "metadata": {},
   "source": [
    "# 3 Nuskaitykite į DF šį [failą]()"
   ]
  },
  {
   "cell_type": "code",
   "execution_count": 15,
   "metadata": {},
   "outputs": [],
   "source": [
    "fires = pd.read_csv('top_20_CA_wildfires.csv')"
   ]
  },
  {
   "cell_type": "code",
   "execution_count": 68,
   "metadata": {},
   "outputs": [
    {
     "data": {
      "text/html": [
       "<div>\n",
       "<style scoped>\n",
       "    .dataframe tbody tr th:only-of-type {\n",
       "        vertical-align: middle;\n",
       "    }\n",
       "\n",
       "    .dataframe tbody tr th {\n",
       "        vertical-align: top;\n",
       "    }\n",
       "\n",
       "    .dataframe thead th {\n",
       "        text-align: right;\n",
       "    }\n",
       "</style>\n",
       "<table border=\"1\" class=\"dataframe\">\n",
       "  <thead>\n",
       "    <tr style=\"text-align: right;\">\n",
       "      <th></th>\n",
       "      <th>fire_name</th>\n",
       "      <th>cause</th>\n",
       "      <th>month</th>\n",
       "      <th>year</th>\n",
       "      <th>county</th>\n",
       "      <th>acres</th>\n",
       "      <th>structures</th>\n",
       "      <th>deaths</th>\n",
       "    </tr>\n",
       "  </thead>\n",
       "  <tbody>\n",
       "    <tr>\n",
       "      <th>0</th>\n",
       "      <td>Mendocino Complex</td>\n",
       "      <td>Under Investigation</td>\n",
       "      <td>7</td>\n",
       "      <td>2018</td>\n",
       "      <td>Colusa County, Lake County, Mendocino County &amp;...</td>\n",
       "      <td>459123</td>\n",
       "      <td>280</td>\n",
       "      <td>1</td>\n",
       "    </tr>\n",
       "    <tr>\n",
       "      <th>1</th>\n",
       "      <td>Thomas</td>\n",
       "      <td>Powerlines</td>\n",
       "      <td>12</td>\n",
       "      <td>2017</td>\n",
       "      <td>Ventura &amp; Santa Barbara</td>\n",
       "      <td>281893</td>\n",
       "      <td>1063</td>\n",
       "      <td>2</td>\n",
       "    </tr>\n",
       "    <tr>\n",
       "      <th>2</th>\n",
       "      <td>Cedar</td>\n",
       "      <td>Human Related</td>\n",
       "      <td>10</td>\n",
       "      <td>2003</td>\n",
       "      <td>San Diego</td>\n",
       "      <td>273246</td>\n",
       "      <td>2820</td>\n",
       "      <td>15</td>\n",
       "    </tr>\n",
       "    <tr>\n",
       "      <th>3</th>\n",
       "      <td>Rush</td>\n",
       "      <td>Lightning</td>\n",
       "      <td>8</td>\n",
       "      <td>2012</td>\n",
       "      <td>Lassen</td>\n",
       "      <td>271911</td>\n",
       "      <td>0</td>\n",
       "      <td>0</td>\n",
       "    </tr>\n",
       "    <tr>\n",
       "      <th>4</th>\n",
       "      <td>Rim</td>\n",
       "      <td>Human Related</td>\n",
       "      <td>8</td>\n",
       "      <td>2013</td>\n",
       "      <td>Tuolumne</td>\n",
       "      <td>257314</td>\n",
       "      <td>112</td>\n",
       "      <td>0</td>\n",
       "    </tr>\n",
       "  </tbody>\n",
       "</table>\n",
       "</div>"
      ],
      "text/plain": [
       "           fire_name                cause  month  year  \\\n",
       "0  Mendocino Complex  Under Investigation      7  2018   \n",
       "1             Thomas           Powerlines     12  2017   \n",
       "2              Cedar        Human Related     10  2003   \n",
       "3               Rush            Lightning      8  2012   \n",
       "4                Rim        Human Related      8  2013   \n",
       "\n",
       "                                              county   acres  structures  \\\n",
       "0  Colusa County, Lake County, Mendocino County &...  459123         280   \n",
       "1                            Ventura & Santa Barbara  281893        1063   \n",
       "2                                          San Diego  273246        2820   \n",
       "3                                             Lassen  271911           0   \n",
       "4                                           Tuolumne  257314         112   \n",
       "\n",
       "   deaths  \n",
       "0       1  \n",
       "1       2  \n",
       "2      15  \n",
       "3       0  \n",
       "4       0  "
      ]
     },
     "execution_count": 68,
     "metadata": {},
     "output_type": "execute_result"
    }
   ],
   "source": [
    "fires.head()"
   ]
  },
  {
   "cell_type": "markdown",
   "metadata": {},
   "source": [
    "# 4 Kiek unikalių reikšmių yra stulpelyje 'cause'?"
   ]
  },
  {
   "cell_type": "code",
   "execution_count": 19,
   "metadata": {},
   "outputs": [
    {
     "data": {
      "text/plain": [
       "5"
      ]
     },
     "execution_count": 19,
     "metadata": {},
     "output_type": "execute_result"
    }
   ],
   "source": [
    "len(fires['cause'].unique())"
   ]
  },
  {
   "cell_type": "markdown",
   "metadata": {},
   "source": [
    "# 5 Kokios priežastys, kiek kartų pasitaiko lentelėje?"
   ]
  },
  {
   "cell_type": "code",
   "execution_count": 28,
   "metadata": {
    "scrolled": true
   },
   "outputs": [
    {
     "data": {
      "text/plain": [
       "Human Related          7\n",
       "Lightning              7\n",
       "Powerlines             4\n",
       "Undetermined           1\n",
       "Under Investigation    1\n",
       "Name: cause, dtype: int64"
      ]
     },
     "execution_count": 28,
     "metadata": {},
     "output_type": "execute_result"
    }
   ],
   "source": [
    "fires['cause'].value_counts()"
   ]
  },
  {
   "cell_type": "markdown",
   "metadata": {},
   "source": [
    "# 6 Kuriais metais buvo daugiausia gaisrų?"
   ]
  },
  {
   "cell_type": "code",
   "execution_count": 43,
   "metadata": {},
   "outputs": [
    {
     "data": {
      "text/plain": [
       "2018"
      ]
     },
     "execution_count": 43,
     "metadata": {},
     "output_type": "execute_result"
    }
   ],
   "source": [
    "fires['year'].value_counts().idxmax()"
   ]
  },
  {
   "cell_type": "markdown",
   "metadata": {},
   "source": [
    "# 7 Kiek buvo tokių gaisrų, kuriuose žuvo žmonės?"
   ]
  },
  {
   "cell_type": "code",
   "execution_count": 33,
   "metadata": {
    "scrolled": true
   },
   "outputs": [
    {
     "data": {
      "text/plain": [
       "10"
      ]
     },
     "execution_count": 33,
     "metadata": {},
     "output_type": "execute_result"
    }
   ],
   "source": [
    "fires['deaths'].value_counts().drop(0).sum()"
   ]
  },
  {
   "cell_type": "markdown",
   "metadata": {},
   "source": [
    "# 8 Surūšiuokite eilutes pagal metus. Išsiaiškinkite, kaip rūšiuoti, kad naujausi gaisrai būtų viršuje"
   ]
  },
  {
   "cell_type": "code",
   "execution_count": 23,
   "metadata": {
    "scrolled": true
   },
   "outputs": [
    {
     "data": {
      "text/html": [
       "<div>\n",
       "<style scoped>\n",
       "    .dataframe tbody tr th:only-of-type {\n",
       "        vertical-align: middle;\n",
       "    }\n",
       "\n",
       "    .dataframe tbody tr th {\n",
       "        vertical-align: top;\n",
       "    }\n",
       "\n",
       "    .dataframe thead th {\n",
       "        text-align: right;\n",
       "    }\n",
       "</style>\n",
       "<table border=\"1\" class=\"dataframe\">\n",
       "  <thead>\n",
       "    <tr style=\"text-align: right;\">\n",
       "      <th></th>\n",
       "      <th>fire_name</th>\n",
       "      <th>cause</th>\n",
       "      <th>month</th>\n",
       "      <th>year</th>\n",
       "      <th>county</th>\n",
       "      <th>acres</th>\n",
       "      <th>structures</th>\n",
       "      <th>deaths</th>\n",
       "    </tr>\n",
       "  </thead>\n",
       "  <tbody>\n",
       "    <tr>\n",
       "      <th>0</th>\n",
       "      <td>Mendocino Complex</td>\n",
       "      <td>Under Investigation</td>\n",
       "      <td>July</td>\n",
       "      <td>2018</td>\n",
       "      <td>Colusa County, Lake County, Mendocino County &amp;...</td>\n",
       "      <td>459123</td>\n",
       "      <td>280</td>\n",
       "      <td>1</td>\n",
       "    </tr>\n",
       "    <tr>\n",
       "      <th>15</th>\n",
       "      <td>Camp Fire</td>\n",
       "      <td>Powerlines</td>\n",
       "      <td>November</td>\n",
       "      <td>2018</td>\n",
       "      <td>Butte</td>\n",
       "      <td>153336</td>\n",
       "      <td>18804</td>\n",
       "      <td>85</td>\n",
       "    </tr>\n",
       "    <tr>\n",
       "      <th>6</th>\n",
       "      <td>Carr</td>\n",
       "      <td>Human Related</td>\n",
       "      <td>July</td>\n",
       "      <td>2018</td>\n",
       "      <td>Shasta County,Trinity County</td>\n",
       "      <td>229651</td>\n",
       "      <td>1614</td>\n",
       "      <td>8</td>\n",
       "    </tr>\n",
       "    <tr>\n",
       "      <th>1</th>\n",
       "      <td>Thomas</td>\n",
       "      <td>Powerlines</td>\n",
       "      <td>December</td>\n",
       "      <td>2017</td>\n",
       "      <td>Ventura &amp; Santa Barbara</td>\n",
       "      <td>281893</td>\n",
       "      <td>1063</td>\n",
       "      <td>2</td>\n",
       "    </tr>\n",
       "    <tr>\n",
       "      <th>16</th>\n",
       "      <td>Rough</td>\n",
       "      <td>Lightning</td>\n",
       "      <td>July</td>\n",
       "      <td>2015</td>\n",
       "      <td>Fresno</td>\n",
       "      <td>151623</td>\n",
       "      <td>4</td>\n",
       "      <td>0</td>\n",
       "    </tr>\n",
       "  </tbody>\n",
       "</table>\n",
       "</div>"
      ],
      "text/plain": [
       "            fire_name                cause     month  year  \\\n",
       "0   Mendocino Complex  Under Investigation      July  2018   \n",
       "15          Camp Fire           Powerlines  November  2018   \n",
       "6                Carr        Human Related      July  2018   \n",
       "1              Thomas           Powerlines  December  2017   \n",
       "16              Rough            Lightning      July  2015   \n",
       "\n",
       "                                               county   acres  structures  \\\n",
       "0   Colusa County, Lake County, Mendocino County &...  459123         280   \n",
       "15                                              Butte  153336       18804   \n",
       "6                        Shasta County,Trinity County  229651        1614   \n",
       "1                             Ventura & Santa Barbara  281893        1063   \n",
       "16                                             Fresno  151623           4   \n",
       "\n",
       "    deaths  \n",
       "0        1  \n",
       "15      85  \n",
       "6        8  \n",
       "1        2  \n",
       "16       0  "
      ]
     },
     "execution_count": 23,
     "metadata": {},
     "output_type": "execute_result"
    }
   ],
   "source": [
    "fires.sort_values('year', ascending=False).head()"
   ]
  },
  {
   "cell_type": "markdown",
   "metadata": {},
   "source": [
    "# 9 Parašykite funkciją, kuri mėnesio pavadinimą verstų skaičiumi. Naudodami .apply() lentelėje pakeiskite mėnesių pavadinimus skaičiais. \n",
    "*nusikopijuokite žodyną, kad nereikėtų rašyti ranka :)*"
   ]
  },
  {
   "cell_type": "code",
   "execution_count": 57,
   "metadata": {},
   "outputs": [],
   "source": [
    "menesiai = {1: 'January',\n",
    "  2: 'February',\n",
    "  3: 'March',\n",
    "  4: 'April',\n",
    "  5: 'May',\n",
    "  6: 'June',\n",
    "  7: 'July',\n",
    "  8: 'August',\n",
    "  9: 'September',\n",
    "  10: 'October',\n",
    "  11: 'November',\n",
    "  12: 'December'}"
   ]
  },
  {
   "cell_type": "code",
   "execution_count": 61,
   "metadata": {},
   "outputs": [],
   "source": [
    "def months_to_nums(month):\n",
    "    months = {1: 'January',\n",
    "  2: 'February',\n",
    "  3: 'March',\n",
    "  4: 'April',\n",
    "  5: 'May',\n",
    "  6: 'June',\n",
    "  7: 'July',\n",
    "  8: 'August',\n",
    "  9: 'September',\n",
    "  10: 'October',\n",
    "  11: 'November',\n",
    "  12: 'December'}\n",
    "    for idx, mn in months.items():\n",
    "        if mn == month:\n",
    "            return idx"
   ]
  },
  {
   "cell_type": "code",
   "execution_count": 62,
   "metadata": {},
   "outputs": [
    {
     "data": {
      "text/plain": [
       "7"
      ]
     },
     "execution_count": 62,
     "metadata": {},
     "output_type": "execute_result"
    }
   ],
   "source": [
    "months_to_nums('July')"
   ]
  },
  {
   "cell_type": "code",
   "execution_count": 65,
   "metadata": {},
   "outputs": [],
   "source": [
    "fires['month'] = fires['month'].apply(months_to_nums)"
   ]
  },
  {
   "cell_type": "code",
   "execution_count": 67,
   "metadata": {},
   "outputs": [
    {
     "data": {
      "text/html": [
       "<div>\n",
       "<style scoped>\n",
       "    .dataframe tbody tr th:only-of-type {\n",
       "        vertical-align: middle;\n",
       "    }\n",
       "\n",
       "    .dataframe tbody tr th {\n",
       "        vertical-align: top;\n",
       "    }\n",
       "\n",
       "    .dataframe thead th {\n",
       "        text-align: right;\n",
       "    }\n",
       "</style>\n",
       "<table border=\"1\" class=\"dataframe\">\n",
       "  <thead>\n",
       "    <tr style=\"text-align: right;\">\n",
       "      <th></th>\n",
       "      <th>fire_name</th>\n",
       "      <th>cause</th>\n",
       "      <th>month</th>\n",
       "      <th>year</th>\n",
       "      <th>county</th>\n",
       "      <th>acres</th>\n",
       "      <th>structures</th>\n",
       "      <th>deaths</th>\n",
       "    </tr>\n",
       "  </thead>\n",
       "  <tbody>\n",
       "    <tr>\n",
       "      <th>0</th>\n",
       "      <td>Mendocino Complex</td>\n",
       "      <td>Under Investigation</td>\n",
       "      <td>7</td>\n",
       "      <td>2018</td>\n",
       "      <td>Colusa County, Lake County, Mendocino County &amp;...</td>\n",
       "      <td>459123</td>\n",
       "      <td>280</td>\n",
       "      <td>1</td>\n",
       "    </tr>\n",
       "    <tr>\n",
       "      <th>1</th>\n",
       "      <td>Thomas</td>\n",
       "      <td>Powerlines</td>\n",
       "      <td>12</td>\n",
       "      <td>2017</td>\n",
       "      <td>Ventura &amp; Santa Barbara</td>\n",
       "      <td>281893</td>\n",
       "      <td>1063</td>\n",
       "      <td>2</td>\n",
       "    </tr>\n",
       "    <tr>\n",
       "      <th>2</th>\n",
       "      <td>Cedar</td>\n",
       "      <td>Human Related</td>\n",
       "      <td>10</td>\n",
       "      <td>2003</td>\n",
       "      <td>San Diego</td>\n",
       "      <td>273246</td>\n",
       "      <td>2820</td>\n",
       "      <td>15</td>\n",
       "    </tr>\n",
       "    <tr>\n",
       "      <th>3</th>\n",
       "      <td>Rush</td>\n",
       "      <td>Lightning</td>\n",
       "      <td>8</td>\n",
       "      <td>2012</td>\n",
       "      <td>Lassen</td>\n",
       "      <td>271911</td>\n",
       "      <td>0</td>\n",
       "      <td>0</td>\n",
       "    </tr>\n",
       "    <tr>\n",
       "      <th>4</th>\n",
       "      <td>Rim</td>\n",
       "      <td>Human Related</td>\n",
       "      <td>8</td>\n",
       "      <td>2013</td>\n",
       "      <td>Tuolumne</td>\n",
       "      <td>257314</td>\n",
       "      <td>112</td>\n",
       "      <td>0</td>\n",
       "    </tr>\n",
       "  </tbody>\n",
       "</table>\n",
       "</div>"
      ],
      "text/plain": [
       "           fire_name                cause  month  year  \\\n",
       "0  Mendocino Complex  Under Investigation      7  2018   \n",
       "1             Thomas           Powerlines     12  2017   \n",
       "2              Cedar        Human Related     10  2003   \n",
       "3               Rush            Lightning      8  2012   \n",
       "4                Rim        Human Related      8  2013   \n",
       "\n",
       "                                              county   acres  structures  \\\n",
       "0  Colusa County, Lake County, Mendocino County &...  459123         280   \n",
       "1                            Ventura & Santa Barbara  281893        1063   \n",
       "2                                          San Diego  273246        2820   \n",
       "3                                             Lassen  271911           0   \n",
       "4                                           Tuolumne  257314         112   \n",
       "\n",
       "   deaths  \n",
       "0       1  \n",
       "1       2  \n",
       "2      15  \n",
       "3       0  \n",
       "4       0  "
      ]
     },
     "execution_count": 67,
     "metadata": {},
     "output_type": "execute_result"
    }
   ],
   "source": [
    "fires.head()"
   ]
  },
  {
   "cell_type": "markdown",
   "metadata": {},
   "source": [
    "# 10 Nuskaitykite lentelę iš [čia](https://lt.wikipedia.org/wiki/S%C4%85ra%C5%A1as:Lietuvos_miestai_pagal_gyventojus). "
   ]
  },
  {
   "cell_type": "markdown",
   "metadata": {},
   "source": [
    "* **Pakeiskite indeksą į stulpelį 'Miestas'**\n",
    "* **Sutvarkykite duomenis taip, kad gyventojų sk. reprezentuotų lengelis su 'int' reikšme: -\n",
    "Ten kur trūksta duomenų - nulis. \n",
    "ten, kur reikšmės ne integer, sutvarkykite, kad būtų integer.** "
   ]
  },
  {
   "cell_type": "code",
   "execution_count": 423,
   "metadata": {},
   "outputs": [],
   "source": [
    "data = pd.read_html('https://lt.wikipedia.org/wiki/S%C4%85ra%C5%A1as:Lietuvos_miestai_pagal_gyventojus')"
   ]
  },
  {
   "cell_type": "code",
   "execution_count": 424,
   "metadata": {},
   "outputs": [
    {
     "data": {
      "text/plain": [
       "1"
      ]
     },
     "execution_count": 424,
     "metadata": {},
     "output_type": "execute_result"
    }
   ],
   "source": [
    "# Pasitikriname sąrašo ilgį\n",
    "len(data)"
   ]
  },
  {
   "cell_type": "code",
   "execution_count": 425,
   "metadata": {},
   "outputs": [],
   "source": [
    "# kadangi sąrašas iš vieno elemento, nereikia spėlioti. Patogumo dėlei persivadiname DF. \n",
    "miestai = data[0]"
   ]
  },
  {
   "cell_type": "code",
   "execution_count": 426,
   "metadata": {},
   "outputs": [
    {
     "data": {
      "text/html": [
       "<div>\n",
       "<style scoped>\n",
       "    .dataframe tbody tr th:only-of-type {\n",
       "        vertical-align: middle;\n",
       "    }\n",
       "\n",
       "    .dataframe tbody tr th {\n",
       "        vertical-align: top;\n",
       "    }\n",
       "\n",
       "    .dataframe thead th {\n",
       "        text-align: right;\n",
       "    }\n",
       "</style>\n",
       "<table border=\"1\" class=\"dataframe\">\n",
       "  <thead>\n",
       "    <tr style=\"text-align: right;\">\n",
       "      <th></th>\n",
       "      <th>Miestas</th>\n",
       "      <th>2019 m.</th>\n",
       "      <th>2011 m.</th>\n",
       "      <th>2001 m.</th>\n",
       "      <th>1989 m.</th>\n",
       "      <th>1979 m.</th>\n",
       "      <th>1970 m.</th>\n",
       "      <th>1959 m.</th>\n",
       "      <th>1923 m.</th>\n",
       "      <th>1897 m.</th>\n",
       "    </tr>\n",
       "  </thead>\n",
       "  <tbody>\n",
       "    <tr>\n",
       "      <th>0</th>\n",
       "      <td>Vilnius</td>\n",
       "      <td>540 919</td>\n",
       "      <td>535631</td>\n",
       "      <td>542287</td>\n",
       "      <td>576747</td>\n",
       "      <td>475825</td>\n",
       "      <td>370153</td>\n",
       "      <td>236100</td>\n",
       "      <td>167400</td>\n",
       "      <td>154532*</td>\n",
       "    </tr>\n",
       "    <tr>\n",
       "      <th>1</th>\n",
       "      <td>Kaunas</td>\n",
       "      <td>286 763</td>\n",
       "      <td>315993</td>\n",
       "      <td>378650</td>\n",
       "      <td>419745</td>\n",
       "      <td>370000</td>\n",
       "      <td>305600</td>\n",
       "      <td>216850</td>\n",
       "      <td>92446</td>\n",
       "      <td>70920*</td>\n",
       "    </tr>\n",
       "    <tr>\n",
       "      <th>2</th>\n",
       "      <td>Klaipėda</td>\n",
       "      <td>147 898</td>\n",
       "      <td>162360</td>\n",
       "      <td>192954</td>\n",
       "      <td>202929</td>\n",
       "      <td>176648</td>\n",
       "      <td>140342</td>\n",
       "      <td>89500</td>\n",
       "      <td>35845</td>\n",
       "      <td>20100</td>\n",
       "    </tr>\n",
       "    <tr>\n",
       "      <th>3</th>\n",
       "      <td>Šiauliai</td>\n",
       "      <td>100 119</td>\n",
       "      <td>109328</td>\n",
       "      <td>133883</td>\n",
       "      <td>145629</td>\n",
       "      <td>118724</td>\n",
       "      <td>92375</td>\n",
       "      <td>59700</td>\n",
       "      <td>21387</td>\n",
       "      <td>16128*</td>\n",
       "    </tr>\n",
       "    <tr>\n",
       "      <th>4</th>\n",
       "      <td>Panevėžys</td>\n",
       "      <td>87 148</td>\n",
       "      <td>99690</td>\n",
       "      <td>119749</td>\n",
       "      <td>126483</td>\n",
       "      <td>102303</td>\n",
       "      <td>74497</td>\n",
       "      <td>41100</td>\n",
       "      <td>19197</td>\n",
       "      <td>12968*</td>\n",
       "    </tr>\n",
       "  </tbody>\n",
       "</table>\n",
       "</div>"
      ],
      "text/plain": [
       "     Miestas  2019 m.  2011 m.  2001 m. 1989 m.  1979 m.  1970 m.  1959 m.  \\\n",
       "0    Vilnius  540 919   535631   542287  576747   475825   370153   236100   \n",
       "1     Kaunas  286 763   315993   378650  419745   370000   305600   216850   \n",
       "2   Klaipėda  147 898   162360   192954  202929   176648   140342    89500   \n",
       "3   Šiauliai  100 119   109328   133883  145629   118724    92375    59700   \n",
       "4  Panevėžys   87 148    99690   119749  126483   102303    74497    41100   \n",
       "\n",
       "  1923 m.  1897 m.  \n",
       "0  167400  154532*  \n",
       "1   92446   70920*  \n",
       "2   35845    20100  \n",
       "3   21387   16128*  \n",
       "4   19197   12968*  "
      ]
     },
     "execution_count": 426,
     "metadata": {},
     "output_type": "execute_result"
    }
   ],
   "source": [
    "miestai.head()"
   ]
  },
  {
   "cell_type": "code",
   "execution_count": 427,
   "metadata": {},
   "outputs": [
    {
     "name": "stdout",
     "output_type": "stream",
     "text": [
      "<class 'pandas.core.frame.DataFrame'>\n",
      "RangeIndex: 103 entries, 0 to 102\n",
      "Data columns (total 10 columns):\n",
      "Miestas    103 non-null object\n",
      "2019 m.    103 non-null object\n",
      "2011 m.    103 non-null int64\n",
      "2001 m.    103 non-null int64\n",
      "1989 m.    103 non-null object\n",
      "1979 m.    103 non-null int64\n",
      "1970 m.    103 non-null int64\n",
      "1959 m.    103 non-null int64\n",
      "1923 m.    103 non-null object\n",
      "1897 m.    103 non-null object\n",
      "dtypes: int64(5), object(5)\n",
      "memory usage: 8.1+ KB\n"
     ]
    }
   ],
   "source": [
    "miestai.info()\n",
    "# Matome, kad reikės tvarkyti 2019, 2011, 1989, 1923, 1897 stulpelius"
   ]
  },
  {
   "cell_type": "code",
   "execution_count": 428,
   "metadata": {},
   "outputs": [],
   "source": [
    "miestai.set_index('Miestas', inplace=True)"
   ]
  },
  {
   "cell_type": "code",
   "execution_count": 429,
   "metadata": {},
   "outputs": [],
   "source": [
    "col_list = miestai.columns.tolist()"
   ]
  },
  {
   "cell_type": "code",
   "execution_count": 430,
   "metadata": {},
   "outputs": [
    {
     "data": {
      "text/plain": [
       "['2019\\xa0m.',\n",
       " '2011\\xa0m.',\n",
       " '2001\\xa0m.',\n",
       " '1989\\xa0m.',\n",
       " '1979\\xa0m.',\n",
       " '1970\\xa0m.',\n",
       " '1959\\xa0m.',\n",
       " '1923\\xa0m.',\n",
       " '1897\\xa0m.']"
      ]
     },
     "execution_count": 430,
     "metadata": {},
     "output_type": "execute_result"
    }
   ],
   "source": [
    "col_list"
   ]
  },
  {
   "cell_type": "code",
   "execution_count": 431,
   "metadata": {},
   "outputs": [],
   "source": [
    "# Kad būtų patogiau, persivadinkim stulpelius\n",
    "\n",
    "new_list = []\n",
    "for item in col_list:\n",
    "    fixed = item.replace('\\xa0m.', '')\n",
    "    new_list.append(fixed)\n",
    "\n",
    "miestai.columns = new_list"
   ]
  },
  {
   "cell_type": "code",
   "execution_count": 432,
   "metadata": {},
   "outputs": [
    {
     "data": {
      "text/html": [
       "<div>\n",
       "<style scoped>\n",
       "    .dataframe tbody tr th:only-of-type {\n",
       "        vertical-align: middle;\n",
       "    }\n",
       "\n",
       "    .dataframe tbody tr th {\n",
       "        vertical-align: top;\n",
       "    }\n",
       "\n",
       "    .dataframe thead th {\n",
       "        text-align: right;\n",
       "    }\n",
       "</style>\n",
       "<table border=\"1\" class=\"dataframe\">\n",
       "  <thead>\n",
       "    <tr style=\"text-align: right;\">\n",
       "      <th></th>\n",
       "      <th>2019</th>\n",
       "      <th>2011</th>\n",
       "      <th>2001</th>\n",
       "      <th>1989</th>\n",
       "      <th>1979</th>\n",
       "      <th>1970</th>\n",
       "      <th>1959</th>\n",
       "      <th>1923</th>\n",
       "      <th>1897</th>\n",
       "    </tr>\n",
       "    <tr>\n",
       "      <th>Miestas</th>\n",
       "      <th></th>\n",
       "      <th></th>\n",
       "      <th></th>\n",
       "      <th></th>\n",
       "      <th></th>\n",
       "      <th></th>\n",
       "      <th></th>\n",
       "      <th></th>\n",
       "      <th></th>\n",
       "    </tr>\n",
       "  </thead>\n",
       "  <tbody>\n",
       "    <tr>\n",
       "      <th>Vilnius</th>\n",
       "      <td>540 919</td>\n",
       "      <td>535631</td>\n",
       "      <td>542287</td>\n",
       "      <td>576747</td>\n",
       "      <td>475825</td>\n",
       "      <td>370153</td>\n",
       "      <td>236100</td>\n",
       "      <td>167400</td>\n",
       "      <td>154532*</td>\n",
       "    </tr>\n",
       "    <tr>\n",
       "      <th>Kaunas</th>\n",
       "      <td>286 763</td>\n",
       "      <td>315993</td>\n",
       "      <td>378650</td>\n",
       "      <td>419745</td>\n",
       "      <td>370000</td>\n",
       "      <td>305600</td>\n",
       "      <td>216850</td>\n",
       "      <td>92446</td>\n",
       "      <td>70920*</td>\n",
       "    </tr>\n",
       "    <tr>\n",
       "      <th>Klaipėda</th>\n",
       "      <td>147 898</td>\n",
       "      <td>162360</td>\n",
       "      <td>192954</td>\n",
       "      <td>202929</td>\n",
       "      <td>176648</td>\n",
       "      <td>140342</td>\n",
       "      <td>89500</td>\n",
       "      <td>35845</td>\n",
       "      <td>20100</td>\n",
       "    </tr>\n",
       "    <tr>\n",
       "      <th>Šiauliai</th>\n",
       "      <td>100 119</td>\n",
       "      <td>109328</td>\n",
       "      <td>133883</td>\n",
       "      <td>145629</td>\n",
       "      <td>118724</td>\n",
       "      <td>92375</td>\n",
       "      <td>59700</td>\n",
       "      <td>21387</td>\n",
       "      <td>16128*</td>\n",
       "    </tr>\n",
       "    <tr>\n",
       "      <th>Panevėžys</th>\n",
       "      <td>87 148</td>\n",
       "      <td>99690</td>\n",
       "      <td>119749</td>\n",
       "      <td>126483</td>\n",
       "      <td>102303</td>\n",
       "      <td>74497</td>\n",
       "      <td>41100</td>\n",
       "      <td>19197</td>\n",
       "      <td>12968*</td>\n",
       "    </tr>\n",
       "  </tbody>\n",
       "</table>\n",
       "</div>"
      ],
      "text/plain": [
       "              2019    2011    2001    1989    1979    1970    1959    1923  \\\n",
       "Miestas                                                                      \n",
       "Vilnius    540 919  535631  542287  576747  475825  370153  236100  167400   \n",
       "Kaunas     286 763  315993  378650  419745  370000  305600  216850   92446   \n",
       "Klaipėda   147 898  162360  192954  202929  176648  140342   89500   35845   \n",
       "Šiauliai   100 119  109328  133883  145629  118724   92375   59700   21387   \n",
       "Panevėžys   87 148   99690  119749  126483  102303   74497   41100   19197   \n",
       "\n",
       "              1897  \n",
       "Miestas             \n",
       "Vilnius    154532*  \n",
       "Kaunas      70920*  \n",
       "Klaipėda     20100  \n",
       "Šiauliai    16128*  \n",
       "Panevėžys   12968*  "
      ]
     },
     "execution_count": 432,
     "metadata": {},
     "output_type": "execute_result"
    }
   ],
   "source": [
    "miestai.head()"
   ]
  },
  {
   "cell_type": "code",
   "execution_count": 433,
   "metadata": {},
   "outputs": [
    {
     "data": {
      "text/plain": [
       "False"
      ]
     },
     "execution_count": 433,
     "metadata": {},
     "output_type": "execute_result"
    }
   ],
   "source": [
    "# Iš karto matyti, kad 2019 reikšmės yra string, pasitikrinkime, ar bent viena yra int:\n",
    "any([isinstance(x, int) for x in miestai['2019']])"
   ]
  },
  {
   "cell_type": "code",
   "execution_count": 434,
   "metadata": {},
   "outputs": [],
   "source": [
    "# Gaminame funkciją stulpeliui 2019 sutvarkyti:\n",
    "def fix_2019(value):\n",
    "    if ' ' in value:\n",
    "        return int(value.replace(' ', ''))\n",
    "    return int(value)"
   ]
  },
  {
   "cell_type": "code",
   "execution_count": 435,
   "metadata": {},
   "outputs": [
    {
     "data": {
      "text/plain": [
       "540919"
      ]
     },
     "execution_count": 435,
     "metadata": {},
     "output_type": "execute_result"
    }
   ],
   "source": [
    "fix_2019('540 919')"
   ]
  },
  {
   "cell_type": "code",
   "execution_count": 436,
   "metadata": {},
   "outputs": [
    {
     "data": {
      "text/plain": [
       "123"
      ]
     },
     "execution_count": 436,
     "metadata": {},
     "output_type": "execute_result"
    }
   ],
   "source": [
    "fix_2019('123')"
   ]
  },
  {
   "cell_type": "code",
   "execution_count": 437,
   "metadata": {},
   "outputs": [],
   "source": [
    "miestai['2019'] = miestai['2019'].apply(fix_2019)"
   ]
  },
  {
   "cell_type": "code",
   "execution_count": 438,
   "metadata": {},
   "outputs": [
    {
     "name": "stdout",
     "output_type": "stream",
     "text": [
      "<class 'pandas.core.frame.DataFrame'>\n",
      "Index: 103 entries, Vilnius to Panemunė\n",
      "Data columns (total 9 columns):\n",
      "2019    103 non-null int64\n",
      "2011    103 non-null int64\n",
      "2001    103 non-null int64\n",
      "1989    103 non-null object\n",
      "1979    103 non-null int64\n",
      "1970    103 non-null int64\n",
      "1959    103 non-null int64\n",
      "1923    103 non-null object\n",
      "1897    103 non-null object\n",
      "dtypes: int64(6), object(3)\n",
      "memory usage: 8.0+ KB\n"
     ]
    }
   ],
   "source": [
    "miestai.info()"
   ]
  },
  {
   "cell_type": "code",
   "execution_count": 439,
   "metadata": {},
   "outputs": [
    {
     "data": {
      "text/plain": [
       "False"
      ]
     },
     "execution_count": 439,
     "metadata": {},
     "output_type": "execute_result"
    }
   ],
   "source": [
    "any([isinstance(x, int) for x in miestai['1989']])"
   ]
  },
  {
   "cell_type": "code",
   "execution_count": 440,
   "metadata": {},
   "outputs": [],
   "source": [
    "# mėginame ištaisyti 1989 stulpelį su 2019 fix'u ir mums pavyksta :)\n",
    "miestai['1989'] = miestai['1989'].apply(fix_2019)"
   ]
  },
  {
   "cell_type": "code",
   "execution_count": 441,
   "metadata": {},
   "outputs": [
    {
     "name": "stdout",
     "output_type": "stream",
     "text": [
      "<class 'pandas.core.frame.DataFrame'>\n",
      "Index: 103 entries, Vilnius to Panemunė\n",
      "Data columns (total 9 columns):\n",
      "2019    103 non-null int64\n",
      "2011    103 non-null int64\n",
      "2001    103 non-null int64\n",
      "1989    103 non-null int64\n",
      "1979    103 non-null int64\n",
      "1970    103 non-null int64\n",
      "1959    103 non-null int64\n",
      "1923    103 non-null object\n",
      "1897    103 non-null object\n",
      "dtypes: int64(7), object(2)\n",
      "memory usage: 8.0+ KB\n"
     ]
    }
   ],
   "source": [
    "# matome, kad liko paskutiniai du stulpeliai:\n",
    "miestai.info()"
   ]
  },
  {
   "cell_type": "code",
   "execution_count": 442,
   "metadata": {},
   "outputs": [
    {
     "data": {
      "text/plain": [
       "103"
      ]
     },
     "execution_count": 442,
     "metadata": {},
     "output_type": "execute_result"
    }
   ],
   "source": [
    "# naudojame list comprehension, patikrinti kiek reikšmių yra ne integer\n",
    "len([not isinstance(x, int) for x in miestai['2019']]) "
   ]
  },
  {
   "cell_type": "code",
   "execution_count": 443,
   "metadata": {
    "scrolled": true
   },
   "outputs": [],
   "source": [
    "#bandome ištaisyti reikšmes, kurios leidžiasi ištaisomos: \n",
    "def fix_1923(x):\n",
    "    try:\n",
    "        return int(x)\n",
    "    except:\n",
    "        return x"
   ]
  },
  {
   "cell_type": "code",
   "execution_count": 444,
   "metadata": {},
   "outputs": [],
   "source": [
    "miestai['1923'] = miestai['1923'].apply(fix_1923)"
   ]
  },
  {
   "cell_type": "code",
   "execution_count": 445,
   "metadata": {},
   "outputs": [
    {
     "data": {
      "text/html": [
       "<div>\n",
       "<style scoped>\n",
       "    .dataframe tbody tr th:only-of-type {\n",
       "        vertical-align: middle;\n",
       "    }\n",
       "\n",
       "    .dataframe tbody tr th {\n",
       "        vertical-align: top;\n",
       "    }\n",
       "\n",
       "    .dataframe thead th {\n",
       "        text-align: right;\n",
       "    }\n",
       "</style>\n",
       "<table border=\"1\" class=\"dataframe\">\n",
       "  <thead>\n",
       "    <tr style=\"text-align: right;\">\n",
       "      <th></th>\n",
       "      <th>2019</th>\n",
       "      <th>2011</th>\n",
       "      <th>2001</th>\n",
       "      <th>1989</th>\n",
       "      <th>1979</th>\n",
       "      <th>1970</th>\n",
       "      <th>1959</th>\n",
       "      <th>1923</th>\n",
       "      <th>1897</th>\n",
       "    </tr>\n",
       "    <tr>\n",
       "      <th>Miestas</th>\n",
       "      <th></th>\n",
       "      <th></th>\n",
       "      <th></th>\n",
       "      <th></th>\n",
       "      <th></th>\n",
       "      <th></th>\n",
       "      <th></th>\n",
       "      <th></th>\n",
       "      <th></th>\n",
       "    </tr>\n",
       "  </thead>\n",
       "  <tbody>\n",
       "    <tr>\n",
       "      <th>Vilnius</th>\n",
       "      <td>540919</td>\n",
       "      <td>535631</td>\n",
       "      <td>542287</td>\n",
       "      <td>576747</td>\n",
       "      <td>475825</td>\n",
       "      <td>370153</td>\n",
       "      <td>236100</td>\n",
       "      <td>167400</td>\n",
       "      <td>154532*</td>\n",
       "    </tr>\n",
       "    <tr>\n",
       "      <th>Kaunas</th>\n",
       "      <td>286763</td>\n",
       "      <td>315993</td>\n",
       "      <td>378650</td>\n",
       "      <td>419745</td>\n",
       "      <td>370000</td>\n",
       "      <td>305600</td>\n",
       "      <td>216850</td>\n",
       "      <td>92446</td>\n",
       "      <td>70920*</td>\n",
       "    </tr>\n",
       "    <tr>\n",
       "      <th>Klaipėda</th>\n",
       "      <td>147898</td>\n",
       "      <td>162360</td>\n",
       "      <td>192954</td>\n",
       "      <td>202929</td>\n",
       "      <td>176648</td>\n",
       "      <td>140342</td>\n",
       "      <td>89500</td>\n",
       "      <td>35845</td>\n",
       "      <td>20100</td>\n",
       "    </tr>\n",
       "    <tr>\n",
       "      <th>Šiauliai</th>\n",
       "      <td>100119</td>\n",
       "      <td>109328</td>\n",
       "      <td>133883</td>\n",
       "      <td>145629</td>\n",
       "      <td>118724</td>\n",
       "      <td>92375</td>\n",
       "      <td>59700</td>\n",
       "      <td>21387</td>\n",
       "      <td>16128*</td>\n",
       "    </tr>\n",
       "    <tr>\n",
       "      <th>Panevėžys</th>\n",
       "      <td>87148</td>\n",
       "      <td>99690</td>\n",
       "      <td>119749</td>\n",
       "      <td>126483</td>\n",
       "      <td>102303</td>\n",
       "      <td>74497</td>\n",
       "      <td>41100</td>\n",
       "      <td>19197</td>\n",
       "      <td>12968*</td>\n",
       "    </tr>\n",
       "  </tbody>\n",
       "</table>\n",
       "</div>"
      ],
      "text/plain": [
       "             2019    2011    2001    1989    1979    1970    1959    1923  \\\n",
       "Miestas                                                                     \n",
       "Vilnius    540919  535631  542287  576747  475825  370153  236100  167400   \n",
       "Kaunas     286763  315993  378650  419745  370000  305600  216850   92446   \n",
       "Klaipėda   147898  162360  192954  202929  176648  140342   89500   35845   \n",
       "Šiauliai   100119  109328  133883  145629  118724   92375   59700   21387   \n",
       "Panevėžys   87148   99690  119749  126483  102303   74497   41100   19197   \n",
       "\n",
       "              1897  \n",
       "Miestas             \n",
       "Vilnius    154532*  \n",
       "Kaunas      70920*  \n",
       "Klaipėda     20100  \n",
       "Šiauliai    16128*  \n",
       "Panevėžys   12968*  "
      ]
     },
     "execution_count": 445,
     "metadata": {},
     "output_type": "execute_result"
    }
   ],
   "source": [
    "miestai.head()"
   ]
  },
  {
   "cell_type": "code",
   "execution_count": 446,
   "metadata": {},
   "outputs": [],
   "source": [
    "miestai['1897'] = miestai['1897'].apply(fix_1923)"
   ]
  },
  {
   "cell_type": "code",
   "execution_count": 447,
   "metadata": {},
   "outputs": [
    {
     "name": "stdout",
     "output_type": "stream",
     "text": [
      "<class 'pandas.core.frame.DataFrame'>\n",
      "Index: 103 entries, Vilnius to Panemunė\n",
      "Data columns (total 9 columns):\n",
      "2019    103 non-null int64\n",
      "2011    103 non-null int64\n",
      "2001    103 non-null int64\n",
      "1989    103 non-null int64\n",
      "1979    103 non-null int64\n",
      "1970    103 non-null int64\n",
      "1959    103 non-null int64\n",
      "1923    103 non-null object\n",
      "1897    103 non-null object\n",
      "dtypes: int64(7), object(2)\n",
      "memory usage: 8.0+ KB\n"
     ]
    }
   ],
   "source": [
    "# matome, kad paskutiniai du stulpeliai vis dar turi negerų reikšmių:\n",
    "miestai.info()"
   ]
  },
  {
   "cell_type": "code",
   "execution_count": 448,
   "metadata": {},
   "outputs": [],
   "source": [
    "# pasigaminame filtrus, pagal kuriuos galėsime pažiūrėti likusias neištaisytas reikšmes:\n",
    "salyga_1897 = [not isinstance(x, int) for x in miestai['1897']]\n",
    "salyga_1923 = [not isinstance(x, int) for x in miestai['1923']]"
   ]
  },
  {
   "cell_type": "code",
   "execution_count": 449,
   "metadata": {},
   "outputs": [
    {
     "data": {
      "text/plain": [
       "Miestas\n",
       "Švenčionėliai    (??)\n",
       "Nemenčinė        (??)\n",
       "Trakai           (??)\n",
       "Švenčionys       (??)\n",
       "Neringa           (?)\n",
       "Rūdiškės         (??)\n",
       "Varniai           (?)\n",
       "Subačius          (?)\n",
       "Užventis          (?)\n",
       "Name: 1923, dtype: object"
      ]
     },
     "execution_count": 449,
     "metadata": {},
     "output_type": "execute_result"
    }
   ],
   "source": [
    "miestai['1923'].loc[salyga_1923]"
   ]
  },
  {
   "cell_type": "code",
   "execution_count": 450,
   "metadata": {},
   "outputs": [
    {
     "data": {
      "text/plain": [
       "Miestas\n",
       "Vilnius                154532*\n",
       "Kaunas                  70920*\n",
       "Šiauliai                16128*\n",
       "Panevėžys               12968*\n",
       "Marijampolė              6737*\n",
       "Telšiai                  6205*\n",
       "Ukmergė                 13532*\n",
       "Raseiniai                7455*\n",
       "Vilkaviškis              5788*\n",
       "Prienai                  2477*\n",
       "Zarasai                  6359*\n",
       "Šakiai                   2211*\n",
       "Švenčionėliai              (?)\n",
       "Trakai                   3240*\n",
       "Švenčionys               6025*\n",
       "Kalvarija                9378*\n",
       "Neringa                    (?)\n",
       "Šeduva                   4474*\n",
       "Rūdiškės                   (?)\n",
       "Kudirkos Naumiestis      4595*\n",
       "Priekulė                   (?)\n",
       "Virbalis                 3293*\n",
       "Smalininkai                (?)\n",
       "Name: 1897, dtype: object"
      ]
     },
     "execution_count": 450,
     "metadata": {},
     "output_type": "execute_result"
    }
   ],
   "source": [
    "miestai['1897'].loc[salyga_1897]"
   ]
  },
  {
   "cell_type": "code",
   "execution_count": 451,
   "metadata": {},
   "outputs": [],
   "source": [
    "miestai.replace(['(??)', '(?)'], int(0), inplace=True)"
   ]
  },
  {
   "cell_type": "code",
   "execution_count": 452,
   "metadata": {},
   "outputs": [
    {
     "data": {
      "text/plain": [
       "Miestas\n",
       "Švenčionėliai    0\n",
       "Nemenčinė        0\n",
       "Trakai           0\n",
       "Švenčionys       0\n",
       "Neringa          0\n",
       "Rūdiškės         0\n",
       "Varniai          0\n",
       "Subačius         0\n",
       "Užventis         0\n",
       "Name: 1923, dtype: int64"
      ]
     },
     "execution_count": 452,
     "metadata": {},
     "output_type": "execute_result"
    }
   ],
   "source": [
    "# patikriname dar kartą, tikimės, kad bus tuščia, tačiau deja :) \n",
    "miestai['1923'].loc[salyga_1923]"
   ]
  },
  {
   "cell_type": "code",
   "execution_count": 453,
   "metadata": {},
   "outputs": [
    {
     "data": {
      "text/plain": [
       "numpy.int64"
      ]
     },
     "execution_count": 453,
     "metadata": {},
     "output_type": "execute_result"
    }
   ],
   "source": [
    "# patikrinus, kas per duomenų tipas, paaiškėja, kad jis mums tinka.\n",
    "type(miestai['1923'].loc['Trakai'])"
   ]
  },
  {
   "cell_type": "code",
   "execution_count": 454,
   "metadata": {},
   "outputs": [
    {
     "name": "stdout",
     "output_type": "stream",
     "text": [
      "<class 'pandas.core.frame.DataFrame'>\n",
      "Index: 103 entries, Vilnius to Panemunė\n",
      "Data columns (total 9 columns):\n",
      "2019    103 non-null int64\n",
      "2011    103 non-null int64\n",
      "2001    103 non-null int64\n",
      "1989    103 non-null int64\n",
      "1979    103 non-null int64\n",
      "1970    103 non-null int64\n",
      "1959    103 non-null int64\n",
      "1923    103 non-null int64\n",
      "1897    103 non-null object\n",
      "dtypes: int64(8), object(1)\n",
      "memory usage: 13.0+ KB\n"
     ]
    }
   ],
   "source": [
    "# liko paskutinis stulpelis\n",
    "miestai.info()"
   ]
  },
  {
   "cell_type": "code",
   "execution_count": 455,
   "metadata": {},
   "outputs": [
    {
     "data": {
      "text/plain": [
       "Miestas\n",
       "Vilnius                154532*\n",
       "Kaunas                  70920*\n",
       "Šiauliai                16128*\n",
       "Panevėžys               12968*\n",
       "Marijampolė              6737*\n",
       "Telšiai                  6205*\n",
       "Ukmergė                 13532*\n",
       "Raseiniai                7455*\n",
       "Vilkaviškis              5788*\n",
       "Prienai                  2477*\n",
       "Zarasai                  6359*\n",
       "Šakiai                   2211*\n",
       "Švenčionėliai                0\n",
       "Trakai                   3240*\n",
       "Švenčionys               6025*\n",
       "Kalvarija                9378*\n",
       "Neringa                      0\n",
       "Šeduva                   4474*\n",
       "Rūdiškės                     0\n",
       "Kudirkos Naumiestis      4595*\n",
       "Priekulė                     0\n",
       "Virbalis                 3293*\n",
       "Smalininkai                  0\n",
       "Name: 1897, dtype: object"
      ]
     },
     "execution_count": 455,
     "metadata": {},
     "output_type": "execute_result"
    }
   ],
   "source": [
    "miestai['1897'].loc[salyga_1897]"
   ]
  },
  {
   "cell_type": "code",
   "execution_count": 456,
   "metadata": {},
   "outputs": [],
   "source": [
    "# pasigaminame funkciją, kuri naikins asteriksus:\n",
    "\n",
    "def remove_asterix(val):\n",
    "    if type(val) == str:\n",
    "        return int(val.replace('*', ''))\n",
    "    return val\n",
    "    "
   ]
  },
  {
   "cell_type": "code",
   "execution_count": 457,
   "metadata": {},
   "outputs": [],
   "source": [
    "miestai['1897'] = miestai['1897'].apply(remove_asterix)"
   ]
  },
  {
   "cell_type": "code",
   "execution_count": 458,
   "metadata": {},
   "outputs": [
    {
     "data": {
      "text/plain": [
       "Miestas\n",
       "Vilnius                154532\n",
       "Kaunas                  70920\n",
       "Šiauliai                16128\n",
       "Panevėžys               12968\n",
       "Marijampolė              6737\n",
       "Telšiai                  6205\n",
       "Ukmergė                 13532\n",
       "Raseiniai                7455\n",
       "Vilkaviškis              5788\n",
       "Prienai                  2477\n",
       "Zarasai                  6359\n",
       "Šakiai                   2211\n",
       "Švenčionėliai               0\n",
       "Trakai                   3240\n",
       "Švenčionys               6025\n",
       "Kalvarija                9378\n",
       "Neringa                     0\n",
       "Šeduva                   4474\n",
       "Rūdiškės                    0\n",
       "Kudirkos Naumiestis      4595\n",
       "Priekulė                    0\n",
       "Virbalis                 3293\n",
       "Smalininkai                 0\n",
       "Name: 1897, dtype: int64"
      ]
     },
     "execution_count": 458,
     "metadata": {},
     "output_type": "execute_result"
    }
   ],
   "source": [
    "miestai['1897'].loc[salyga_1897]"
   ]
  },
  {
   "cell_type": "code",
   "execution_count": 459,
   "metadata": {},
   "outputs": [
    {
     "name": "stdout",
     "output_type": "stream",
     "text": [
      "<class 'pandas.core.frame.DataFrame'>\n",
      "Index: 103 entries, Vilnius to Panemunė\n",
      "Data columns (total 9 columns):\n",
      "2019    103 non-null int64\n",
      "2011    103 non-null int64\n",
      "2001    103 non-null int64\n",
      "1989    103 non-null int64\n",
      "1979    103 non-null int64\n",
      "1970    103 non-null int64\n",
      "1959    103 non-null int64\n",
      "1923    103 non-null int64\n",
      "1897    103 non-null int64\n",
      "dtypes: int64(9)\n",
      "memory usage: 13.0+ KB\n"
     ]
    }
   ],
   "source": [
    "# Darbas baigtas. \n",
    "miestai.info()"
   ]
  },
  {
   "cell_type": "markdown",
   "metadata": {},
   "source": []
  }
 ],
 "metadata": {
  "kernelspec": {
   "display_name": "Python 3",
   "language": "python",
   "name": "python3"
  },
  "language_info": {
   "codemirror_mode": {
    "name": "ipython",
    "version": 3
   },
   "file_extension": ".py",
   "mimetype": "text/x-python",
   "name": "python",
   "nbconvert_exporter": "python",
   "pygments_lexer": "ipython3",
   "version": "3.7.3"
  }
 },
 "nbformat": 4,
 "nbformat_minor": 2
}
