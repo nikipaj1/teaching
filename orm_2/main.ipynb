{
 "cells": [
  {
   "cell_type": "markdown",
   "metadata": {},
   "source": [
    "## ORM"
   ]
  },
  {
   "cell_type": "code",
   "execution_count": 4,
   "metadata": {},
   "outputs": [],
   "source": [
    "from sqlalchemy import Column, Integer, String, ForeignKey, create_engine\n",
    "from sqlalchemy.ext.declarative import declarative_base\n",
    "from sqlalchemy.orm import relationship, sessionmaker"
   ]
  },
  {
   "cell_type": "markdown",
   "metadata": {},
   "source": [
    "#### Many to One"
   ]
  },
  {
   "cell_type": "code",
   "execution_count": 16,
   "metadata": {},
   "outputs": [],
   "source": [
    "engine = create_engine(\"sqlite:///many2one_test.db\")\n",
    "Base = declarative_base()"
   ]
  },
  {
   "cell_type": "code",
   "execution_count": 17,
   "metadata": {},
   "outputs": [],
   "source": [
    "class Tevas(Base):\n",
    "    __tablename__ = \"tevas\"\n",
    "    id = Column(Integer, primary_key=True)\n",
    "    vardas = Column(\"Vardas\", String)\n",
    "    pavarde = Column(\"Pavardė\", String)\n",
    "    vaikas_id = Column(Integer, ForeignKey('vaikas.id'))\n",
    "    vaikas = relationship(\"Vaikas\")\n",
    "\n",
    "class Vaikas(Base):\n",
    "    __tablename__ = \"vaikas\"\n",
    "    id = Column(Integer, primary_key=True)\n",
    "    vardas = Column(\"Vardas\", String)\n",
    "    pavarde = Column(\"Pavardė\", String)\n",
    "    mokymo_istaiga = Column(\"Mokymo įskaita\", String)\n",
    "\n",
    "Base.metadata.create_all(engine)"
   ]
  },
  {
   "cell_type": "code",
   "execution_count": 18,
   "metadata": {},
   "outputs": [],
   "source": [
    "Session = sessionmaker(bind=engine)\n",
    "session = Session()"
   ]
  },
  {
   "cell_type": "markdown",
   "metadata": {},
   "source": [
    "`C`RUD"
   ]
  },
  {
   "cell_type": "code",
   "execution_count": 21,
   "metadata": {},
   "outputs": [],
   "source": [
    "vaikas = Vaikas(vardas='Vaikas', pavarde=\"Tevaika\", mokymo_istaiga=\"Ciurlionio Gimnazija\")\n",
    "tevas = Tevas(vardas=\"Tevas\", pavarde=\"Tevaika\", vaikas=vaikas)\n",
    "session.add(tevas)\n",
    "session.commit()"
   ]
  },
  {
   "cell_type": "markdown",
   "metadata": {},
   "source": [
    "C`R`UD"
   ]
  },
  {
   "cell_type": "code",
   "execution_count": 27,
   "metadata": {},
   "outputs": [],
   "source": [
    "vaikas = Vaikas(vardas=\"Naujas vaikas\", pavarde=\"Tevaika\")\n",
    "tevas = session.query(Tevas).get(1)\n",
    "tevas.vaikas = vaikas\n",
    "session.commit()"
   ]
  },
  {
   "cell_type": "code",
   "execution_count": 42,
   "metadata": {},
   "outputs": [
    {
     "data": {
      "text/plain": [
       "<__main__.Vaikas at 0x1226843d0>"
      ]
     },
     "execution_count": 42,
     "metadata": {},
     "output_type": "execute_result"
    }
   ],
   "source": [
    "tevas = session.query(Tevas).all()\n",
    "tevas[0].vaikas"
   ]
  },
  {
   "cell_type": "code",
   "execution_count": 43,
   "metadata": {},
   "outputs": [],
   "source": [
    "vaikas = session.query(Vaikas).all()"
   ]
  },
  {
   "cell_type": "code",
   "execution_count": 44,
   "metadata": {},
   "outputs": [
    {
     "name": "stdout",
     "output_type": "stream",
     "text": [
      "[{'_sa_instance_state': <sqlalchemy.orm.state.InstanceState object at 0x122c96ce0>, 'id': 1, 'pavarde': 'Tevaika', 'mokymo_istaiga': 'Ciurlionio Gimnazija', 'vardas': 'Vaikas'}, {'_sa_instance_state': <sqlalchemy.orm.state.InstanceState object at 0x122621ab0>, 'id': 2, 'pavarde': 'Tevaika', 'mokymo_istaiga': None, 'vardas': 'Naujas vaikas'}]\n"
     ]
    }
   ],
   "source": [
    "print([v.__dict__ for v in vaikas])"
   ]
  },
  {
   "cell_type": "markdown",
   "metadata": {},
   "source": [
    "Pakeisti tevo vaiko duomenis"
   ]
  },
  {
   "cell_type": "code",
   "execution_count": 45,
   "metadata": {},
   "outputs": [],
   "source": [
    "tevas = session.query(Tevas).get(1)\n",
    "tevas.vaikas.pavarde = \"NaujaPavarde\"\n",
    "session.commit()"
   ]
  },
  {
   "cell_type": "code",
   "execution_count": 46,
   "metadata": {},
   "outputs": [
    {
     "data": {
      "text/plain": [
       "{'_sa_instance_state': <sqlalchemy.orm.state.InstanceState at 0x122621ab0>,\n",
       " 'id': 2,\n",
       " 'vardas': 'Naujas vaikas',\n",
       " 'mokymo_istaiga': None,\n",
       " 'pavarde': 'NaujaPavarde'}"
      ]
     },
     "execution_count": 46,
     "metadata": {},
     "output_type": "execute_result"
    }
   ],
   "source": [
    "tevas = session.query(Tevas).get(1)\n",
    "tevas.vaikas.__dict__"
   ]
  },
  {
   "cell_type": "code",
   "execution_count": 48,
   "metadata": {},
   "outputs": [
    {
     "name": "stdout",
     "output_type": "stream",
     "text": [
      "['Tevaika', 'NaujaPavarde']\n"
     ]
    }
   ],
   "source": [
    "vaikas = session.query(Vaikas).all()\n",
    "print([v.pavarde for v in vaikas])\n"
   ]
  },
  {
   "cell_type": "markdown",
   "metadata": {},
   "source": [
    "CRU`D`"
   ]
  },
  {
   "cell_type": "code",
   "execution_count": 49,
   "metadata": {},
   "outputs": [],
   "source": [
    "tevas = session.query(Tevas).get(1)\n",
    "session.delete(tevas)\n",
    "session.commit()"
   ]
  },
  {
   "cell_type": "code",
   "execution_count": 55,
   "metadata": {},
   "outputs": [],
   "source": [
    "vaikas = session.query(Vaikas).all()\n"
   ]
  },
  {
   "cell_type": "code",
   "execution_count": 56,
   "metadata": {},
   "outputs": [
    {
     "data": {
      "text/plain": [
       "[<__main__.Vaikas at 0x122622140>, <__main__.Vaikas at 0x1226843d0>]"
      ]
     },
     "execution_count": 56,
     "metadata": {},
     "output_type": "execute_result"
    }
   ],
   "source": [
    "print([''])"
   ]
  },
  {
   "cell_type": "code",
   "execution_count": 57,
   "metadata": {},
   "outputs": [],
   "source": [
    "tevas = session.query(Tevas).all()\n"
   ]
  },
  {
   "cell_type": "code",
   "execution_count": 59,
   "metadata": {},
   "outputs": [],
   "source": [
    "vaikas = session.query(Vaikas).all()\n"
   ]
  },
  {
   "cell_type": "code",
   "execution_count": 60,
   "metadata": {},
   "outputs": [
    {
     "data": {
      "text/plain": [
       "[<__main__.Vaikas at 0x122622140>, <__main__.Vaikas at 0x1226843d0>]"
      ]
     },
     "execution_count": 60,
     "metadata": {},
     "output_type": "execute_result"
    }
   ],
   "source": [
    "vaikas"
   ]
  },
  {
   "cell_type": "markdown",
   "metadata": {},
   "source": [
    "### One To Many"
   ]
  },
  {
   "cell_type": "code",
   "execution_count": 61,
   "metadata": {},
   "outputs": [],
   "source": [
    "from sqlalchemy import Column, Integer, String, Float, ForeignKey, create_engine\n",
    "from sqlalchemy.ext.declarative import declarative_base\n",
    "from sqlalchemy.orm import relationship, sessionmaker\n",
    "\n",
    "engine = create_engine('sqlite:///one2many_test.db')\n",
    "Base = declarative_base()\n",
    "\n",
    "\n",
    "class Tevas(Base):\n",
    "    __tablename__ = \"tevas\"\n",
    "    id = Column(Integer, primary_key=True)\n",
    "    vardas = Column(\"Vardas\", String)\n",
    "    pavarde = Column(\"Pavardė\", String)\n",
    "    vaikai = relationship(\"Vaikas\", back_populates=\"tevas\")\n",
    "\n",
    "\n",
    "class Vaikas(Base):\n",
    "    __tablename__ = \"vaikas\"\n",
    "    id = Column(Integer, primary_key=True)\n",
    "    vardas = Column(\"Vardas\", String)\n",
    "    pavarde = Column(\"Pavardė\", String)\n",
    "    mokymo_istaiga = Column(\"Mokymo įskaita\", String)\n",
    "    tevas_id = Column(Integer, ForeignKey(\"tevas.id\"))\n",
    "    tevas = relationship(\"Tevas\", back_populates=\"vaikai\")\n",
    "\n",
    "Base.metadata.create_all(engine)\n"
   ]
  },
  {
   "cell_type": "code",
   "execution_count": 62,
   "metadata": {},
   "outputs": [],
   "source": [
    "Session = sessionmaker(bind=engine)\n",
    "session = Session()"
   ]
  },
  {
   "cell_type": "markdown",
   "metadata": {},
   "source": [
    "### Kaip įrašyti tėvą ir jo vaikus (Crud)"
   ]
  },
  {
   "cell_type": "code",
   "execution_count": 63,
   "metadata": {},
   "outputs": [],
   "source": [
    "vaikas = Vaikas(vardas=\"Vaikas\", pavarde=\"Vaikaitis\")\n",
    "vaikas2 = Vaikas(vardas=\"Vaikas 2\", pavarde=\"Vaikaitis 2\")\n",
    "tevas = Tevas(vardas=\"Tevas\", pavarde=\"Vaikaitis\")\n",
    "tevas.vaikai.append(vaikas)\n",
    "tevas.vaikai.append(vaikas2)\n",
    "session.add(tevas)\n",
    "session.commit()"
   ]
  },
  {
   "cell_type": "markdown",
   "metadata": {},
   "source": [
    "### Kaip nuskaityti tėvo vaikus (cRud)"
   ]
  },
  {
   "cell_type": "code",
   "execution_count": 64,
   "metadata": {},
   "outputs": [],
   "source": [
    "tevas = session.query(Tevas).get(1)"
   ]
  },
  {
   "cell_type": "code",
   "execution_count": 67,
   "metadata": {},
   "outputs": [
    {
     "name": "stdout",
     "output_type": "stream",
     "text": [
      "Vaikas Vaikaitis\n",
      "Vaikas 2 Vaikaitis 2\n"
     ]
    }
   ],
   "source": [
    "for vaikas in tevas.vaikai:\n",
    "    print(vaikas.vardas, vaikas.pavarde)"
   ]
  },
  {
   "cell_type": "markdown",
   "metadata": {},
   "source": [
    "### Kaip redaguoti tėvo vaikus (crUd)"
   ]
  },
  {
   "cell_type": "code",
   "execution_count": 68,
   "metadata": {},
   "outputs": [],
   "source": [
    "tevas = session.query(Tevas).get(1)"
   ]
  },
  {
   "cell_type": "code",
   "execution_count": 70,
   "metadata": {},
   "outputs": [],
   "source": [
    "tevas.vaikai[0].vardas = \"Vaikas 1\"\n",
    "session.commit()"
   ]
  },
  {
   "cell_type": "code",
   "execution_count": 71,
   "metadata": {},
   "outputs": [
    {
     "name": "stdout",
     "output_type": "stream",
     "text": [
      "Vaikas 1\n",
      "Vaikas 2\n"
     ]
    }
   ],
   "source": [
    "tevas = session.query(Tevas).get(1)\n",
    "for vaikas in tevas.vaikai:\n",
    "    print(vaikas.vardas)"
   ]
  },
  {
   "cell_type": "code",
   "execution_count": 72,
   "metadata": {},
   "outputs": [
    {
     "name": "stdout",
     "output_type": "stream",
     "text": [
      "Tevas\n"
     ]
    }
   ],
   "source": [
    "vaikas = session.query(Vaikas).get(1)\n",
    "print(vaikas.tevas.vardas)"
   ]
  },
  {
   "cell_type": "code",
   "execution_count": 73,
   "metadata": {},
   "outputs": [],
   "source": [
    "tevas = session.query(Tevas).get(1)\n",
    "vaikas1 = tevas.vaikai[0]\n",
    "tevas.vaikai.remove(vaikas1)\n",
    "session.commit()"
   ]
  },
  {
   "cell_type": "code",
   "execution_count": 75,
   "metadata": {},
   "outputs": [
    {
     "data": {
      "text/plain": [
       "[<__main__.Vaikas at 0x122c46f50>]"
      ]
     },
     "execution_count": 75,
     "metadata": {},
     "output_type": "execute_result"
    }
   ],
   "source": [
    "tevas = session.query(Tevas).get(1)\n",
    "tevas.vaikai"
   ]
  },
  {
   "cell_type": "markdown",
   "metadata": {},
   "source": [
    "### Many to Many"
   ]
  },
  {
   "cell_type": "code",
   "execution_count": 76,
   "metadata": {},
   "outputs": [],
   "source": [
    "from sqlalchemy import Column, Integer, String, Float, ForeignKey, create_engine, Table\n",
    "from sqlalchemy.ext.declarative import declarative_base\n",
    "from sqlalchemy.orm import relationship, sessionmaker"
   ]
  },
  {
   "cell_type": "code",
   "execution_count": 77,
   "metadata": {},
   "outputs": [],
   "source": [
    "engine = create_engine('sqlite:///many2many_test.db')\n",
    "Base = declarative_base()"
   ]
  },
  {
   "cell_type": "code",
   "execution_count": 78,
   "metadata": {},
   "outputs": [],
   "source": [
    "association_table = Table('association', Base.metadata,\n",
    "    Column('tevas_id', Integer, ForeignKey('tevas.id')),\n",
    "    Column('vaikas_id', Integer, ForeignKey('vaikas.id'))\n",
    ")\n",
    "\n",
    "class Tevas(Base):\n",
    "    __tablename__ = 'tevas'\n",
    "    id = Column(Integer, primary_key=True)\n",
    "    vardas = Column(\"Vardas\", String)\n",
    "    pavarde = Column(\"Pavardė\", String)\n",
    "    vaikai = relationship(\"Vaikas\", secondary=association_table, back_populates='tevai')\n",
    "\n",
    "class Vaikas(Base):\n",
    "    __tablename__ = 'vaikas'\n",
    "    id = Column(Integer, primary_key=True)\n",
    "    vardas = Column(\"Vardas\", String)\n",
    "    pavarde = Column(\"Pavardė\", String)\n",
    "    tevai = relationship(\"Tevas\", secondary=association_table, back_populates='vaikai')\n",
    "\n",
    "Base.metadata.create_all(engine)"
   ]
  },
  {
   "cell_type": "code",
   "execution_count": 79,
   "metadata": {},
   "outputs": [],
   "source": [
    "Session = sessionmaker(bind=engine)\n",
    "session = Session()"
   ]
  },
  {
   "cell_type": "code",
   "execution_count": 80,
   "metadata": {},
   "outputs": [],
   "source": [
    "tevas1 = Tevas(vardas=\"Tėvas\", pavarde=\"Tėvaika\")\n",
    "tevas2 = Tevas(vardas=\"Motina\", pavarde=\"Tevienė\")\n",
    "vaikas1 = Vaikas(vardas=\"Vaikas\", pavarde=\"Tėvaika\")\n",
    "vaikas2 = Vaikas(vardas=\"Vaikė\", pavarde=\"Tėvaikytė\")\n",
    "\n",
    "tevas1.vaikai.append(vaikas1)\n",
    "tevas2.vaikai.append(vaikas1)\n",
    "tevas2.vaikai.append(vaikas2)\n",
    "\n",
    "session.add(tevas1)\n",
    "session.add(tevas2)\n",
    "session.commit()"
   ]
  },
  {
   "cell_type": "code",
   "execution_count": 82,
   "metadata": {},
   "outputs": [
    {
     "name": "stdout",
     "output_type": "stream",
     "text": [
      "Vaikas Tėvaika\n",
      "Vaikė Tėvaikytė\n"
     ]
    }
   ],
   "source": [
    "tevas = session.query(Tevas).get(2)\n",
    "for vaikas in tevas.vaikai:\n",
    "    print(vaikas.vardas, vaikas.pavarde)"
   ]
  },
  {
   "cell_type": "code",
   "execution_count": 83,
   "metadata": {},
   "outputs": [
    {
     "name": "stdout",
     "output_type": "stream",
     "text": [
      "Motina Tevienė\n",
      "Tėvas Tėvaika\n"
     ]
    }
   ],
   "source": [
    "vaikas = session.query(Vaikas).get(1)\n",
    "for tevas in vaikas.tevai:\n",
    "    print(tevas.vardas, tevas.pavarde)"
   ]
  },
  {
   "cell_type": "code",
   "execution_count": 84,
   "metadata": {},
   "outputs": [],
   "source": [
    "tevas = session.query(Tevas).get(2)\n",
    "tevas.vaikai[0].vardas = \"Vaikas 1\"\n",
    "session.commit()"
   ]
  },
  {
   "cell_type": "code",
   "execution_count": 86,
   "metadata": {},
   "outputs": [],
   "source": [
    "tevas = session.query(Tevas).get(2)\n",
    "vaikas1 = tevas.vaikai[0]\n",
    "tevas.vaikai.remove(vaikas1)\n",
    "session.commit()"
   ]
  },
  {
   "cell_type": "code",
   "execution_count": null,
   "metadata": {},
   "outputs": [],
   "source": []
  }
 ],
 "metadata": {
  "kernelspec": {
   "display_name": "Python 3.10.6 64-bit",
   "language": "python",
   "name": "python3"
  },
  "language_info": {
   "codemirror_mode": {
    "name": "ipython",
    "version": 3
   },
   "file_extension": ".py",
   "mimetype": "text/x-python",
   "name": "python",
   "nbconvert_exporter": "python",
   "pygments_lexer": "ipython3",
   "version": "3.10.8"
  },
  "orig_nbformat": 4,
  "vscode": {
   "interpreter": {
    "hash": "b0fa6594d8f4cbf19f97940f81e996739fb7646882a419484c72d19e05852a7e"
   }
  }
 },
 "nbformat": 4,
 "nbformat_minor": 2
}
