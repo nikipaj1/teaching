{
 "cells": [
  {
   "cell_type": "code",
   "execution_count": 2,
   "metadata": {},
   "outputs": [],
   "source": [
    "import sqlite3"
   ]
  },
  {
   "cell_type": "code",
   "execution_count": null,
   "metadata": {},
   "outputs": [],
   "source": [
    "conn = sqlite3.connect('zmones_1.db')\n",
    "cursor = conn.cursor()\n",
    "\n",
    "query = '''\n",
    "CREATE TABLE draugai (\n",
    "    f_name VARCHAR(50),\n",
    "    l_name VARCHAR(50),\n",
    "    email VARCHAR(100)\n",
    ");\n",
    "'''\n",
    "\n",
    "cursor.execute(query)\n",
    "conn.commit()\n",
    "conn.close()\n"
   ]
  },
  {
   "cell_type": "markdown",
   "metadata": {},
   "source": [
    "INSERT"
   ]
  },
  {
   "cell_type": "code",
   "execution_count": 21,
   "metadata": {},
   "outputs": [],
   "source": [
    "insert_query = '''\n",
    "INSERT INTO draugai (f_name, l_name, email)\n",
    "VALUES (\"Rimas\", \"Radzevičius\", \"RR@gmail.com\")\n",
    "'''"
   ]
  },
  {
   "cell_type": "code",
   "execution_count": 22,
   "metadata": {},
   "outputs": [],
   "source": [
    "conn = sqlite3.connect(\"zmones_1.db\")\n",
    "c = conn.cursor()\n",
    "\n",
    "with conn:\n",
    "    c.execute(insert_query)"
   ]
  },
  {
   "cell_type": "code",
   "execution_count": 19,
   "metadata": {},
   "outputs": [],
   "source": [
    "# conn = sqlite3.connect(\"zmones_1.db\")\n",
    "# c = conn.cursor()\n",
    "# with conn:\n",
    "#     cursor.execute(\"SELECT * FROM draugai;\")\n",
    "#     print(cursor.fetchall())"
   ]
  },
  {
   "cell_type": "markdown",
   "metadata": {},
   "source": [
    "IRASU PAIESKA\n"
   ]
  },
  {
   "cell_type": "code",
   "execution_count": 26,
   "metadata": {},
   "outputs": [],
   "source": [
    "with conn:\n",
    "    c.execute('''\n",
    "    SELECT * \n",
    "    FROM draugai\n",
    "    WHERE email like \"%ponas%\"''')\n",
    "    res = c.fetchall()\n",
    "\n",
    "    # fetchone() <- grazina pirma rezultata, jei daugiau nei vienas"
   ]
  },
  {
   "cell_type": "code",
   "execution_count": 27,
   "metadata": {},
   "outputs": [
    {
     "data": {
      "text/plain": [
       "[('Jonas', 'Virsaitis', 'ponasjonas@gmail.com')]"
      ]
     },
     "execution_count": 27,
     "metadata": {},
     "output_type": "execute_result"
    }
   ],
   "source": [
    "res"
   ]
  },
  {
   "cell_type": "markdown",
   "metadata": {},
   "source": [
    "UPDATE & DELETE"
   ]
  },
  {
   "cell_type": "code",
   "execution_count": 28,
   "metadata": {},
   "outputs": [],
   "source": [
    "with conn:\n",
    "    c.execute(\"UPDATE draugai SET email='naujas.email@aol.com' WHERE email like '%ponas%'\")"
   ]
  },
  {
   "cell_type": "code",
   "execution_count": 34,
   "metadata": {},
   "outputs": [],
   "source": [
    "with conn:\n",
    "    c.execute(\"DELETE from draugai WHERE l_name='Radzevičius'\")"
   ]
  },
  {
   "cell_type": "code",
   "execution_count": 52,
   "metadata": {},
   "outputs": [],
   "source": [
    "conn.close()"
   ]
  },
  {
   "cell_type": "markdown",
   "metadata": {},
   "source": [
    "Dinamines Uzklausos"
   ]
  },
  {
   "cell_type": "code",
   "execution_count": 42,
   "metadata": {},
   "outputs": [
    {
     "name": "stdout",
     "output_type": "stream",
     "text": [
      "Nėra tokio vardo!\n"
     ]
    }
   ],
   "source": [
    "conn = sqlite3.connect(\"zmones.db\")\n",
    "c = conn.cursor()\n",
    "\n",
    "vardas = input(\"Įvesite vardą: \")\n",
    "with conn:\n",
    "    c.execute(\"SELECT * FROM draugai WHERE f_name =?\", (vardas, )) ## saugu\n",
    "    res = c.fetchall()\n",
    "\n",
    "if res:\n",
    "    print(res)\n",
    "else:\n",
    "    print(\"Nėra tokio vardo!\")"
   ]
  },
  {
   "cell_type": "markdown",
   "metadata": {},
   "source": [
    "`'OR 1=1--`"
   ]
  },
  {
   "cell_type": "markdown",
   "metadata": {},
   "source": [
    "SELECT * From draugai WHERE f_name = '' OR 1=1--'"
   ]
  },
  {
   "cell_type": "markdown",
   "metadata": {},
   "source": [
    "## executemany()"
   ]
  },
  {
   "cell_type": "code",
   "execution_count": 43,
   "metadata": {},
   "outputs": [],
   "source": [
    "draugai = [\n",
    "    ('Jonas', 'Jonaitis', 'jjonaitis@mail.lt'),\n",
    "    ('Petras', 'Miltelis', 'petras@pastas.lt'),\n",
    "    ('Inga', 'Guobytė', 'ingag@koksskirtumas.lt')\n",
    "]"
   ]
  },
  {
   "cell_type": "code",
   "execution_count": 45,
   "metadata": {},
   "outputs": [],
   "source": [
    "conn = sqlite3.connect(\"zmones_1.db\")\n",
    "c = conn.cursor()\n",
    "with conn:\n",
    "    c.executemany(\"INSERT INTO draugai VALUES(?,?,?)\", draugai)"
   ]
  },
  {
   "cell_type": "code",
   "execution_count": 46,
   "metadata": {},
   "outputs": [],
   "source": [
    "with conn:\n",
    "    c.execute('''\n",
    "    SELECT * \n",
    "    FROM draugai''')\n",
    "    res = c.fetchall()"
   ]
  },
  {
   "cell_type": "code",
   "execution_count": 47,
   "metadata": {},
   "outputs": [
    {
     "data": {
      "text/plain": [
       "[('Jonas', 'Virsaitis', 'naujas.email@aol.com'),\n",
       " ('Jonas', 'Jonaitis', 'jjonaitis@mail.lt'),\n",
       " ('Petras', 'Miltelis', 'petras@pastas.lt'),\n",
       " ('Inga', 'Guobytė', 'ingag@koksskirtumas.lt')]"
      ]
     },
     "execution_count": 47,
     "metadata": {},
     "output_type": "execute_result"
    }
   ],
   "source": [
    "res"
   ]
  },
  {
   "cell_type": "markdown",
   "metadata": {},
   "source": [
    "## Rowid"
   ]
  },
  {
   "cell_type": "code",
   "execution_count": 48,
   "metadata": {},
   "outputs": [
    {
     "name": "stdout",
     "output_type": "stream",
     "text": [
      "[('Jonas', 'Virsaitis', 'naujas.email@aol.com'), ('Jonas', 'Jonaitis', 'jjonaitis@mail.lt'), ('Petras', 'Miltelis', 'petras@pastas.lt')]\n"
     ]
    }
   ],
   "source": [
    "ids = (1, 2, 3)\n",
    "\n",
    "with conn:\n",
    "    c.execute(\"SELECT * FROM draugai WHERE rowid IN (?,?,?)\", ids)\n",
    "    print(c.fetchall())"
   ]
  },
  {
   "cell_type": "code",
   "execution_count": null,
   "metadata": {},
   "outputs": [],
   "source": []
  }
 ],
 "metadata": {
  "kernelspec": {
   "display_name": "Python 3.10.6 64-bit",
   "language": "python",
   "name": "python3"
  },
  "language_info": {
   "codemirror_mode": {
    "name": "ipython",
    "version": 3
   },
   "file_extension": ".py",
   "mimetype": "text/x-python",
   "name": "python",
   "nbconvert_exporter": "python",
   "pygments_lexer": "ipython3",
   "version": "3.10.6"
  },
  "orig_nbformat": 4,
  "vscode": {
   "interpreter": {
    "hash": "b0fa6594d8f4cbf19f97940f81e996739fb7646882a419484c72d19e05852a7e"
   }
  }
 },
 "nbformat": 4,
 "nbformat_minor": 2
}
