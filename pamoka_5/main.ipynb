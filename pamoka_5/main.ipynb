{
 "cells": [
  {
   "cell_type": "markdown",
   "metadata": {},
   "source": [
    "# 5 Pamoka"
   ]
  },
  {
   "cell_type": "markdown",
   "metadata": {},
   "source": [
    "## Pandas"
   ]
  },
  {
   "cell_type": "code",
   "execution_count": 1,
   "metadata": {},
   "outputs": [],
   "source": [
    "import pandas as pd\n",
    "import numpy as np"
   ]
  },
  {
   "cell_type": "markdown",
   "metadata": {},
   "source": [
    "## Panda Serijos (Series)"
   ]
  },
  {
   "cell_type": "code",
   "execution_count": 3,
   "metadata": {},
   "outputs": [],
   "source": [
    "labels = ['x', 'y', 'z']\n",
    "data = [20, 30, 40]"
   ]
  },
  {
   "cell_type": "code",
   "execution_count": 4,
   "metadata": {},
   "outputs": [
    {
     "data": {
      "text/plain": [
       "0    20\n",
       "1    30\n",
       "2    40\n",
       "dtype: int64"
      ]
     },
     "execution_count": 4,
     "metadata": {},
     "output_type": "execute_result"
    }
   ],
   "source": [
    "pd.Series(data=data)"
   ]
  },
  {
   "cell_type": "code",
   "execution_count": 5,
   "metadata": {},
   "outputs": [
    {
     "data": {
      "text/plain": [
       "x    20\n",
       "y    30\n",
       "z    40\n",
       "dtype: int64"
      ]
     },
     "execution_count": 5,
     "metadata": {},
     "output_type": "execute_result"
    }
   ],
   "source": [
    "pd.Series(data=data, index=labels)"
   ]
  },
  {
   "cell_type": "code",
   "execution_count": 6,
   "metadata": {},
   "outputs": [],
   "source": [
    "zodynas = {'x': 20, 'y': 30, 'z': 40}"
   ]
  },
  {
   "cell_type": "code",
   "execution_count": 9,
   "metadata": {},
   "outputs": [],
   "source": [
    "zodynas = dict(x=20, y=30, z=40)"
   ]
  },
  {
   "cell_type": "code",
   "execution_count": 11,
   "metadata": {},
   "outputs": [
    {
     "name": "stdout",
     "output_type": "stream",
     "text": [
      "x    20\n",
      "y    30\n",
      "z    40\n",
      "dtype: int64\n"
     ]
    }
   ],
   "source": [
    "print(pd.Series(zodynas))"
   ]
  },
  {
   "cell_type": "code",
   "execution_count": 12,
   "metadata": {},
   "outputs": [
    {
     "name": "stdout",
     "output_type": "stream",
     "text": [
      "x    20\n",
      "y    30\n",
      "z    40\n",
      "dtype: int64\n"
     ]
    }
   ],
   "source": [
    "serija = pd.Series(zodynas)\n",
    "print(serija)"
   ]
  },
  {
   "cell_type": "code",
   "execution_count": 15,
   "metadata": {},
   "outputs": [],
   "source": [
    "serija = pd.Series([1,2,3,4,5], ['Vilnius', 'Kaunas', 'Klaipeda', 'Panevezys', 'Siauliai'])"
   ]
  },
  {
   "cell_type": "code",
   "execution_count": 16,
   "metadata": {},
   "outputs": [
    {
     "data": {
      "text/plain": [
       "Vilnius      1\n",
       "Kaunas       2\n",
       "Klaipeda     3\n",
       "Panevezys    4\n",
       "Siauliai     5\n",
       "dtype: int64"
      ]
     },
     "execution_count": 16,
     "metadata": {},
     "output_type": "execute_result"
    }
   ],
   "source": [
    "serija"
   ]
  },
  {
   "cell_type": "code",
   "execution_count": 17,
   "metadata": {},
   "outputs": [
    {
     "data": {
      "text/plain": [
       "1"
      ]
     },
     "execution_count": 17,
     "metadata": {},
     "output_type": "execute_result"
    }
   ],
   "source": [
    "serija['Vilnius']"
   ]
  },
  {
   "cell_type": "markdown",
   "metadata": {},
   "source": [
    "## Operacijos su Serijomis"
   ]
  },
  {
   "cell_type": "code",
   "execution_count": 27,
   "metadata": {},
   "outputs": [],
   "source": [
    "serija_1 = pd.Series([1,2,3,4,5], ['Vilnius', 'Kaunas', 'Lentvaris', 'Siauliai', 'Klaipeda'])"
   ]
  },
  {
   "cell_type": "code",
   "execution_count": 32,
   "metadata": {},
   "outputs": [
    {
     "data": {
      "text/plain": [
       "Kaunas       4.0\n",
       "Klaipeda     8.0\n",
       "Lentvaris    NaN\n",
       "Panevezys    NaN\n",
       "Siauliai     9.0\n",
       "Vilnius      2.0\n",
       "dtype: float64"
      ]
     },
     "execution_count": 32,
     "metadata": {},
     "output_type": "execute_result"
    }
   ],
   "source": [
    "serija + serija_1"
   ]
  },
  {
   "cell_type": "code",
   "execution_count": 30,
   "metadata": {},
   "outputs": [
    {
     "data": {
      "text/plain": [
       "1"
      ]
     },
     "execution_count": 30,
     "metadata": {},
     "output_type": "execute_result"
    }
   ],
   "source": [
    "serija[0]"
   ]
  },
  {
   "cell_type": "markdown",
   "metadata": {},
   "source": [
    "# DataFrame"
   ]
  },
  {
   "cell_type": "code",
   "execution_count": 4,
   "metadata": {},
   "outputs": [],
   "source": [
    "input_ = np.random.rand(5,6)"
   ]
  },
  {
   "cell_type": "code",
   "execution_count": 7,
   "metadata": {},
   "outputs": [
    {
     "data": {
      "text/plain": [
       "array([[0.24119187, 0.0343556 , 0.22715563, 0.91893112, 0.14309811,\n",
       "        0.28015998],\n",
       "       [0.56547751, 0.37607914, 0.26065361, 0.68112507, 0.78486506,\n",
       "        0.46135829],\n",
       "       [0.33367087, 0.56938878, 0.15479432, 0.59102674, 0.76742774,\n",
       "        0.13117766],\n",
       "       [0.81005528, 0.66033817, 0.28317684, 0.23085583, 0.86425919,\n",
       "        0.06824545],\n",
       "       [0.47271081, 0.71890513, 0.20206701, 0.21086613, 0.55744948,\n",
       "        0.84460253]])"
      ]
     },
     "execution_count": 7,
     "metadata": {},
     "output_type": "execute_result"
    }
   ],
   "source": [
    "input_"
   ]
  },
  {
   "cell_type": "code",
   "execution_count": 25,
   "metadata": {},
   "outputs": [],
   "source": [
    "df = pd.DataFrame(input_, ['a', 'b', 'c', 'd', 'e'], ['U', 'V', 'W', 'X', 'Y', 'Z'])"
   ]
  },
  {
   "cell_type": "code",
   "execution_count": 26,
   "metadata": {},
   "outputs": [
    {
     "data": {
      "text/html": [
       "<div>\n",
       "<style scoped>\n",
       "    .dataframe tbody tr th:only-of-type {\n",
       "        vertical-align: middle;\n",
       "    }\n",
       "\n",
       "    .dataframe tbody tr th {\n",
       "        vertical-align: top;\n",
       "    }\n",
       "\n",
       "    .dataframe thead th {\n",
       "        text-align: right;\n",
       "    }\n",
       "</style>\n",
       "<table border=\"1\" class=\"dataframe\">\n",
       "  <thead>\n",
       "    <tr style=\"text-align: right;\">\n",
       "      <th></th>\n",
       "      <th>U</th>\n",
       "      <th>V</th>\n",
       "      <th>W</th>\n",
       "      <th>X</th>\n",
       "      <th>Y</th>\n",
       "      <th>Z</th>\n",
       "    </tr>\n",
       "  </thead>\n",
       "  <tbody>\n",
       "    <tr>\n",
       "      <th>a</th>\n",
       "      <td>0.241192</td>\n",
       "      <td>0.034356</td>\n",
       "      <td>0.227156</td>\n",
       "      <td>0.918931</td>\n",
       "      <td>0.143098</td>\n",
       "      <td>0.280160</td>\n",
       "    </tr>\n",
       "    <tr>\n",
       "      <th>b</th>\n",
       "      <td>0.565478</td>\n",
       "      <td>0.376079</td>\n",
       "      <td>0.260654</td>\n",
       "      <td>0.681125</td>\n",
       "      <td>0.784865</td>\n",
       "      <td>0.461358</td>\n",
       "    </tr>\n",
       "    <tr>\n",
       "      <th>c</th>\n",
       "      <td>0.333671</td>\n",
       "      <td>0.569389</td>\n",
       "      <td>0.154794</td>\n",
       "      <td>0.591027</td>\n",
       "      <td>0.767428</td>\n",
       "      <td>0.131178</td>\n",
       "    </tr>\n",
       "    <tr>\n",
       "      <th>d</th>\n",
       "      <td>0.810055</td>\n",
       "      <td>0.660338</td>\n",
       "      <td>0.283177</td>\n",
       "      <td>0.230856</td>\n",
       "      <td>0.864259</td>\n",
       "      <td>0.068245</td>\n",
       "    </tr>\n",
       "    <tr>\n",
       "      <th>e</th>\n",
       "      <td>0.472711</td>\n",
       "      <td>0.718905</td>\n",
       "      <td>0.202067</td>\n",
       "      <td>0.210866</td>\n",
       "      <td>0.557449</td>\n",
       "      <td>0.844603</td>\n",
       "    </tr>\n",
       "  </tbody>\n",
       "</table>\n",
       "</div>"
      ],
      "text/plain": [
       "          U         V         W         X         Y         Z\n",
       "a  0.241192  0.034356  0.227156  0.918931  0.143098  0.280160\n",
       "b  0.565478  0.376079  0.260654  0.681125  0.784865  0.461358\n",
       "c  0.333671  0.569389  0.154794  0.591027  0.767428  0.131178\n",
       "d  0.810055  0.660338  0.283177  0.230856  0.864259  0.068245\n",
       "e  0.472711  0.718905  0.202067  0.210866  0.557449  0.844603"
      ]
     },
     "execution_count": 26,
     "metadata": {},
     "output_type": "execute_result"
    }
   ],
   "source": [
    "df"
   ]
  },
  {
   "cell_type": "code",
   "execution_count": 27,
   "metadata": {},
   "outputs": [
    {
     "data": {
      "text/plain": [
       "a    0.241192\n",
       "b    0.565478\n",
       "c    0.333671\n",
       "d    0.810055\n",
       "e    0.472711\n",
       "Name: U, dtype: float64"
      ]
     },
     "execution_count": 27,
     "metadata": {},
     "output_type": "execute_result"
    }
   ],
   "source": [
    "df['U']"
   ]
  },
  {
   "cell_type": "code",
   "execution_count": 28,
   "metadata": {},
   "outputs": [
    {
     "data": {
      "text/plain": [
       "pandas.core.series.Series"
      ]
     },
     "execution_count": 28,
     "metadata": {},
     "output_type": "execute_result"
    }
   ],
   "source": [
    "type(df['U'])"
   ]
  },
  {
   "cell_type": "code",
   "execution_count": 29,
   "metadata": {},
   "outputs": [
    {
     "data": {
      "text/html": [
       "<div>\n",
       "<style scoped>\n",
       "    .dataframe tbody tr th:only-of-type {\n",
       "        vertical-align: middle;\n",
       "    }\n",
       "\n",
       "    .dataframe tbody tr th {\n",
       "        vertical-align: top;\n",
       "    }\n",
       "\n",
       "    .dataframe thead th {\n",
       "        text-align: right;\n",
       "    }\n",
       "</style>\n",
       "<table border=\"1\" class=\"dataframe\">\n",
       "  <thead>\n",
       "    <tr style=\"text-align: right;\">\n",
       "      <th></th>\n",
       "      <th>U</th>\n",
       "      <th>Y</th>\n",
       "      <th>Z</th>\n",
       "    </tr>\n",
       "  </thead>\n",
       "  <tbody>\n",
       "    <tr>\n",
       "      <th>a</th>\n",
       "      <td>0.241192</td>\n",
       "      <td>0.143098</td>\n",
       "      <td>0.280160</td>\n",
       "    </tr>\n",
       "    <tr>\n",
       "      <th>b</th>\n",
       "      <td>0.565478</td>\n",
       "      <td>0.784865</td>\n",
       "      <td>0.461358</td>\n",
       "    </tr>\n",
       "    <tr>\n",
       "      <th>c</th>\n",
       "      <td>0.333671</td>\n",
       "      <td>0.767428</td>\n",
       "      <td>0.131178</td>\n",
       "    </tr>\n",
       "    <tr>\n",
       "      <th>d</th>\n",
       "      <td>0.810055</td>\n",
       "      <td>0.864259</td>\n",
       "      <td>0.068245</td>\n",
       "    </tr>\n",
       "    <tr>\n",
       "      <th>e</th>\n",
       "      <td>0.472711</td>\n",
       "      <td>0.557449</td>\n",
       "      <td>0.844603</td>\n",
       "    </tr>\n",
       "  </tbody>\n",
       "</table>\n",
       "</div>"
      ],
      "text/plain": [
       "          U         Y         Z\n",
       "a  0.241192  0.143098  0.280160\n",
       "b  0.565478  0.784865  0.461358\n",
       "c  0.333671  0.767428  0.131178\n",
       "d  0.810055  0.864259  0.068245\n",
       "e  0.472711  0.557449  0.844603"
      ]
     },
     "execution_count": 29,
     "metadata": {},
     "output_type": "execute_result"
    }
   ],
   "source": [
    "df[['U', 'Y', 'Z']]"
   ]
  },
  {
   "cell_type": "code",
   "execution_count": 30,
   "metadata": {},
   "outputs": [],
   "source": [
    "df['naujas'] = [1,2,3,4,5]"
   ]
  },
  {
   "cell_type": "code",
   "execution_count": 33,
   "metadata": {},
   "outputs": [],
   "source": [
    "df.drop('naujas', axis=1)"
   ]
  },
  {
   "cell_type": "markdown",
   "metadata": {},
   "source": [
    "`axis=0`, apply column-wise\n",
    "\n",
    "`axis=1`, apply row-wise"
   ]
  },
  {
   "cell_type": "code",
   "execution_count": 34,
   "metadata": {},
   "outputs": [
    {
     "data": {
      "text/html": [
       "<div>\n",
       "<style scoped>\n",
       "    .dataframe tbody tr th:only-of-type {\n",
       "        vertical-align: middle;\n",
       "    }\n",
       "\n",
       "    .dataframe tbody tr th {\n",
       "        vertical-align: top;\n",
       "    }\n",
       "\n",
       "    .dataframe thead th {\n",
       "        text-align: right;\n",
       "    }\n",
       "</style>\n",
       "<table border=\"1\" class=\"dataframe\">\n",
       "  <thead>\n",
       "    <tr style=\"text-align: right;\">\n",
       "      <th></th>\n",
       "      <th>U</th>\n",
       "      <th>V</th>\n",
       "      <th>W</th>\n",
       "      <th>X</th>\n",
       "      <th>Y</th>\n",
       "      <th>Z</th>\n",
       "    </tr>\n",
       "  </thead>\n",
       "  <tbody>\n",
       "    <tr>\n",
       "      <th>a</th>\n",
       "      <td>0.241192</td>\n",
       "      <td>0.034356</td>\n",
       "      <td>0.227156</td>\n",
       "      <td>0.918931</td>\n",
       "      <td>0.143098</td>\n",
       "      <td>0.280160</td>\n",
       "    </tr>\n",
       "    <tr>\n",
       "      <th>b</th>\n",
       "      <td>0.565478</td>\n",
       "      <td>0.376079</td>\n",
       "      <td>0.260654</td>\n",
       "      <td>0.681125</td>\n",
       "      <td>0.784865</td>\n",
       "      <td>0.461358</td>\n",
       "    </tr>\n",
       "    <tr>\n",
       "      <th>c</th>\n",
       "      <td>0.333671</td>\n",
       "      <td>0.569389</td>\n",
       "      <td>0.154794</td>\n",
       "      <td>0.591027</td>\n",
       "      <td>0.767428</td>\n",
       "      <td>0.131178</td>\n",
       "    </tr>\n",
       "    <tr>\n",
       "      <th>d</th>\n",
       "      <td>0.810055</td>\n",
       "      <td>0.660338</td>\n",
       "      <td>0.283177</td>\n",
       "      <td>0.230856</td>\n",
       "      <td>0.864259</td>\n",
       "      <td>0.068245</td>\n",
       "    </tr>\n",
       "    <tr>\n",
       "      <th>e</th>\n",
       "      <td>0.472711</td>\n",
       "      <td>0.718905</td>\n",
       "      <td>0.202067</td>\n",
       "      <td>0.210866</td>\n",
       "      <td>0.557449</td>\n",
       "      <td>0.844603</td>\n",
       "    </tr>\n",
       "  </tbody>\n",
       "</table>\n",
       "</div>"
      ],
      "text/plain": [
       "          U         V         W         X         Y         Z\n",
       "a  0.241192  0.034356  0.227156  0.918931  0.143098  0.280160\n",
       "b  0.565478  0.376079  0.260654  0.681125  0.784865  0.461358\n",
       "c  0.333671  0.569389  0.154794  0.591027  0.767428  0.131178\n",
       "d  0.810055  0.660338  0.283177  0.230856  0.864259  0.068245\n",
       "e  0.472711  0.718905  0.202067  0.210866  0.557449  0.844603"
      ]
     },
     "execution_count": 34,
     "metadata": {},
     "output_type": "execute_result"
    }
   ],
   "source": [
    "df"
   ]
  },
  {
   "cell_type": "code",
   "execution_count": null,
   "metadata": {},
   "outputs": [],
   "source": [
    "df.drop('naujas', axis=1, inplace=True)"
   ]
  },
  {
   "cell_type": "code",
   "execution_count": 35,
   "metadata": {},
   "outputs": [
    {
     "data": {
      "text/html": [
       "<div>\n",
       "<style scoped>\n",
       "    .dataframe tbody tr th:only-of-type {\n",
       "        vertical-align: middle;\n",
       "    }\n",
       "\n",
       "    .dataframe tbody tr th {\n",
       "        vertical-align: top;\n",
       "    }\n",
       "\n",
       "    .dataframe thead th {\n",
       "        text-align: right;\n",
       "    }\n",
       "</style>\n",
       "<table border=\"1\" class=\"dataframe\">\n",
       "  <thead>\n",
       "    <tr style=\"text-align: right;\">\n",
       "      <th></th>\n",
       "      <th>U</th>\n",
       "      <th>V</th>\n",
       "      <th>W</th>\n",
       "      <th>X</th>\n",
       "      <th>Y</th>\n",
       "      <th>Z</th>\n",
       "    </tr>\n",
       "  </thead>\n",
       "  <tbody>\n",
       "    <tr>\n",
       "      <th>a</th>\n",
       "      <td>0.241192</td>\n",
       "      <td>0.034356</td>\n",
       "      <td>0.227156</td>\n",
       "      <td>0.918931</td>\n",
       "      <td>0.143098</td>\n",
       "      <td>0.280160</td>\n",
       "    </tr>\n",
       "    <tr>\n",
       "      <th>b</th>\n",
       "      <td>0.565478</td>\n",
       "      <td>0.376079</td>\n",
       "      <td>0.260654</td>\n",
       "      <td>0.681125</td>\n",
       "      <td>0.784865</td>\n",
       "      <td>0.461358</td>\n",
       "    </tr>\n",
       "    <tr>\n",
       "      <th>c</th>\n",
       "      <td>0.333671</td>\n",
       "      <td>0.569389</td>\n",
       "      <td>0.154794</td>\n",
       "      <td>0.591027</td>\n",
       "      <td>0.767428</td>\n",
       "      <td>0.131178</td>\n",
       "    </tr>\n",
       "    <tr>\n",
       "      <th>d</th>\n",
       "      <td>0.810055</td>\n",
       "      <td>0.660338</td>\n",
       "      <td>0.283177</td>\n",
       "      <td>0.230856</td>\n",
       "      <td>0.864259</td>\n",
       "      <td>0.068245</td>\n",
       "    </tr>\n",
       "  </tbody>\n",
       "</table>\n",
       "</div>"
      ],
      "text/plain": [
       "          U         V         W         X         Y         Z\n",
       "a  0.241192  0.034356  0.227156  0.918931  0.143098  0.280160\n",
       "b  0.565478  0.376079  0.260654  0.681125  0.784865  0.461358\n",
       "c  0.333671  0.569389  0.154794  0.591027  0.767428  0.131178\n",
       "d  0.810055  0.660338  0.283177  0.230856  0.864259  0.068245"
      ]
     },
     "execution_count": 35,
     "metadata": {},
     "output_type": "execute_result"
    }
   ],
   "source": [
    "df.drop('e')"
   ]
  },
  {
   "cell_type": "markdown",
   "metadata": {},
   "source": [
    "## Eilučių Traukimas"
   ]
  },
  {
   "cell_type": "code",
   "execution_count": 38,
   "metadata": {},
   "outputs": [
    {
     "data": {
      "text/html": [
       "<div>\n",
       "<style scoped>\n",
       "    .dataframe tbody tr th:only-of-type {\n",
       "        vertical-align: middle;\n",
       "    }\n",
       "\n",
       "    .dataframe tbody tr th {\n",
       "        vertical-align: top;\n",
       "    }\n",
       "\n",
       "    .dataframe thead th {\n",
       "        text-align: right;\n",
       "    }\n",
       "</style>\n",
       "<table border=\"1\" class=\"dataframe\">\n",
       "  <thead>\n",
       "    <tr style=\"text-align: right;\">\n",
       "      <th></th>\n",
       "      <th>U</th>\n",
       "      <th>V</th>\n",
       "      <th>W</th>\n",
       "      <th>X</th>\n",
       "      <th>Y</th>\n",
       "      <th>Z</th>\n",
       "    </tr>\n",
       "  </thead>\n",
       "  <tbody>\n",
       "    <tr>\n",
       "      <th>a</th>\n",
       "      <td>0.241192</td>\n",
       "      <td>0.034356</td>\n",
       "      <td>0.227156</td>\n",
       "      <td>0.918931</td>\n",
       "      <td>0.143098</td>\n",
       "      <td>0.280160</td>\n",
       "    </tr>\n",
       "    <tr>\n",
       "      <th>b</th>\n",
       "      <td>0.565478</td>\n",
       "      <td>0.376079</td>\n",
       "      <td>0.260654</td>\n",
       "      <td>0.681125</td>\n",
       "      <td>0.784865</td>\n",
       "      <td>0.461358</td>\n",
       "    </tr>\n",
       "    <tr>\n",
       "      <th>c</th>\n",
       "      <td>0.333671</td>\n",
       "      <td>0.569389</td>\n",
       "      <td>0.154794</td>\n",
       "      <td>0.591027</td>\n",
       "      <td>0.767428</td>\n",
       "      <td>0.131178</td>\n",
       "    </tr>\n",
       "    <tr>\n",
       "      <th>d</th>\n",
       "      <td>0.810055</td>\n",
       "      <td>0.660338</td>\n",
       "      <td>0.283177</td>\n",
       "      <td>0.230856</td>\n",
       "      <td>0.864259</td>\n",
       "      <td>0.068245</td>\n",
       "    </tr>\n",
       "    <tr>\n",
       "      <th>e</th>\n",
       "      <td>0.472711</td>\n",
       "      <td>0.718905</td>\n",
       "      <td>0.202067</td>\n",
       "      <td>0.210866</td>\n",
       "      <td>0.557449</td>\n",
       "      <td>0.844603</td>\n",
       "    </tr>\n",
       "  </tbody>\n",
       "</table>\n",
       "</div>"
      ],
      "text/plain": [
       "          U         V         W         X         Y         Z\n",
       "a  0.241192  0.034356  0.227156  0.918931  0.143098  0.280160\n",
       "b  0.565478  0.376079  0.260654  0.681125  0.784865  0.461358\n",
       "c  0.333671  0.569389  0.154794  0.591027  0.767428  0.131178\n",
       "d  0.810055  0.660338  0.283177  0.230856  0.864259  0.068245\n",
       "e  0.472711  0.718905  0.202067  0.210866  0.557449  0.844603"
      ]
     },
     "execution_count": 38,
     "metadata": {},
     "output_type": "execute_result"
    }
   ],
   "source": [
    "df"
   ]
  },
  {
   "cell_type": "code",
   "execution_count": 37,
   "metadata": {},
   "outputs": [
    {
     "data": {
      "text/plain": [
       "U    0.472711\n",
       "V    0.718905\n",
       "W    0.202067\n",
       "X    0.210866\n",
       "Y    0.557449\n",
       "Z    0.844603\n",
       "Name: e, dtype: float64"
      ]
     },
     "execution_count": 37,
     "metadata": {},
     "output_type": "execute_result"
    }
   ],
   "source": [
    "df.loc['e']"
   ]
  },
  {
   "cell_type": "code",
   "execution_count": 39,
   "metadata": {},
   "outputs": [
    {
     "data": {
      "text/plain": [
       "U    0.472711\n",
       "V    0.718905\n",
       "W    0.202067\n",
       "X    0.210866\n",
       "Y    0.557449\n",
       "Z    0.844603\n",
       "Name: e, dtype: float64"
      ]
     },
     "execution_count": 39,
     "metadata": {},
     "output_type": "execute_result"
    }
   ],
   "source": [
    "df.iloc[4]"
   ]
  },
  {
   "cell_type": "markdown",
   "metadata": {},
   "source": [
    "Subsets"
   ]
  },
  {
   "cell_type": "code",
   "execution_count": 40,
   "metadata": {},
   "outputs": [
    {
     "data": {
      "text/plain": [
       "0.06824544991292147"
      ]
     },
     "execution_count": 40,
     "metadata": {},
     "output_type": "execute_result"
    }
   ],
   "source": [
    "df.loc['d', 'Z']"
   ]
  },
  {
   "cell_type": "code",
   "execution_count": 41,
   "metadata": {},
   "outputs": [
    {
     "data": {
      "text/html": [
       "<div>\n",
       "<style scoped>\n",
       "    .dataframe tbody tr th:only-of-type {\n",
       "        vertical-align: middle;\n",
       "    }\n",
       "\n",
       "    .dataframe tbody tr th {\n",
       "        vertical-align: top;\n",
       "    }\n",
       "\n",
       "    .dataframe thead th {\n",
       "        text-align: right;\n",
       "    }\n",
       "</style>\n",
       "<table border=\"1\" class=\"dataframe\">\n",
       "  <thead>\n",
       "    <tr style=\"text-align: right;\">\n",
       "      <th></th>\n",
       "      <th>U</th>\n",
       "      <th>V</th>\n",
       "      <th>Z</th>\n",
       "    </tr>\n",
       "  </thead>\n",
       "  <tbody>\n",
       "    <tr>\n",
       "      <th>a</th>\n",
       "      <td>0.241192</td>\n",
       "      <td>0.034356</td>\n",
       "      <td>0.280160</td>\n",
       "    </tr>\n",
       "    <tr>\n",
       "      <th>c</th>\n",
       "      <td>0.333671</td>\n",
       "      <td>0.569389</td>\n",
       "      <td>0.131178</td>\n",
       "    </tr>\n",
       "  </tbody>\n",
       "</table>\n",
       "</div>"
      ],
      "text/plain": [
       "          U         V         Z\n",
       "a  0.241192  0.034356  0.280160\n",
       "c  0.333671  0.569389  0.131178"
      ]
     },
     "execution_count": 41,
     "metadata": {},
     "output_type": "execute_result"
    }
   ],
   "source": [
    "df.loc[['a', 'c'], ['U', 'V', 'Z']]"
   ]
  },
  {
   "cell_type": "markdown",
   "metadata": {},
   "source": [
    "#### Eilučių filtravimas pagal sąlygą"
   ]
  },
  {
   "cell_type": "code",
   "execution_count": 42,
   "metadata": {},
   "outputs": [
    {
     "data": {
      "text/html": [
       "<div>\n",
       "<style scoped>\n",
       "    .dataframe tbody tr th:only-of-type {\n",
       "        vertical-align: middle;\n",
       "    }\n",
       "\n",
       "    .dataframe tbody tr th {\n",
       "        vertical-align: top;\n",
       "    }\n",
       "\n",
       "    .dataframe thead th {\n",
       "        text-align: right;\n",
       "    }\n",
       "</style>\n",
       "<table border=\"1\" class=\"dataframe\">\n",
       "  <thead>\n",
       "    <tr style=\"text-align: right;\">\n",
       "      <th></th>\n",
       "      <th>U</th>\n",
       "      <th>V</th>\n",
       "      <th>W</th>\n",
       "      <th>X</th>\n",
       "      <th>Y</th>\n",
       "      <th>Z</th>\n",
       "    </tr>\n",
       "  </thead>\n",
       "  <tbody>\n",
       "    <tr>\n",
       "      <th>a</th>\n",
       "      <td>0.241192</td>\n",
       "      <td>0.034356</td>\n",
       "      <td>0.227156</td>\n",
       "      <td>0.918931</td>\n",
       "      <td>0.143098</td>\n",
       "      <td>0.280160</td>\n",
       "    </tr>\n",
       "    <tr>\n",
       "      <th>b</th>\n",
       "      <td>0.565478</td>\n",
       "      <td>0.376079</td>\n",
       "      <td>0.260654</td>\n",
       "      <td>0.681125</td>\n",
       "      <td>0.784865</td>\n",
       "      <td>0.461358</td>\n",
       "    </tr>\n",
       "    <tr>\n",
       "      <th>c</th>\n",
       "      <td>0.333671</td>\n",
       "      <td>0.569389</td>\n",
       "      <td>0.154794</td>\n",
       "      <td>0.591027</td>\n",
       "      <td>0.767428</td>\n",
       "      <td>0.131178</td>\n",
       "    </tr>\n",
       "    <tr>\n",
       "      <th>d</th>\n",
       "      <td>0.810055</td>\n",
       "      <td>0.660338</td>\n",
       "      <td>0.283177</td>\n",
       "      <td>0.230856</td>\n",
       "      <td>0.864259</td>\n",
       "      <td>0.068245</td>\n",
       "    </tr>\n",
       "    <tr>\n",
       "      <th>e</th>\n",
       "      <td>0.472711</td>\n",
       "      <td>0.718905</td>\n",
       "      <td>0.202067</td>\n",
       "      <td>0.210866</td>\n",
       "      <td>0.557449</td>\n",
       "      <td>0.844603</td>\n",
       "    </tr>\n",
       "  </tbody>\n",
       "</table>\n",
       "</div>"
      ],
      "text/plain": [
       "          U         V         W         X         Y         Z\n",
       "a  0.241192  0.034356  0.227156  0.918931  0.143098  0.280160\n",
       "b  0.565478  0.376079  0.260654  0.681125  0.784865  0.461358\n",
       "c  0.333671  0.569389  0.154794  0.591027  0.767428  0.131178\n",
       "d  0.810055  0.660338  0.283177  0.230856  0.864259  0.068245\n",
       "e  0.472711  0.718905  0.202067  0.210866  0.557449  0.844603"
      ]
     },
     "execution_count": 42,
     "metadata": {},
     "output_type": "execute_result"
    }
   ],
   "source": [
    "df"
   ]
  },
  {
   "cell_type": "code",
   "execution_count": 45,
   "metadata": {},
   "outputs": [
    {
     "data": {
      "text/html": [
       "<div>\n",
       "<style scoped>\n",
       "    .dataframe tbody tr th:only-of-type {\n",
       "        vertical-align: middle;\n",
       "    }\n",
       "\n",
       "    .dataframe tbody tr th {\n",
       "        vertical-align: top;\n",
       "    }\n",
       "\n",
       "    .dataframe thead th {\n",
       "        text-align: right;\n",
       "    }\n",
       "</style>\n",
       "<table border=\"1\" class=\"dataframe\">\n",
       "  <thead>\n",
       "    <tr style=\"text-align: right;\">\n",
       "      <th></th>\n",
       "      <th>U</th>\n",
       "      <th>V</th>\n",
       "      <th>W</th>\n",
       "      <th>X</th>\n",
       "      <th>Y</th>\n",
       "      <th>Z</th>\n",
       "    </tr>\n",
       "  </thead>\n",
       "  <tbody>\n",
       "    <tr>\n",
       "      <th>a</th>\n",
       "      <td>NaN</td>\n",
       "      <td>NaN</td>\n",
       "      <td>NaN</td>\n",
       "      <td>0.918931</td>\n",
       "      <td>NaN</td>\n",
       "      <td>NaN</td>\n",
       "    </tr>\n",
       "    <tr>\n",
       "      <th>b</th>\n",
       "      <td>0.565478</td>\n",
       "      <td>NaN</td>\n",
       "      <td>NaN</td>\n",
       "      <td>0.681125</td>\n",
       "      <td>0.784865</td>\n",
       "      <td>0.461358</td>\n",
       "    </tr>\n",
       "    <tr>\n",
       "      <th>c</th>\n",
       "      <td>NaN</td>\n",
       "      <td>0.569389</td>\n",
       "      <td>NaN</td>\n",
       "      <td>0.591027</td>\n",
       "      <td>0.767428</td>\n",
       "      <td>NaN</td>\n",
       "    </tr>\n",
       "    <tr>\n",
       "      <th>d</th>\n",
       "      <td>0.810055</td>\n",
       "      <td>0.660338</td>\n",
       "      <td>NaN</td>\n",
       "      <td>NaN</td>\n",
       "      <td>0.864259</td>\n",
       "      <td>NaN</td>\n",
       "    </tr>\n",
       "    <tr>\n",
       "      <th>e</th>\n",
       "      <td>0.472711</td>\n",
       "      <td>0.718905</td>\n",
       "      <td>NaN</td>\n",
       "      <td>NaN</td>\n",
       "      <td>0.557449</td>\n",
       "      <td>0.844603</td>\n",
       "    </tr>\n",
       "  </tbody>\n",
       "</table>\n",
       "</div>"
      ],
      "text/plain": [
       "          U         V   W         X         Y         Z\n",
       "a       NaN       NaN NaN  0.918931       NaN       NaN\n",
       "b  0.565478       NaN NaN  0.681125  0.784865  0.461358\n",
       "c       NaN  0.569389 NaN  0.591027  0.767428       NaN\n",
       "d  0.810055  0.660338 NaN       NaN  0.864259       NaN\n",
       "e  0.472711  0.718905 NaN       NaN  0.557449  0.844603"
      ]
     },
     "execution_count": 45,
     "metadata": {},
     "output_type": "execute_result"
    }
   ],
   "source": [
    "df[df > 0.4]"
   ]
  },
  {
   "cell_type": "code",
   "execution_count": 46,
   "metadata": {},
   "outputs": [
    {
     "data": {
      "text/html": [
       "<div>\n",
       "<style scoped>\n",
       "    .dataframe tbody tr th:only-of-type {\n",
       "        vertical-align: middle;\n",
       "    }\n",
       "\n",
       "    .dataframe tbody tr th {\n",
       "        vertical-align: top;\n",
       "    }\n",
       "\n",
       "    .dataframe thead th {\n",
       "        text-align: right;\n",
       "    }\n",
       "</style>\n",
       "<table border=\"1\" class=\"dataframe\">\n",
       "  <thead>\n",
       "    <tr style=\"text-align: right;\">\n",
       "      <th></th>\n",
       "      <th>U</th>\n",
       "      <th>V</th>\n",
       "      <th>W</th>\n",
       "      <th>X</th>\n",
       "      <th>Y</th>\n",
       "      <th>Z</th>\n",
       "    </tr>\n",
       "  </thead>\n",
       "  <tbody>\n",
       "    <tr>\n",
       "      <th>c</th>\n",
       "      <td>0.333671</td>\n",
       "      <td>0.569389</td>\n",
       "      <td>0.154794</td>\n",
       "      <td>0.591027</td>\n",
       "      <td>0.767428</td>\n",
       "      <td>0.131178</td>\n",
       "    </tr>\n",
       "    <tr>\n",
       "      <th>d</th>\n",
       "      <td>0.810055</td>\n",
       "      <td>0.660338</td>\n",
       "      <td>0.283177</td>\n",
       "      <td>0.230856</td>\n",
       "      <td>0.864259</td>\n",
       "      <td>0.068245</td>\n",
       "    </tr>\n",
       "    <tr>\n",
       "      <th>e</th>\n",
       "      <td>0.472711</td>\n",
       "      <td>0.718905</td>\n",
       "      <td>0.202067</td>\n",
       "      <td>0.210866</td>\n",
       "      <td>0.557449</td>\n",
       "      <td>0.844603</td>\n",
       "    </tr>\n",
       "  </tbody>\n",
       "</table>\n",
       "</div>"
      ],
      "text/plain": [
       "          U         V         W         X         Y         Z\n",
       "c  0.333671  0.569389  0.154794  0.591027  0.767428  0.131178\n",
       "d  0.810055  0.660338  0.283177  0.230856  0.864259  0.068245\n",
       "e  0.472711  0.718905  0.202067  0.210866  0.557449  0.844603"
      ]
     },
     "execution_count": 46,
     "metadata": {},
     "output_type": "execute_result"
    }
   ],
   "source": [
    "df[df['V'] > 0.4]"
   ]
  },
  {
   "cell_type": "markdown",
   "metadata": {},
   "source": [
    "užklausų kombinavimas"
   ]
  },
  {
   "cell_type": "code",
   "execution_count": 48,
   "metadata": {},
   "outputs": [
    {
     "data": {
      "text/html": [
       "<div>\n",
       "<style scoped>\n",
       "    .dataframe tbody tr th:only-of-type {\n",
       "        vertical-align: middle;\n",
       "    }\n",
       "\n",
       "    .dataframe tbody tr th {\n",
       "        vertical-align: top;\n",
       "    }\n",
       "\n",
       "    .dataframe thead th {\n",
       "        text-align: right;\n",
       "    }\n",
       "</style>\n",
       "<table border=\"1\" class=\"dataframe\">\n",
       "  <thead>\n",
       "    <tr style=\"text-align: right;\">\n",
       "      <th></th>\n",
       "      <th>U</th>\n",
       "      <th>V</th>\n",
       "    </tr>\n",
       "  </thead>\n",
       "  <tbody>\n",
       "    <tr>\n",
       "      <th>c</th>\n",
       "      <td>0.333671</td>\n",
       "      <td>0.569389</td>\n",
       "    </tr>\n",
       "    <tr>\n",
       "      <th>d</th>\n",
       "      <td>0.810055</td>\n",
       "      <td>0.660338</td>\n",
       "    </tr>\n",
       "    <tr>\n",
       "      <th>e</th>\n",
       "      <td>0.472711</td>\n",
       "      <td>0.718905</td>\n",
       "    </tr>\n",
       "  </tbody>\n",
       "</table>\n",
       "</div>"
      ],
      "text/plain": [
       "          U         V\n",
       "c  0.333671  0.569389\n",
       "d  0.810055  0.660338\n",
       "e  0.472711  0.718905"
      ]
     },
     "execution_count": 48,
     "metadata": {},
     "output_type": "execute_result"
    }
   ],
   "source": [
    "df[df['V'] > 0.4][['U', 'V']]"
   ]
  },
  {
   "cell_type": "code",
   "execution_count": 53,
   "metadata": {},
   "outputs": [
    {
     "data": {
      "text/html": [
       "<div>\n",
       "<style scoped>\n",
       "    .dataframe tbody tr th:only-of-type {\n",
       "        vertical-align: middle;\n",
       "    }\n",
       "\n",
       "    .dataframe tbody tr th {\n",
       "        vertical-align: top;\n",
       "    }\n",
       "\n",
       "    .dataframe thead th {\n",
       "        text-align: right;\n",
       "    }\n",
       "</style>\n",
       "<table border=\"1\" class=\"dataframe\">\n",
       "  <thead>\n",
       "    <tr style=\"text-align: right;\">\n",
       "      <th></th>\n",
       "      <th>U</th>\n",
       "      <th>V</th>\n",
       "      <th>W</th>\n",
       "      <th>X</th>\n",
       "      <th>Y</th>\n",
       "      <th>Z</th>\n",
       "    </tr>\n",
       "  </thead>\n",
       "  <tbody>\n",
       "    <tr>\n",
       "      <th>b</th>\n",
       "      <td>0.565478</td>\n",
       "      <td>0.376079</td>\n",
       "      <td>0.260654</td>\n",
       "      <td>0.681125</td>\n",
       "      <td>0.784865</td>\n",
       "      <td>0.461358</td>\n",
       "    </tr>\n",
       "    <tr>\n",
       "      <th>d</th>\n",
       "      <td>0.810055</td>\n",
       "      <td>0.660338</td>\n",
       "      <td>0.283177</td>\n",
       "      <td>0.230856</td>\n",
       "      <td>0.864259</td>\n",
       "      <td>0.068245</td>\n",
       "    </tr>\n",
       "  </tbody>\n",
       "</table>\n",
       "</div>"
      ],
      "text/plain": [
       "          U         V         W         X         Y         Z\n",
       "b  0.565478  0.376079  0.260654  0.681125  0.784865  0.461358\n",
       "d  0.810055  0.660338  0.283177  0.230856  0.864259  0.068245"
      ]
     },
     "execution_count": 53,
     "metadata": {},
     "output_type": "execute_result"
    }
   ],
   "source": [
    "df[(df['U'] > 0.5) & (df['Z']<1.)] # OR |       AND &"
   ]
  },
  {
   "cell_type": "markdown",
   "metadata": {},
   "source": [
    "## indeksu operacijos"
   ]
  },
  {
   "cell_type": "code",
   "execution_count": 54,
   "metadata": {},
   "outputs": [
    {
     "data": {
      "text/html": [
       "<div>\n",
       "<style scoped>\n",
       "    .dataframe tbody tr th:only-of-type {\n",
       "        vertical-align: middle;\n",
       "    }\n",
       "\n",
       "    .dataframe tbody tr th {\n",
       "        vertical-align: top;\n",
       "    }\n",
       "\n",
       "    .dataframe thead th {\n",
       "        text-align: right;\n",
       "    }\n",
       "</style>\n",
       "<table border=\"1\" class=\"dataframe\">\n",
       "  <thead>\n",
       "    <tr style=\"text-align: right;\">\n",
       "      <th></th>\n",
       "      <th>U</th>\n",
       "      <th>V</th>\n",
       "      <th>W</th>\n",
       "      <th>X</th>\n",
       "      <th>Y</th>\n",
       "      <th>Z</th>\n",
       "    </tr>\n",
       "  </thead>\n",
       "  <tbody>\n",
       "    <tr>\n",
       "      <th>a</th>\n",
       "      <td>0.241192</td>\n",
       "      <td>0.034356</td>\n",
       "      <td>0.227156</td>\n",
       "      <td>0.918931</td>\n",
       "      <td>0.143098</td>\n",
       "      <td>0.280160</td>\n",
       "    </tr>\n",
       "    <tr>\n",
       "      <th>b</th>\n",
       "      <td>0.565478</td>\n",
       "      <td>0.376079</td>\n",
       "      <td>0.260654</td>\n",
       "      <td>0.681125</td>\n",
       "      <td>0.784865</td>\n",
       "      <td>0.461358</td>\n",
       "    </tr>\n",
       "    <tr>\n",
       "      <th>c</th>\n",
       "      <td>0.333671</td>\n",
       "      <td>0.569389</td>\n",
       "      <td>0.154794</td>\n",
       "      <td>0.591027</td>\n",
       "      <td>0.767428</td>\n",
       "      <td>0.131178</td>\n",
       "    </tr>\n",
       "    <tr>\n",
       "      <th>d</th>\n",
       "      <td>0.810055</td>\n",
       "      <td>0.660338</td>\n",
       "      <td>0.283177</td>\n",
       "      <td>0.230856</td>\n",
       "      <td>0.864259</td>\n",
       "      <td>0.068245</td>\n",
       "    </tr>\n",
       "    <tr>\n",
       "      <th>e</th>\n",
       "      <td>0.472711</td>\n",
       "      <td>0.718905</td>\n",
       "      <td>0.202067</td>\n",
       "      <td>0.210866</td>\n",
       "      <td>0.557449</td>\n",
       "      <td>0.844603</td>\n",
       "    </tr>\n",
       "  </tbody>\n",
       "</table>\n",
       "</div>"
      ],
      "text/plain": [
       "          U         V         W         X         Y         Z\n",
       "a  0.241192  0.034356  0.227156  0.918931  0.143098  0.280160\n",
       "b  0.565478  0.376079  0.260654  0.681125  0.784865  0.461358\n",
       "c  0.333671  0.569389  0.154794  0.591027  0.767428  0.131178\n",
       "d  0.810055  0.660338  0.283177  0.230856  0.864259  0.068245\n",
       "e  0.472711  0.718905  0.202067  0.210866  0.557449  0.844603"
      ]
     },
     "execution_count": 54,
     "metadata": {},
     "output_type": "execute_result"
    }
   ],
   "source": [
    "df"
   ]
  },
  {
   "cell_type": "code",
   "execution_count": 55,
   "metadata": {},
   "outputs": [
    {
     "data": {
      "text/html": [
       "<div>\n",
       "<style scoped>\n",
       "    .dataframe tbody tr th:only-of-type {\n",
       "        vertical-align: middle;\n",
       "    }\n",
       "\n",
       "    .dataframe tbody tr th {\n",
       "        vertical-align: top;\n",
       "    }\n",
       "\n",
       "    .dataframe thead th {\n",
       "        text-align: right;\n",
       "    }\n",
       "</style>\n",
       "<table border=\"1\" class=\"dataframe\">\n",
       "  <thead>\n",
       "    <tr style=\"text-align: right;\">\n",
       "      <th></th>\n",
       "      <th>index</th>\n",
       "      <th>U</th>\n",
       "      <th>V</th>\n",
       "      <th>W</th>\n",
       "      <th>X</th>\n",
       "      <th>Y</th>\n",
       "      <th>Z</th>\n",
       "    </tr>\n",
       "  </thead>\n",
       "  <tbody>\n",
       "    <tr>\n",
       "      <th>0</th>\n",
       "      <td>a</td>\n",
       "      <td>0.241192</td>\n",
       "      <td>0.034356</td>\n",
       "      <td>0.227156</td>\n",
       "      <td>0.918931</td>\n",
       "      <td>0.143098</td>\n",
       "      <td>0.280160</td>\n",
       "    </tr>\n",
       "    <tr>\n",
       "      <th>1</th>\n",
       "      <td>b</td>\n",
       "      <td>0.565478</td>\n",
       "      <td>0.376079</td>\n",
       "      <td>0.260654</td>\n",
       "      <td>0.681125</td>\n",
       "      <td>0.784865</td>\n",
       "      <td>0.461358</td>\n",
       "    </tr>\n",
       "    <tr>\n",
       "      <th>2</th>\n",
       "      <td>c</td>\n",
       "      <td>0.333671</td>\n",
       "      <td>0.569389</td>\n",
       "      <td>0.154794</td>\n",
       "      <td>0.591027</td>\n",
       "      <td>0.767428</td>\n",
       "      <td>0.131178</td>\n",
       "    </tr>\n",
       "    <tr>\n",
       "      <th>3</th>\n",
       "      <td>d</td>\n",
       "      <td>0.810055</td>\n",
       "      <td>0.660338</td>\n",
       "      <td>0.283177</td>\n",
       "      <td>0.230856</td>\n",
       "      <td>0.864259</td>\n",
       "      <td>0.068245</td>\n",
       "    </tr>\n",
       "    <tr>\n",
       "      <th>4</th>\n",
       "      <td>e</td>\n",
       "      <td>0.472711</td>\n",
       "      <td>0.718905</td>\n",
       "      <td>0.202067</td>\n",
       "      <td>0.210866</td>\n",
       "      <td>0.557449</td>\n",
       "      <td>0.844603</td>\n",
       "    </tr>\n",
       "  </tbody>\n",
       "</table>\n",
       "</div>"
      ],
      "text/plain": [
       "  index         U         V         W         X         Y         Z\n",
       "0     a  0.241192  0.034356  0.227156  0.918931  0.143098  0.280160\n",
       "1     b  0.565478  0.376079  0.260654  0.681125  0.784865  0.461358\n",
       "2     c  0.333671  0.569389  0.154794  0.591027  0.767428  0.131178\n",
       "3     d  0.810055  0.660338  0.283177  0.230856  0.864259  0.068245\n",
       "4     e  0.472711  0.718905  0.202067  0.210866  0.557449  0.844603"
      ]
     },
     "execution_count": 55,
     "metadata": {},
     "output_type": "execute_result"
    }
   ],
   "source": [
    "df.reset_index()"
   ]
  },
  {
   "cell_type": "code",
   "execution_count": 56,
   "metadata": {},
   "outputs": [],
   "source": [
    "naujas_indeksas = ['Vilnius', 'Kaunas', 'Klaipeda', 'Siauliai', 'Panevezys']"
   ]
  },
  {
   "cell_type": "code",
   "execution_count": 57,
   "metadata": {},
   "outputs": [
    {
     "data": {
      "text/plain": [
       "['Vilnius', 'Kaunas', 'Klaipeda', 'Siauliai', 'Panevezys']"
      ]
     },
     "execution_count": 57,
     "metadata": {},
     "output_type": "execute_result"
    }
   ],
   "source": [
    "naujas_indeksas"
   ]
  },
  {
   "cell_type": "code",
   "execution_count": 58,
   "metadata": {},
   "outputs": [],
   "source": [
    "df['Miestai'] = naujas_indeksas"
   ]
  },
  {
   "cell_type": "code",
   "execution_count": 59,
   "metadata": {},
   "outputs": [
    {
     "data": {
      "text/html": [
       "<div>\n",
       "<style scoped>\n",
       "    .dataframe tbody tr th:only-of-type {\n",
       "        vertical-align: middle;\n",
       "    }\n",
       "\n",
       "    .dataframe tbody tr th {\n",
       "        vertical-align: top;\n",
       "    }\n",
       "\n",
       "    .dataframe thead th {\n",
       "        text-align: right;\n",
       "    }\n",
       "</style>\n",
       "<table border=\"1\" class=\"dataframe\">\n",
       "  <thead>\n",
       "    <tr style=\"text-align: right;\">\n",
       "      <th></th>\n",
       "      <th>U</th>\n",
       "      <th>V</th>\n",
       "      <th>W</th>\n",
       "      <th>X</th>\n",
       "      <th>Y</th>\n",
       "      <th>Z</th>\n",
       "      <th>Miestai</th>\n",
       "    </tr>\n",
       "  </thead>\n",
       "  <tbody>\n",
       "    <tr>\n",
       "      <th>a</th>\n",
       "      <td>0.241192</td>\n",
       "      <td>0.034356</td>\n",
       "      <td>0.227156</td>\n",
       "      <td>0.918931</td>\n",
       "      <td>0.143098</td>\n",
       "      <td>0.280160</td>\n",
       "      <td>Vilnius</td>\n",
       "    </tr>\n",
       "    <tr>\n",
       "      <th>b</th>\n",
       "      <td>0.565478</td>\n",
       "      <td>0.376079</td>\n",
       "      <td>0.260654</td>\n",
       "      <td>0.681125</td>\n",
       "      <td>0.784865</td>\n",
       "      <td>0.461358</td>\n",
       "      <td>Kaunas</td>\n",
       "    </tr>\n",
       "    <tr>\n",
       "      <th>c</th>\n",
       "      <td>0.333671</td>\n",
       "      <td>0.569389</td>\n",
       "      <td>0.154794</td>\n",
       "      <td>0.591027</td>\n",
       "      <td>0.767428</td>\n",
       "      <td>0.131178</td>\n",
       "      <td>Klaipeda</td>\n",
       "    </tr>\n",
       "    <tr>\n",
       "      <th>d</th>\n",
       "      <td>0.810055</td>\n",
       "      <td>0.660338</td>\n",
       "      <td>0.283177</td>\n",
       "      <td>0.230856</td>\n",
       "      <td>0.864259</td>\n",
       "      <td>0.068245</td>\n",
       "      <td>Siauliai</td>\n",
       "    </tr>\n",
       "    <tr>\n",
       "      <th>e</th>\n",
       "      <td>0.472711</td>\n",
       "      <td>0.718905</td>\n",
       "      <td>0.202067</td>\n",
       "      <td>0.210866</td>\n",
       "      <td>0.557449</td>\n",
       "      <td>0.844603</td>\n",
       "      <td>Panevezys</td>\n",
       "    </tr>\n",
       "  </tbody>\n",
       "</table>\n",
       "</div>"
      ],
      "text/plain": [
       "          U         V         W         X         Y         Z    Miestai\n",
       "a  0.241192  0.034356  0.227156  0.918931  0.143098  0.280160    Vilnius\n",
       "b  0.565478  0.376079  0.260654  0.681125  0.784865  0.461358     Kaunas\n",
       "c  0.333671  0.569389  0.154794  0.591027  0.767428  0.131178   Klaipeda\n",
       "d  0.810055  0.660338  0.283177  0.230856  0.864259  0.068245   Siauliai\n",
       "e  0.472711  0.718905  0.202067  0.210866  0.557449  0.844603  Panevezys"
      ]
     },
     "execution_count": 59,
     "metadata": {},
     "output_type": "execute_result"
    }
   ],
   "source": [
    "df"
   ]
  },
  {
   "cell_type": "code",
   "execution_count": 60,
   "metadata": {},
   "outputs": [
    {
     "data": {
      "text/html": [
       "<div>\n",
       "<style scoped>\n",
       "    .dataframe tbody tr th:only-of-type {\n",
       "        vertical-align: middle;\n",
       "    }\n",
       "\n",
       "    .dataframe tbody tr th {\n",
       "        vertical-align: top;\n",
       "    }\n",
       "\n",
       "    .dataframe thead th {\n",
       "        text-align: right;\n",
       "    }\n",
       "</style>\n",
       "<table border=\"1\" class=\"dataframe\">\n",
       "  <thead>\n",
       "    <tr style=\"text-align: right;\">\n",
       "      <th></th>\n",
       "      <th>U</th>\n",
       "      <th>V</th>\n",
       "      <th>W</th>\n",
       "      <th>X</th>\n",
       "      <th>Y</th>\n",
       "      <th>Z</th>\n",
       "    </tr>\n",
       "    <tr>\n",
       "      <th>Miestai</th>\n",
       "      <th></th>\n",
       "      <th></th>\n",
       "      <th></th>\n",
       "      <th></th>\n",
       "      <th></th>\n",
       "      <th></th>\n",
       "    </tr>\n",
       "  </thead>\n",
       "  <tbody>\n",
       "    <tr>\n",
       "      <th>Vilnius</th>\n",
       "      <td>0.241192</td>\n",
       "      <td>0.034356</td>\n",
       "      <td>0.227156</td>\n",
       "      <td>0.918931</td>\n",
       "      <td>0.143098</td>\n",
       "      <td>0.280160</td>\n",
       "    </tr>\n",
       "    <tr>\n",
       "      <th>Kaunas</th>\n",
       "      <td>0.565478</td>\n",
       "      <td>0.376079</td>\n",
       "      <td>0.260654</td>\n",
       "      <td>0.681125</td>\n",
       "      <td>0.784865</td>\n",
       "      <td>0.461358</td>\n",
       "    </tr>\n",
       "    <tr>\n",
       "      <th>Klaipeda</th>\n",
       "      <td>0.333671</td>\n",
       "      <td>0.569389</td>\n",
       "      <td>0.154794</td>\n",
       "      <td>0.591027</td>\n",
       "      <td>0.767428</td>\n",
       "      <td>0.131178</td>\n",
       "    </tr>\n",
       "    <tr>\n",
       "      <th>Siauliai</th>\n",
       "      <td>0.810055</td>\n",
       "      <td>0.660338</td>\n",
       "      <td>0.283177</td>\n",
       "      <td>0.230856</td>\n",
       "      <td>0.864259</td>\n",
       "      <td>0.068245</td>\n",
       "    </tr>\n",
       "    <tr>\n",
       "      <th>Panevezys</th>\n",
       "      <td>0.472711</td>\n",
       "      <td>0.718905</td>\n",
       "      <td>0.202067</td>\n",
       "      <td>0.210866</td>\n",
       "      <td>0.557449</td>\n",
       "      <td>0.844603</td>\n",
       "    </tr>\n",
       "  </tbody>\n",
       "</table>\n",
       "</div>"
      ],
      "text/plain": [
       "                  U         V         W         X         Y         Z\n",
       "Miestai                                                              \n",
       "Vilnius    0.241192  0.034356  0.227156  0.918931  0.143098  0.280160\n",
       "Kaunas     0.565478  0.376079  0.260654  0.681125  0.784865  0.461358\n",
       "Klaipeda   0.333671  0.569389  0.154794  0.591027  0.767428  0.131178\n",
       "Siauliai   0.810055  0.660338  0.283177  0.230856  0.864259  0.068245\n",
       "Panevezys  0.472711  0.718905  0.202067  0.210866  0.557449  0.844603"
      ]
     },
     "execution_count": 60,
     "metadata": {},
     "output_type": "execute_result"
    }
   ],
   "source": [
    "df.set_index('Miestai')"
   ]
  },
  {
   "cell_type": "markdown",
   "metadata": {},
   "source": [
    "## Uzduotys"
   ]
  },
  {
   "cell_type": "code",
   "execution_count": 63,
   "metadata": {},
   "outputs": [],
   "source": [
    "df = pd.read_csv(\"https://raw.githubusercontent.com/nikipaj1/teaching/main/pamoka_5/uzduotys/miestai_isvalyti.csv\")"
   ]
  },
  {
   "cell_type": "code",
   "execution_count": 67,
   "metadata": {},
   "outputs": [],
   "source": [
    "df.to_csv(\"uzduotys/data.csv\")"
   ]
  },
  {
   "cell_type": "code",
   "execution_count": 68,
   "metadata": {},
   "outputs": [],
   "source": [
    "df = pd.read_csv(\"uzduotys/data.csv\")"
   ]
  },
  {
   "cell_type": "code",
   "execution_count": null,
   "metadata": {},
   "outputs": [],
   "source": []
  },
  {
   "cell_type": "code",
   "execution_count": null,
   "metadata": {},
   "outputs": [],
   "source": []
  }
 ],
 "metadata": {
  "kernelspec": {
   "display_name": "Python 3.8.9 ('env')",
   "language": "python",
   "name": "python3"
  },
  "language_info": {
   "codemirror_mode": {
    "name": "ipython",
    "version": 3
   },
   "file_extension": ".py",
   "mimetype": "text/x-python",
   "name": "python",
   "nbconvert_exporter": "python",
   "pygments_lexer": "ipython3",
   "version": "3.8.9"
  },
  "orig_nbformat": 4,
  "vscode": {
   "interpreter": {
    "hash": "459710d4224b68e4209375f758a11e2e452d984f454b1be9f806514d9c3e9867"
   }
  }
 },
 "nbformat": 4,
 "nbformat_minor": 2
}
