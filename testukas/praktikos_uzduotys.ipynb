{
  "cells": [
    {
      "cell_type": "markdown",
      "metadata": {
        "id": "48whgSuyoMv1"
      },
      "source": [
        "# Pasikartokime"
      ]
    },
    {
      "cell_type": "markdown",
      "metadata": {
        "id": "49dkXND6ojao"
      },
      "source": [
        "## 1. NumPy"
      ]
    },
    {
      "cell_type": "markdown",
      "metadata": {
        "id": "MpqdOkn7r9oY"
      },
      "source": [
        "1. Parašykite NumPy programą, kad sukurtumėte 3x3 tapatybės matricą, t. y. įstrižainės yra 1, o likusieji yra 0."
      ]
    },
    {
      "cell_type": "code",
      "execution_count": null,
      "metadata": {
        "id": "b9lsw8JcoJ5g"
      },
      "outputs": [],
      "source": []
    },
    {
      "cell_type": "markdown",
      "metadata": {
        "id": "dF4GTxoosBW6"
      },
      "source": [
        "2. Parašykite NumPy programą, kad sukurtumėte naują nurodytos formos (5,6) ir tipo masyvą, užpildytą nuliais."
      ]
    },
    {
      "cell_type": "code",
      "execution_count": null,
      "metadata": {
        "id": "CC0e9zRssEIy"
      },
      "outputs": [],
      "source": []
    },
    {
      "cell_type": "markdown",
      "metadata": {
        "id": "4zxol9I8tcwV"
      },
      "source": [
        "3. Write a NumPy program to create a 4x4 array, now create a new array from the said array swapping first and last, second and third columns."
      ]
    },
    {
      "cell_type": "code",
      "execution_count": null,
      "metadata": {
        "id": "NpfOvt6ltcgc"
      },
      "outputs": [],
      "source": []
    },
    {
      "cell_type": "markdown",
      "metadata": {
        "id": "5EKQ8v2Gtgof"
      },
      "source": [
        "4. Parašykite NumPy programą, kad konvertuotumėte Celsijaus laipsnių reikšmes į Farenheito laipsnius ir atvirkščiai. Reikšmės saugomos NumPy masyve.\n",
        "\n",
        "Sample Array \n",
        "\n",
        "[0, 12, 45.21, 34, 99.91]\n",
        "\n",
        "\n",
        "Expected Output:\n",
        "\n",
        "[-17.78, -11.11, 7.34, 1.11, 37.73, 0. ]\n",
        "\n",
        "Values in Fahrenheit degrees:\n",
        "\n",
        "\n",
        "[ 0. 12. 45.21 34. 99.91 32. ]\n",
        "\n",
        "\n",
        "Values in Centigrade degrees:\n",
        "\n",
        "\n",
        "[-17.78 -11.11 7.34 1.11 37.73 0. ]"
      ]
    },
    {
      "cell_type": "code",
      "execution_count": null,
      "metadata": {
        "id": "bTuJe36FtvXm"
      },
      "outputs": [],
      "source": []
    },
    {
      "cell_type": "markdown",
      "metadata": {
        "id": "JpD9oSIMu0Dw"
      },
      "source": [
        "\n",
        "5 Parašykite NumPy programą, kad būtų rodomos visos 2017 m. kovo mėnesio datos.\n",
        "\n",
        "\n",
        "Expected Output:\n",
        "\n",
        "\n",
        "March, 2017\n",
        "\n",
        "\n",
        "['2017-03-01' '2017-03-02' '2017-03-03' '2017-03-04' '2017-03-05'\n",
        "'2017-03-06' '2017-03-07' '2017-03-08' '2017-03-09' '2017-03-10'\n",
        "'2017-03-11' '2017-03-12' '2017-03-13' '2017-03-14' '2017-03-15'\n",
        "'2017-03-16' '2017-03-17' '2017-03-18' '2017-03-19' '2017-03-20'\n",
        "'2017-03-21' '2017-03-22' '2017-03-23' '2017-03-24' '2017-03-25'\n",
        "'2017-03-26' '2017-03-27' '2017-03-28' '2017-03-29' '2017-03-30'\n",
        "'2017-03-31']"
      ]
    },
    {
      "cell_type": "code",
      "execution_count": null,
      "metadata": {
        "id": "mv_EaRgyu1IV"
      },
      "outputs": [],
      "source": []
    },
    {
      "cell_type": "markdown",
      "metadata": {
        "id": "H2D4vIErzdfK"
      },
      "source": [
        "## 2. Pandas"
      ]
    },
    {
      "cell_type": "markdown",
      "metadata": {
        "id": "a6K-4Uq0zhzM"
      },
      "source": [
        "### 1 JAV - Nusikalstamumas - 1960 - 2014"
      ]
    },
    {
      "cell_type": "markdown",
      "metadata": {
        "id": "4Ap8KVvaz-Ki"
      },
      "source": [
        "Importuokite duomenų rinkinį iš šio [adreso](https://raw.githubusercontent.com/guipsamora/pandas_exercises/master/04_Apply/US_Crime_Rates/US_Crime_Rates_1960_2014.csv)."
      ]
    },
    {
      "cell_type": "code",
      "execution_count": null,
      "metadata": {
        "id": "UMHJm1V2zeLt"
      },
      "outputs": [],
      "source": []
    },
    {
      "cell_type": "markdown",
      "metadata": {
        "id": "84hEebX40hfw"
      },
      "source": [
        "\n",
        "Kokie yra stulpelių šio df duomenų tipai?"
      ]
    },
    {
      "cell_type": "code",
      "execution_count": null,
      "metadata": {
        "id": "tb7JA1Ok0jSP"
      },
      "outputs": [],
      "source": []
    },
    {
      "cell_type": "markdown",
      "metadata": {
        "id": "g174goxg0j1K"
      },
      "source": [
        "Konvertuokite stulpelio Year tipą į datetime64"
      ]
    },
    {
      "cell_type": "code",
      "execution_count": null,
      "metadata": {
        "id": "vzkM_3rc0vVk"
      },
      "outputs": [],
      "source": []
    },
    {
      "cell_type": "markdown",
      "metadata": {
        "id": "rSggQzLJ1np6"
      },
      "source": [
        "Nustatykite Metų stulpelį kaip duomenų rėmelio (dataframe) indeksą"
      ]
    },
    {
      "cell_type": "code",
      "execution_count": null,
      "metadata": {
        "id": "nedt7Y4Q1pUJ"
      },
      "outputs": [],
      "source": []
    },
    {
      "cell_type": "markdown",
      "metadata": {
        "id": "0AeyWb7O1pfX"
      },
      "source": [
        "Ištrinkite stulpelį Total"
      ]
    },
    {
      "cell_type": "code",
      "execution_count": null,
      "metadata": {
        "id": "8JBbcGLe1uuA"
      },
      "outputs": [],
      "source": []
    },
    {
      "cell_type": "markdown",
      "metadata": {
        "id": "6y9qUY2T1vOi"
      },
      "source": [
        "Sugrupuokite metus pagal dešimtmečius ir susumuokit vertes"
      ]
    },
    {
      "cell_type": "code",
      "execution_count": null,
      "metadata": {
        "id": "SSM1B5ur2GqW"
      },
      "outputs": [],
      "source": []
    },
    {
      "cell_type": "markdown",
      "metadata": {
        "id": "YMr_vRPi2IDk"
      },
      "source": [
        "Atkreipkite dėmesį į stulpelio „Gyventojų skaičius“ numerį, sumuoti šį stulpelį nereikėtų"
      ]
    },
    {
      "cell_type": "code",
      "execution_count": null,
      "metadata": {
        "id": "kgBrnISS2Tyy"
      },
      "outputs": [],
      "source": []
    },
    {
      "cell_type": "markdown",
      "metadata": {
        "id": "j0YcXHQG2rwf"
      },
      "source": [
        "Koks yra pavojingiausias dešimtmetis gyventi JAV?"
      ]
    },
    {
      "cell_type": "code",
      "execution_count": null,
      "metadata": {
        "id": "OALTP87x2sZE"
      },
      "outputs": [],
      "source": []
    },
    {
      "cell_type": "markdown",
      "metadata": {
        "id": "BORSbt4x20hX"
      },
      "source": [
        "### 2 UCI Bank Marketing dataset\n",
        "\n",
        "Parsisiusti siame [linke](https://raw.githubusercontent.com/Sketchjar/MachineLearningHD/main/bank_marketing_dataset.csv)."
      ]
    },
    {
      "cell_type": "code",
      "execution_count": null,
      "metadata": {
        "id": "N343VMX321vG"
      },
      "outputs": [],
      "source": []
    },
    {
      "cell_type": "markdown",
      "metadata": {
        "id": "0ASwPIAp4b1P"
      },
      "source": [
        "\n",
        "Panagrinėkite pandų dataframe head()"
      ]
    },
    {
      "cell_type": "code",
      "execution_count": null,
      "metadata": {
        "id": "SqpI2dse4gxX"
      },
      "outputs": [],
      "source": []
    },
    {
      "cell_type": "markdown",
      "metadata": {
        "id": "PtqGsQDO4hSw"
      },
      "source": [
        "\n",
        "Patikrinkite atsitiktinių 10 eilučių iš duomenų rėmelio (dataframe)"
      ]
    },
    {
      "cell_type": "code",
      "execution_count": null,
      "metadata": {
        "id": "MTm5WvGc4n3s"
      },
      "outputs": [],
      "source": []
    },
    {
      "cell_type": "markdown",
      "metadata": {
        "id": "2H7YuT8n4oac"
      },
      "source": [
        "Patikrinkite duomenų rinkinio uodegą/pabaigą (tail) – paskutinius duomenų rinkinio įrašus"
      ]
    },
    {
      "cell_type": "code",
      "execution_count": null,
      "metadata": {
        "id": "LnoMom424x1R"
      },
      "outputs": [],
      "source": []
    },
    {
      "cell_type": "markdown",
      "metadata": {
        "id": "_jRoSlXv43Bn"
      },
      "source": [
        "\n",
        "Kokia yra pandų duomenų rinkinio forma?"
      ]
    },
    {
      "cell_type": "code",
      "execution_count": null,
      "metadata": {
        "id": "xEUQLmiq5fWH"
      },
      "outputs": [],
      "source": []
    },
    {
      "cell_type": "markdown",
      "metadata": {
        "id": "hJdWyD-H5gAu"
      },
      "source": [
        "Kokie yra stulpelių pavadinimai?"
      ]
    },
    {
      "cell_type": "code",
      "execution_count": null,
      "metadata": {
        "id": "wRxAre0p5n8E"
      },
      "outputs": [],
      "source": []
    },
    {
      "cell_type": "markdown",
      "metadata": {
        "id": "gKeXrmNtoXkL"
      },
      "source": [
        "Kas yra pandų dataframe indekso diapazonas?"
      ]
    },
    {
      "cell_type": "code",
      "execution_count": null,
      "metadata": {
        "id": "0Hor80b5oZjn"
      },
      "outputs": [],
      "source": []
    },
    {
      "cell_type": "markdown",
      "metadata": {
        "id": "JRwQQAXAoZ7u"
      },
      "source": [
        "Atspausdinkite aprašomąją visų skaitmeninių kintamųjų statistiką "
      ]
    },
    {
      "cell_type": "code",
      "execution_count": null,
      "metadata": {
        "id": "ojp3rdoAoxm7"
      },
      "outputs": [],
      "source": []
    },
    {
      "cell_type": "markdown",
      "metadata": {
        "id": "BiXAgMAbo7sl"
      },
      "source": [
        "Pervardykite visus stulpelius, šiuo atveju pašalinkite taškus"
      ]
    },
    {
      "cell_type": "code",
      "execution_count": null,
      "metadata": {
        "id": "i5AgYET1o8mw"
      },
      "outputs": [],
      "source": []
    },
    {
      "cell_type": "markdown",
      "metadata": {
        "id": "qRLrYgzZpA6M"
      },
      "source": [
        "Sukurkite histogramą amžiaus stulpeliui, kurio bins dydis = 50"
      ]
    },
    {
      "cell_type": "code",
      "execution_count": null,
      "metadata": {
        "id": "ZTP5k8t9pDUL"
      },
      "outputs": [],
      "source": []
    },
    {
      "cell_type": "markdown",
      "metadata": {
        "id": "_dvozGKBpMaG"
      },
      "source": [
        "\n",
        "Patikrinkite null vertes užduoties stulpelyje"
      ]
    },
    {
      "cell_type": "code",
      "execution_count": null,
      "metadata": {
        "id": "_xasYQY2pMz4"
      },
      "outputs": [],
      "source": []
    },
    {
      "cell_type": "markdown",
      "metadata": {
        "id": "qDOUDoy6pXQL"
      },
      "source": [
        "patikrinkite įvairias kategorines reikšmes ir jų value_counts"
      ]
    },
    {
      "cell_type": "code",
      "execution_count": null,
      "metadata": {
        "id": "rwThAq9ZpmPz"
      },
      "outputs": [],
      "source": []
    },
    {
      "cell_type": "markdown",
      "metadata": {
        "id": "jVbArgiQpuCb"
      },
      "source": [
        "Job stulpelyje priskirkite nežinomai reikšmei – dažniausiai pasitaikančią reikšmę"
      ]
    },
    {
      "cell_type": "code",
      "execution_count": null,
      "metadata": {
        "id": "cOOIj44rp4l7"
      },
      "outputs": [],
      "source": []
    },
    {
      "cell_type": "markdown",
      "metadata": {
        "id": "qcKn56TIp71t"
      },
      "source": [
        "Kategorines reikšmes konvertuokit į skaitines reikšmes"
      ]
    },
    {
      "cell_type": "code",
      "execution_count": null,
      "metadata": {
        "id": "ioK-GySdp_iJ"
      },
      "outputs": [],
      "source": []
    },
    {
      "cell_type": "markdown",
      "metadata": {
        "id": "OxyJcZobqEJ9"
      },
      "source": [
        "Sujunkite kategorinius ir skaitinius dataframe"
      ]
    },
    {
      "cell_type": "code",
      "execution_count": null,
      "metadata": {
        "id": "UAaY9dW_qEi5"
      },
      "outputs": [],
      "source": []
    },
    {
      "cell_type": "markdown",
      "metadata": {
        "id": "iZKz46lLqFNr"
      },
      "source": [
        "Sukurkite suvestinę lentelę (pivot_table) su indeksu job, stulpeliais kaip education ir vertėmis kaip amžiumi"
      ]
    },
    {
      "cell_type": "code",
      "execution_count": null,
      "metadata": {
        "id": "cyB1SQ4uqcxV"
      },
      "outputs": [],
      "source": []
    },
    {
      "cell_type": "markdown",
      "metadata": {
        "id": "li3famVGrFF2"
      },
      "source": [
        "Sukurkite dataframe koreliacijos heatmap"
      ]
    },
    {
      "cell_type": "code",
      "execution_count": null,
      "metadata": {
        "id": "G__V1_vMrQrb"
      },
      "outputs": [],
      "source": []
    },
    {
      "cell_type": "markdown",
      "metadata": {
        "id": "S-6BA9pusTrp"
      },
      "source": [
        "# Machine Learning"
      ]
    },
    {
      "cell_type": "markdown",
      "metadata": {
        "id": "Mwer8QpmwC-3"
      },
      "source": [
        "Pasiimkite duomenis loan_data.csv\n",
        "\n",
        "Pasianalizuokite duomenis taip, kaip darėme pamokų metu. Pabandykite nubraizyti grafiku, kurie jums parodys, ar yra įdomių koreliacijų ir pabandykite pritaikyti išmoktus modelius. Koks modelis geraiusiai veikia šitiems duomenims? "
      ]
    },
    {
      "cell_type": "code",
      "execution_count": null,
      "metadata": {
        "id": "GP7geoHzsXYN"
      },
      "outputs": [],
      "source": []
    }
  ],
  "metadata": {
    "colab": {
      "collapsed_sections": [
        "49dkXND6ojao",
        "H2D4vIErzdfK",
        "a6K-4Uq0zhzM"
      ],
      "provenance": []
    },
    "kernelspec": {
      "display_name": "Python 3.10.6 64-bit",
      "language": "python",
      "name": "python3"
    },
    "language_info": {
      "name": "python",
      "version": "3.10.6"
    },
    "vscode": {
      "interpreter": {
        "hash": "b0fa6594d8f4cbf19f97940f81e996739fb7646882a419484c72d19e05852a7e"
      }
    }
  },
  "nbformat": 4,
  "nbformat_minor": 0
}
