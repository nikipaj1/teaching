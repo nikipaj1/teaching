{
  "nbformat": 4,
  "nbformat_minor": 0,
  "metadata": {
    "colab": {
      "provenance": [],
      "collapsed_sections": [
        "49dkXND6ojao",
        "H2D4vIErzdfK",
        "a6K-4Uq0zhzM"
      ]
    },
    "kernelspec": {
      "name": "python3",
      "display_name": "Python 3"
    },
    "language_info": {
      "name": "python"
    }
  },
  "cells": [
    {
      "cell_type": "markdown",
      "source": [
        "# Pasikartokime"
      ],
      "metadata": {
        "id": "48whgSuyoMv1"
      }
    },
    {
      "cell_type": "markdown",
      "source": [
        "## 1. NumPy"
      ],
      "metadata": {
        "id": "49dkXND6ojao"
      }
    },
    {
      "cell_type": "markdown",
      "source": [
        "1. Parašykite NumPy programą, kad sukurtumėte 3x3 tapatybės matricą, t. y. įstrižainės yra 1, o likusieji yra 0."
      ],
      "metadata": {
        "id": "MpqdOkn7r9oY"
      }
    },
    {
      "cell_type": "code",
      "execution_count": null,
      "metadata": {
        "id": "b9lsw8JcoJ5g"
      },
      "outputs": [],
      "source": []
    },
    {
      "cell_type": "markdown",
      "source": [
        "2. Parašykite NumPy programą, kad sukurtumėte naują nurodytos formos (5,6) ir tipo masyvą, užpildytą nuliais."
      ],
      "metadata": {
        "id": "dF4GTxoosBW6"
      }
    },
    {
      "cell_type": "code",
      "source": [],
      "metadata": {
        "id": "CC0e9zRssEIy"
      },
      "execution_count": null,
      "outputs": []
    },
    {
      "cell_type": "markdown",
      "source": [
        "3. Write a NumPy program to create a 4x4 array, now create a new array from the said array swapping first and last, second and third columns."
      ],
      "metadata": {
        "id": "4zxol9I8tcwV"
      }
    },
    {
      "cell_type": "code",
      "source": [],
      "metadata": {
        "id": "NpfOvt6ltcgc"
      },
      "execution_count": null,
      "outputs": []
    },
    {
      "cell_type": "markdown",
      "source": [
        "4. Parašykite NumPy programą, kad konvertuotumėte Celsijaus laipsnių reikšmes į Farenheito laipsnius ir atvirkščiai. Reikšmės saugomos NumPy masyve.\n",
        "\n",
        "Sample Array \n",
        "\n",
        "[0, 12, 45.21, 34, 99.91]\n",
        "\n",
        "\n",
        "Expected Output:\n",
        "\n",
        "[-17.78, -11.11, 7.34, 1.11, 37.73, 0. ]\n",
        "\n",
        "Values in Fahrenheit degrees:\n",
        "\n",
        "\n",
        "[ 0. 12. 45.21 34. 99.91 32. ]\n",
        "\n",
        "\n",
        "Values in Centigrade degrees:\n",
        "\n",
        "\n",
        "[-17.78 -11.11 7.34 1.11 37.73 0. ]"
      ],
      "metadata": {
        "id": "5EKQ8v2Gtgof"
      }
    },
    {
      "cell_type": "code",
      "source": [],
      "metadata": {
        "id": "bTuJe36FtvXm"
      },
      "execution_count": null,
      "outputs": []
    },
    {
      "cell_type": "markdown",
      "source": [
        "\n",
        "5 Parašykite NumPy programą, kad būtų rodomos visos 2017 m. kovo mėnesio datos.\n",
        "\n",
        "\n",
        "Expected Output:\n",
        "\n",
        "\n",
        "March, 2017\n",
        "\n",
        "\n",
        "['2017-03-01' '2017-03-02' '2017-03-03' '2017-03-04' '2017-03-05'\n",
        "'2017-03-06' '2017-03-07' '2017-03-08' '2017-03-09' '2017-03-10'\n",
        "'2017-03-11' '2017-03-12' '2017-03-13' '2017-03-14' '2017-03-15'\n",
        "'2017-03-16' '2017-03-17' '2017-03-18' '2017-03-19' '2017-03-20'\n",
        "'2017-03-21' '2017-03-22' '2017-03-23' '2017-03-24' '2017-03-25'\n",
        "'2017-03-26' '2017-03-27' '2017-03-28' '2017-03-29' '2017-03-30'\n",
        "'2017-03-31']"
      ],
      "metadata": {
        "id": "JpD9oSIMu0Dw"
      }
    },
    {
      "cell_type": "code",
      "source": [],
      "metadata": {
        "id": "mv_EaRgyu1IV"
      },
      "execution_count": null,
      "outputs": []
    },
    {
      "cell_type": "markdown",
      "source": [
        "## 2. Pandas"
      ],
      "metadata": {
        "id": "H2D4vIErzdfK"
      }
    },
    {
      "cell_type": "markdown",
      "source": [
        "### 1 JAV - Nusikalstamumas - 1960 - 2014"
      ],
      "metadata": {
        "id": "a6K-4Uq0zhzM"
      }
    },
    {
      "cell_type": "markdown",
      "source": [
        "Importuokite duomenų rinkinį iš šio [adreso](https://raw.githubusercontent.com/guipsamora/pandas_exercises/master/04_Apply/US_Crime_Rates/US_Crime_Rates_1960_2014.csv)."
      ],
      "metadata": {
        "id": "4Ap8KVvaz-Ki"
      }
    },
    {
      "cell_type": "code",
      "source": [],
      "metadata": {
        "id": "UMHJm1V2zeLt"
      },
      "execution_count": null,
      "outputs": []
    },
    {
      "cell_type": "markdown",
      "source": [
        "\n",
        "Kokie yra stulpelių šio df duomenų tipai?"
      ],
      "metadata": {
        "id": "84hEebX40hfw"
      }
    },
    {
      "cell_type": "code",
      "source": [],
      "metadata": {
        "id": "tb7JA1Ok0jSP"
      },
      "execution_count": null,
      "outputs": []
    },
    {
      "cell_type": "markdown",
      "source": [
        "Konvertuokite stulpelio Year tipą į datetime64"
      ],
      "metadata": {
        "id": "g174goxg0j1K"
      }
    },
    {
      "cell_type": "code",
      "source": [],
      "metadata": {
        "id": "vzkM_3rc0vVk"
      },
      "execution_count": null,
      "outputs": []
    },
    {
      "cell_type": "markdown",
      "source": [
        "Nustatykite Metų stulpelį kaip duomenų rėmelio (dataframe) indeksą"
      ],
      "metadata": {
        "id": "rSggQzLJ1np6"
      }
    },
    {
      "cell_type": "code",
      "source": [],
      "metadata": {
        "id": "nedt7Y4Q1pUJ"
      },
      "execution_count": null,
      "outputs": []
    },
    {
      "cell_type": "markdown",
      "source": [
        "Ištrinkite stulpelį Total"
      ],
      "metadata": {
        "id": "0AeyWb7O1pfX"
      }
    },
    {
      "cell_type": "code",
      "source": [],
      "metadata": {
        "id": "8JBbcGLe1uuA"
      },
      "execution_count": null,
      "outputs": []
    },
    {
      "cell_type": "markdown",
      "source": [
        "Sugrupuokite metus pagal dešimtmečius ir susumuokit vertes"
      ],
      "metadata": {
        "id": "6y9qUY2T1vOi"
      }
    },
    {
      "cell_type": "code",
      "source": [],
      "metadata": {
        "id": "SSM1B5ur2GqW"
      },
      "execution_count": null,
      "outputs": []
    },
    {
      "cell_type": "markdown",
      "source": [
        "Atkreipkite dėmesį į stulpelio „Gyventojų skaičius“ numerį, sumuoti šį stulpelį nereikėtų"
      ],
      "metadata": {
        "id": "YMr_vRPi2IDk"
      }
    },
    {
      "cell_type": "code",
      "source": [],
      "metadata": {
        "id": "kgBrnISS2Tyy"
      },
      "execution_count": null,
      "outputs": []
    },
    {
      "cell_type": "markdown",
      "source": [
        "Koks yra pavojingiausias dešimtmetis gyventi JAV?"
      ],
      "metadata": {
        "id": "j0YcXHQG2rwf"
      }
    },
    {
      "cell_type": "code",
      "source": [],
      "metadata": {
        "id": "OALTP87x2sZE"
      },
      "execution_count": null,
      "outputs": []
    },
    {
      "cell_type": "markdown",
      "source": [
        "### 2 UCI Bank Marketing dataset"
      ],
      "metadata": {
        "id": "BORSbt4x20hX"
      }
    },
    {
      "cell_type": "code",
      "source": [],
      "metadata": {
        "id": "N343VMX321vG"
      },
      "execution_count": null,
      "outputs": []
    },
    {
      "cell_type": "markdown",
      "source": [
        "\n",
        "Panagrinėkite pandų dataframe head()"
      ],
      "metadata": {
        "id": "0ASwPIAp4b1P"
      }
    },
    {
      "cell_type": "code",
      "source": [],
      "metadata": {
        "id": "SqpI2dse4gxX"
      },
      "execution_count": null,
      "outputs": []
    },
    {
      "cell_type": "markdown",
      "source": [
        "\n",
        "Patikrinkite atsitiktinių 10 eilučių iš duomenų rėmelio (dataframe)"
      ],
      "metadata": {
        "id": "PtqGsQDO4hSw"
      }
    },
    {
      "cell_type": "code",
      "source": [],
      "metadata": {
        "id": "MTm5WvGc4n3s"
      },
      "execution_count": null,
      "outputs": []
    },
    {
      "cell_type": "markdown",
      "source": [
        "Patikrinkite duomenų rinkinio uodegą/pabaigą (tail) – paskutinius duomenų rinkinio įrašus"
      ],
      "metadata": {
        "id": "2H7YuT8n4oac"
      }
    },
    {
      "cell_type": "code",
      "source": [],
      "metadata": {
        "id": "LnoMom424x1R"
      },
      "execution_count": null,
      "outputs": []
    },
    {
      "cell_type": "markdown",
      "source": [
        "\n",
        "Kokia yra pandų duomenų rinkinio forma?"
      ],
      "metadata": {
        "id": "_jRoSlXv43Bn"
      }
    },
    {
      "cell_type": "code",
      "source": [],
      "metadata": {
        "id": "xEUQLmiq5fWH"
      },
      "execution_count": null,
      "outputs": []
    },
    {
      "cell_type": "markdown",
      "source": [
        "Kokie yra stulpelių pavadinimai?"
      ],
      "metadata": {
        "id": "hJdWyD-H5gAu"
      }
    },
    {
      "cell_type": "code",
      "source": [],
      "metadata": {
        "id": "wRxAre0p5n8E"
      },
      "execution_count": null,
      "outputs": []
    },
    {
      "cell_type": "markdown",
      "source": [
        "Kas yra pandų dataframe indekso diapazonas?"
      ],
      "metadata": {
        "id": "gKeXrmNtoXkL"
      }
    },
    {
      "cell_type": "code",
      "source": [],
      "metadata": {
        "id": "0Hor80b5oZjn"
      },
      "execution_count": null,
      "outputs": []
    },
    {
      "cell_type": "markdown",
      "source": [
        "Atspausdinkite aprašomąją visų skaitmeninių kintamųjų statistiką "
      ],
      "metadata": {
        "id": "JRwQQAXAoZ7u"
      }
    },
    {
      "cell_type": "code",
      "source": [],
      "metadata": {
        "id": "ojp3rdoAoxm7"
      },
      "execution_count": null,
      "outputs": []
    },
    {
      "cell_type": "markdown",
      "source": [
        "Pervardykite visus stulpelius, šiuo atveju pašalinkite taškus"
      ],
      "metadata": {
        "id": "BiXAgMAbo7sl"
      }
    },
    {
      "cell_type": "code",
      "source": [],
      "metadata": {
        "id": "i5AgYET1o8mw"
      },
      "execution_count": null,
      "outputs": []
    },
    {
      "cell_type": "markdown",
      "source": [
        "Sukurkite histogramą amžiaus stulpeliui, kurio bins dydis = 50"
      ],
      "metadata": {
        "id": "qRLrYgzZpA6M"
      }
    },
    {
      "cell_type": "code",
      "source": [],
      "metadata": {
        "id": "ZTP5k8t9pDUL"
      },
      "execution_count": null,
      "outputs": []
    },
    {
      "cell_type": "markdown",
      "source": [
        "\n",
        "Patikrinkite null vertes užduoties stulpelyje"
      ],
      "metadata": {
        "id": "_dvozGKBpMaG"
      }
    },
    {
      "cell_type": "code",
      "source": [],
      "metadata": {
        "id": "_xasYQY2pMz4"
      },
      "execution_count": null,
      "outputs": []
    },
    {
      "cell_type": "markdown",
      "source": [
        "patikrinkite įvairias kategorines reikšmes ir jų value_counts"
      ],
      "metadata": {
        "id": "qDOUDoy6pXQL"
      }
    },
    {
      "cell_type": "code",
      "source": [],
      "metadata": {
        "id": "rwThAq9ZpmPz"
      },
      "execution_count": null,
      "outputs": []
    },
    {
      "cell_type": "markdown",
      "source": [
        "Job stulpelyje priskirkite nežinomai reikšmei – dažniausiai pasitaikančią reikšmę"
      ],
      "metadata": {
        "id": "jVbArgiQpuCb"
      }
    },
    {
      "cell_type": "code",
      "source": [],
      "metadata": {
        "id": "cOOIj44rp4l7"
      },
      "execution_count": null,
      "outputs": []
    },
    {
      "cell_type": "markdown",
      "source": [
        "Kategorines reikšmes konvertuokit į skaitines reikšmes"
      ],
      "metadata": {
        "id": "qcKn56TIp71t"
      }
    },
    {
      "cell_type": "code",
      "source": [],
      "metadata": {
        "id": "ioK-GySdp_iJ"
      },
      "execution_count": null,
      "outputs": []
    },
    {
      "cell_type": "markdown",
      "source": [
        "Sujunkite kategorinius ir skaitinius dataframe"
      ],
      "metadata": {
        "id": "OxyJcZobqEJ9"
      }
    },
    {
      "cell_type": "code",
      "source": [],
      "metadata": {
        "id": "UAaY9dW_qEi5"
      },
      "execution_count": null,
      "outputs": []
    },
    {
      "cell_type": "markdown",
      "source": [
        "Sukurkite suvestinę lentelę (pivot_table) su indeksu job, stulpeliais kaip education ir vertėmis kaip amžiumi"
      ],
      "metadata": {
        "id": "iZKz46lLqFNr"
      }
    },
    {
      "cell_type": "code",
      "source": [],
      "metadata": {
        "id": "cyB1SQ4uqcxV"
      },
      "execution_count": null,
      "outputs": []
    },
    {
      "cell_type": "markdown",
      "source": [
        "Sukurkite dataframe koreliacijos heatmap"
      ],
      "metadata": {
        "id": "li3famVGrFF2"
      }
    },
    {
      "cell_type": "code",
      "source": [],
      "metadata": {
        "id": "G__V1_vMrQrb"
      },
      "execution_count": null,
      "outputs": []
    },
    {
      "cell_type": "markdown",
      "source": [
        "# Machine Learning"
      ],
      "metadata": {
        "id": "S-6BA9pusTrp"
      }
    },
    {
      "cell_type": "markdown",
      "source": [
        "Pasiimkite duomenis loan_data.csv\n",
        "\n",
        "Pasianalizuokite duomenis taip, kaip darėme pamokų metu. Pabandykite nubraizyti grafiku, kurie jums parodys, ar yra įdomių koreliacijų ir pabandykite pritaikyti išmoktus modelius. Koks modelis geraiusiai veikia šitiems duomenims? "
      ],
      "metadata": {
        "id": "Mwer8QpmwC-3"
      }
    },
    {
      "cell_type": "code",
      "source": [],
      "metadata": {
        "id": "GP7geoHzsXYN"
      },
      "execution_count": null,
      "outputs": []
    }
  ]
}