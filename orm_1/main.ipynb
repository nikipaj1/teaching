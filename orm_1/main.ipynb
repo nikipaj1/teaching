{
 "cells": [
  {
   "cell_type": "code",
   "execution_count": null,
   "metadata": {},
   "outputs": [],
   "source": [
    "!pip3 install sqlalchemy"
   ]
  },
  {
   "cell_type": "code",
   "execution_count": 8,
   "metadata": {},
   "outputs": [],
   "source": [
    "import datetime\n",
    "from sqlalchemy import Column, Integer, String, Float, DateTime, create_engine\n",
    "from sqlalchemy.ext.declarative import declarative_base"
   ]
  },
  {
   "cell_type": "code",
   "execution_count": 9,
   "metadata": {},
   "outputs": [],
   "source": [
    "engine = create_engine('sqlite:///projektai.db')\n",
    "Base = declarative_base()"
   ]
  },
  {
   "cell_type": "code",
   "execution_count": 19,
   "metadata": {},
   "outputs": [
    {
     "data": {
      "text/plain": [
       "{'tables': FacadeDict({'Projektas': Table('Projektas', MetaData(), Column('id', Integer(), table=<Projektas>, primary_key=True, nullable=False), Column('Pavadinimas', String(), table=<Projektas>), Column('Kaina', Float(), table=<Projektas>), Column('Sukurimo data', DateTime(), table=<Projektas>, default=ColumnDefault(<function datetime.utcnow at 0x117ff6830>)), schema=None)}),\n",
       " 'schema': None,\n",
       " 'naming_convention': immutabledict({'ix': 'ix_%(column_0_label)s'}),\n",
       " '_schemas': set(),\n",
       " '_sequences': {},\n",
       " '_fk_memos': defaultdict(list, {}),\n",
       " '_bind': None,\n",
       " 'dispatch': <sqlalchemy.event.base.DDLEventsDispatch at 0x117faac40>}"
      ]
     },
     "execution_count": 19,
     "metadata": {},
     "output_type": "execute_result"
    }
   ],
   "source": [
    "Base.metadata.__dict__"
   ]
  },
  {
   "cell_type": "code",
   "execution_count": 10,
   "metadata": {},
   "outputs": [],
   "source": [
    "class Projektas(Base):\n",
    "    __tablename__ = \"Projektas\"\n",
    "    id = Column(Integer, primary_key=True)\n",
    "    name = Column(\"Pavadinimas\", String)\n",
    "    price = Column(\"Kaina\", Float)\n",
    "    created_date = Column(\"Sukurimo data\", DateTime, default=datetime.datetime.utcnow)\n",
    "\n",
    "    def __init__(self, name, price):\n",
    "        self.name = name\n",
    "        self.price = price\n",
    "\n",
    "    def __repr__(self):\n",
    "        return f\"{self.id} {self.name} - {self.price}: {self.created_date}\"\n",
    "\n",
    "\n",
    "Base.metadata.create_all(engine)"
   ]
  },
  {
   "cell_type": "markdown",
   "metadata": {},
   "source": [
    "### Kaip irasyti duomenis i lentele"
   ]
  },
  {
   "cell_type": "code",
   "execution_count": 11,
   "metadata": {},
   "outputs": [
    {
     "data": {
      "text/plain": [
       "':type: sqlalchemy.orm.Session'"
      ]
     },
     "execution_count": 11,
     "metadata": {},
     "output_type": "execute_result"
    }
   ],
   "source": [
    "from sqlalchemy import create_engine\n",
    "from sqlalchemy.orm import sessionmaker\n",
    "# from projektas import Projektas\n",
    "\n",
    "engine = create_engine('sqlite:///projektai.db')\n",
    "Session = sessionmaker(bind=engine)\n",
    "session = Session()\n",
    "\"\"\":type: sqlalchemy.orm.Session\"\"\""
   ]
  },
  {
   "cell_type": "code",
   "execution_count": 12,
   "metadata": {},
   "outputs": [],
   "source": [
    "projektas1 = Projektas(\"Naujas pr.\", 20000)\n",
    "session.add(projektas1)\n",
    "session.commit()"
   ]
  },
  {
   "cell_type": "code",
   "execution_count": 13,
   "metadata": {},
   "outputs": [],
   "source": [
    "projektas2 = Projektas(\"2 projektas\", 55000)\n",
    "session.add(projektas2)\n",
    "session.commit()"
   ]
  },
  {
   "cell_type": "markdown",
   "metadata": {},
   "source": [
    "INSERT INTO Projektas (name, price)\n",
    "VALUES ('Naujas Projektas', 20000)"
   ]
  },
  {
   "cell_type": "markdown",
   "metadata": {},
   "source": [
    "## Kaip gauti duomenis is lenteles (cRud)"
   ]
  },
  {
   "cell_type": "markdown",
   "metadata": {},
   "source": [
    "SELECT * FROM Projektas;"
   ]
  },
  {
   "cell_type": "code",
   "execution_count": 14,
   "metadata": {},
   "outputs": [],
   "source": [
    "projektai = session.query(Projektas).all()"
   ]
  },
  {
   "cell_type": "code",
   "execution_count": 17,
   "metadata": {},
   "outputs": [
    {
     "name": "stdout",
     "output_type": "stream",
     "text": [
      "Naujas pr. 20000.0\n",
      "2 projektas 55000.0\n"
     ]
    }
   ],
   "source": [
    "for projektas in projektai:\n",
    "    print(projektas.name, projektas.price)\n"
   ]
  },
  {
   "cell_type": "code",
   "execution_count": 20,
   "metadata": {},
   "outputs": [],
   "source": [
    "projektas1 = session.query(Projektas).get(1)\n"
   ]
  },
  {
   "cell_type": "code",
   "execution_count": 24,
   "metadata": {},
   "outputs": [
    {
     "data": {
      "text/plain": [
       "1 Naujas pr. - 20000.0: 2022-11-14 16:29:25.917469"
      ]
     },
     "execution_count": 24,
     "metadata": {},
     "output_type": "execute_result"
    }
   ],
   "source": [
    "projektas1"
   ]
  },
  {
   "cell_type": "code",
   "execution_count": 25,
   "metadata": {},
   "outputs": [],
   "source": [
    "projektas2 = session.query(Projektas).filter_by(name=\"Naujas pr.\").one()"
   ]
  },
  {
   "cell_type": "markdown",
   "metadata": {},
   "source": [
    "Kaip ieskoti duomenu pagal sablona"
   ]
  },
  {
   "cell_type": "code",
   "execution_count": 30,
   "metadata": {},
   "outputs": [],
   "source": [
    "search = session.query(Projektas).filter(Projektas.name.ilike(\"2%\"))\n",
    "search2 = session.query(Projektas).filter(Projektas.price > 1000)\n",
    "search3 = session.query(Projektas).filter(Projektas.price > 1000, Projektas.name.ilike(\"2%\"))"
   ]
  },
  {
   "cell_type": "code",
   "execution_count": 31,
   "metadata": {},
   "outputs": [
    {
     "name": "stdout",
     "output_type": "stream",
     "text": [
      "[2 2 projektas - 55000.0: 2022-11-14 16:29:42.314332]\n"
     ]
    }
   ],
   "source": [
    "print([i for i in search])"
   ]
  },
  {
   "cell_type": "code",
   "execution_count": 33,
   "metadata": {},
   "outputs": [
    {
     "name": "stdout",
     "output_type": "stream",
     "text": [
      "[1 Naujas pr. - 20000.0: 2022-11-14 16:29:25.917469, 2 2 projektas - 55000.0: 2022-11-14 16:29:42.314332]\n"
     ]
    }
   ],
   "source": [
    "print([i for i in search2])"
   ]
  },
  {
   "cell_type": "code",
   "execution_count": 34,
   "metadata": {},
   "outputs": [
    {
     "name": "stdout",
     "output_type": "stream",
     "text": [
      "[2 2 projektas - 55000.0: 2022-11-14 16:29:42.314332]\n"
     ]
    }
   ],
   "source": [
    "print([i for i in search3])"
   ]
  },
  {
   "cell_type": "markdown",
   "metadata": {},
   "source": [
    "### Kaip pakeisti duomenis lenteleje (crUd)"
   ]
  },
  {
   "cell_type": "code",
   "execution_count": 37,
   "metadata": {},
   "outputs": [],
   "source": [
    "projektas1 = session.query(Projektas).get(1)\n",
    "projektas1.price = 22000\n",
    "session.commit()"
   ]
  },
  {
   "cell_type": "code",
   "execution_count": 42,
   "metadata": {},
   "outputs": [],
   "source": [
    "projektas2 = session.query(Projektas).filter_by(name=\"2 projektas\").one()\n",
    "projektas2.name = \"2 projektas tikrai\"\n",
    "session.commit()"
   ]
  },
  {
   "cell_type": "code",
   "execution_count": 46,
   "metadata": {},
   "outputs": [
    {
     "data": {
      "text/plain": [
       "2 2 projektas tikrai - 55000.0: 2022-11-14 16:29:42.314332"
      ]
     },
     "execution_count": 46,
     "metadata": {},
     "output_type": "execute_result"
    }
   ],
   "source": [
    "session.query(Projektas).filter_by(name=\"2 projektas tikrai\").one()"
   ]
  },
  {
   "cell_type": "markdown",
   "metadata": {},
   "source": [
    "### Kaip istrinti duomenis lenteleje (cruD)"
   ]
  },
  {
   "cell_type": "code",
   "execution_count": 49,
   "metadata": {},
   "outputs": [],
   "source": [
    "projektas1 = session.query(Projektas).filter_by(name=\"Naujas pr.\").one()\n",
    "session.delete(projektas1)\n",
    "session.commit()"
   ]
  },
  {
   "cell_type": "code",
   "execution_count": null,
   "metadata": {},
   "outputs": [],
   "source": []
  },
  {
   "cell_type": "code",
   "execution_count": null,
   "metadata": {},
   "outputs": [],
   "source": []
  }
 ],
 "metadata": {
  "kernelspec": {
   "display_name": "Python 3.10.6 64-bit",
   "language": "python",
   "name": "python3"
  },
  "language_info": {
   "codemirror_mode": {
    "name": "ipython",
    "version": 3
   },
   "file_extension": ".py",
   "mimetype": "text/x-python",
   "name": "python",
   "nbconvert_exporter": "python",
   "pygments_lexer": "ipython3",
   "version": "3.10.6"
  },
  "orig_nbformat": 4,
  "vscode": {
   "interpreter": {
    "hash": "b0fa6594d8f4cbf19f97940f81e996739fb7646882a419484c72d19e05852a7e"
   }
  }
 },
 "nbformat": 4,
 "nbformat_minor": 2
}
